{
  "nbformat": 4,
  "nbformat_minor": 0,
  "metadata": {
    "colab": {
      "name": "L3_SETHU_CLASSIFICATION _PROJECT.ipynb",
      "provenance": [],
      "collapsed_sections": []
    },
    "kernelspec": {
      "name": "python3",
      "display_name": "Python 3"
    },
    "language_info": {
      "name": "python"
    }
  },
  "cells": [
    {
      "cell_type": "code",
      "execution_count": 1,
      "metadata": {
        "colab": {
          "base_uri": "https://localhost:8080/"
        },
        "id": "SVMMH74UtmUY",
        "outputId": "104f5f09-4ee0-4a4d-de39-35e48cf1de55"
      },
      "outputs": [
        {
          "output_type": "stream",
          "name": "stdout",
          "text": [
            "Mounted at /content/drive\n"
          ]
        }
      ],
      "source": [
        "from google.colab import drive\n",
        "drive.mount('/content/drive')"
      ]
    },
    {
      "cell_type": "markdown",
      "source": [
        "##IMPORTING LIBRARY"
      ],
      "metadata": {
        "id": "VFbvz6mut_ec"
      }
    },
    {
      "cell_type": "code",
      "source": [
        "import pandas as pd  #for create and read the data\n",
        "import numpy as np   # for mathematics calculations\n",
        "import matplotlib.pyplot as plt                                 #for visualization\n",
        "import seaborn as sns                                           # for visualization\n",
        "sns.set(style=\"white\")                                          #white background style for seaborn plots\n",
        "from sklearn import preprocessing\n",
        "from sklearn.preprocessing import MinMaxScaler, StandardScaler  #for normalization of data\n",
        "from sklearn.model_selection import train_test_split\n",
        "from sklearn.linear_model import LogisticRegression\n",
        "from sklearn.metrics import f1_score\n",
        "from sklearn.ensemble import RandomForestClassifier\n",
        "from sklearn.preprocessing import StandardScaler \n",
        "from sklearn.metrics import confusion_matrix\n",
        "from sklearn.metrics import precision_score, recall_score, accuracy_score\n",
        "from sklearn.tree import DecisionTreeClassifier # Import Decision Tree Classifier\n",
        "from sklearn.naive_bayes import GaussianNB \n",
        "from sklearn.neighbors import KNeighborsClassifier\n",
        "from sklearn.model_selection import cross_val_score\n",
        "from sklearn.model_selection import RepeatedStratifiedKFold\n",
        "from sklearn.model_selection import GridSearchCV\n",
        "from sklearn.ensemble import AdaBoostClassifier\n",
        "from sklearn.ensemble import StackingClassifier\n",
        "from sklearn.metrics import classification_report\n",
        "from numpy import mean\n",
        "from numpy import std\n",
        "\n",
        "import warnings\n",
        "warnings.filterwarnings('ignore')\n"
      ],
      "metadata": {
        "id": "BsiWbKJWt0Ag"
      },
      "execution_count": 99,
      "outputs": []
    },
    {
      "cell_type": "code",
      "source": [
        "house_data=pd.read_csv(\"/content/drive/MyDrive/ML/PROJECT/DS3_C6_S2_Classification_HouseGrade_Data_Project.csv\")\n",
        "house_data"
      ],
      "metadata": {
        "colab": {
          "base_uri": "https://localhost:8080/",
          "height": 424
        },
        "id": "kQ6tbru2ugFK",
        "outputId": "8cd01515-08ca-4aa9-b4f2-53d7c5af1bb4"
      },
      "execution_count": 3,
      "outputs": [
        {
          "output_type": "execute_result",
          "data": {
            "text/plain": [
              "        Id  Area(total)  Trooms  Nbedrooms  Nbwashrooms  Twashrooms roof  \\\n",
              "0        1          339       6          5            4           6   NO   \n",
              "1        2          358       5          4            3           4  YES   \n",
              "2        3          324       7          5            4           5  YES   \n",
              "3        4          330       6          4            3           5  YES   \n",
              "4        5          320       7          4            4           5   NO   \n",
              "...    ...          ...     ...        ...          ...         ...  ...   \n",
              "2995  2996          341       9          6            5           7  YES   \n",
              "2996  2997          292       9          8            7           8  YES   \n",
              "2997  2998          328       7          4            3           5   NO   \n",
              "2998  2999          293       9          7            7           8   NO   \n",
              "2999  3000          343       7          6            6           8   NO   \n",
              "\n",
              "      Roof(Area)  Lawn(Area)  Nfloors  API  ANB  Expected price Grade  \n",
              "0              0          76        2   79    6            3481     D  \n",
              "1             71          96        3   72    4            3510     D  \n",
              "2            101         117        5   64    3            3748     C  \n",
              "3            101          82        2   59    2            3134     D  \n",
              "4              0          75        3   40    1            3843     D  \n",
              "...          ...         ...      ...  ...  ...             ...   ...  \n",
              "2995          95         115        5   90    2            4246     B  \n",
              "2996         116          87        7   97    4            3753     A  \n",
              "2997           0          78        5   95    6            3607     D  \n",
              "2998           0          78        7   51    3            4198     B  \n",
              "2999           0         108        5   95    3            4105     C  \n",
              "\n",
              "[3000 rows x 14 columns]"
            ],
            "text/html": [
              "\n",
              "  <div id=\"df-5ee71d5f-3183-4ed6-86b4-95c7607f1a19\">\n",
              "    <div class=\"colab-df-container\">\n",
              "      <div>\n",
              "<style scoped>\n",
              "    .dataframe tbody tr th:only-of-type {\n",
              "        vertical-align: middle;\n",
              "    }\n",
              "\n",
              "    .dataframe tbody tr th {\n",
              "        vertical-align: top;\n",
              "    }\n",
              "\n",
              "    .dataframe thead th {\n",
              "        text-align: right;\n",
              "    }\n",
              "</style>\n",
              "<table border=\"1\" class=\"dataframe\">\n",
              "  <thead>\n",
              "    <tr style=\"text-align: right;\">\n",
              "      <th></th>\n",
              "      <th>Id</th>\n",
              "      <th>Area(total)</th>\n",
              "      <th>Trooms</th>\n",
              "      <th>Nbedrooms</th>\n",
              "      <th>Nbwashrooms</th>\n",
              "      <th>Twashrooms</th>\n",
              "      <th>roof</th>\n",
              "      <th>Roof(Area)</th>\n",
              "      <th>Lawn(Area)</th>\n",
              "      <th>Nfloors</th>\n",
              "      <th>API</th>\n",
              "      <th>ANB</th>\n",
              "      <th>Expected price</th>\n",
              "      <th>Grade</th>\n",
              "    </tr>\n",
              "  </thead>\n",
              "  <tbody>\n",
              "    <tr>\n",
              "      <th>0</th>\n",
              "      <td>1</td>\n",
              "      <td>339</td>\n",
              "      <td>6</td>\n",
              "      <td>5</td>\n",
              "      <td>4</td>\n",
              "      <td>6</td>\n",
              "      <td>NO</td>\n",
              "      <td>0</td>\n",
              "      <td>76</td>\n",
              "      <td>2</td>\n",
              "      <td>79</td>\n",
              "      <td>6</td>\n",
              "      <td>3481</td>\n",
              "      <td>D</td>\n",
              "    </tr>\n",
              "    <tr>\n",
              "      <th>1</th>\n",
              "      <td>2</td>\n",
              "      <td>358</td>\n",
              "      <td>5</td>\n",
              "      <td>4</td>\n",
              "      <td>3</td>\n",
              "      <td>4</td>\n",
              "      <td>YES</td>\n",
              "      <td>71</td>\n",
              "      <td>96</td>\n",
              "      <td>3</td>\n",
              "      <td>72</td>\n",
              "      <td>4</td>\n",
              "      <td>3510</td>\n",
              "      <td>D</td>\n",
              "    </tr>\n",
              "    <tr>\n",
              "      <th>2</th>\n",
              "      <td>3</td>\n",
              "      <td>324</td>\n",
              "      <td>7</td>\n",
              "      <td>5</td>\n",
              "      <td>4</td>\n",
              "      <td>5</td>\n",
              "      <td>YES</td>\n",
              "      <td>101</td>\n",
              "      <td>117</td>\n",
              "      <td>5</td>\n",
              "      <td>64</td>\n",
              "      <td>3</td>\n",
              "      <td>3748</td>\n",
              "      <td>C</td>\n",
              "    </tr>\n",
              "    <tr>\n",
              "      <th>3</th>\n",
              "      <td>4</td>\n",
              "      <td>330</td>\n",
              "      <td>6</td>\n",
              "      <td>4</td>\n",
              "      <td>3</td>\n",
              "      <td>5</td>\n",
              "      <td>YES</td>\n",
              "      <td>101</td>\n",
              "      <td>82</td>\n",
              "      <td>2</td>\n",
              "      <td>59</td>\n",
              "      <td>2</td>\n",
              "      <td>3134</td>\n",
              "      <td>D</td>\n",
              "    </tr>\n",
              "    <tr>\n",
              "      <th>4</th>\n",
              "      <td>5</td>\n",
              "      <td>320</td>\n",
              "      <td>7</td>\n",
              "      <td>4</td>\n",
              "      <td>4</td>\n",
              "      <td>5</td>\n",
              "      <td>NO</td>\n",
              "      <td>0</td>\n",
              "      <td>75</td>\n",
              "      <td>3</td>\n",
              "      <td>40</td>\n",
              "      <td>1</td>\n",
              "      <td>3843</td>\n",
              "      <td>D</td>\n",
              "    </tr>\n",
              "    <tr>\n",
              "      <th>...</th>\n",
              "      <td>...</td>\n",
              "      <td>...</td>\n",
              "      <td>...</td>\n",
              "      <td>...</td>\n",
              "      <td>...</td>\n",
              "      <td>...</td>\n",
              "      <td>...</td>\n",
              "      <td>...</td>\n",
              "      <td>...</td>\n",
              "      <td>...</td>\n",
              "      <td>...</td>\n",
              "      <td>...</td>\n",
              "      <td>...</td>\n",
              "      <td>...</td>\n",
              "    </tr>\n",
              "    <tr>\n",
              "      <th>2995</th>\n",
              "      <td>2996</td>\n",
              "      <td>341</td>\n",
              "      <td>9</td>\n",
              "      <td>6</td>\n",
              "      <td>5</td>\n",
              "      <td>7</td>\n",
              "      <td>YES</td>\n",
              "      <td>95</td>\n",
              "      <td>115</td>\n",
              "      <td>5</td>\n",
              "      <td>90</td>\n",
              "      <td>2</td>\n",
              "      <td>4246</td>\n",
              "      <td>B</td>\n",
              "    </tr>\n",
              "    <tr>\n",
              "      <th>2996</th>\n",
              "      <td>2997</td>\n",
              "      <td>292</td>\n",
              "      <td>9</td>\n",
              "      <td>8</td>\n",
              "      <td>7</td>\n",
              "      <td>8</td>\n",
              "      <td>YES</td>\n",
              "      <td>116</td>\n",
              "      <td>87</td>\n",
              "      <td>7</td>\n",
              "      <td>97</td>\n",
              "      <td>4</td>\n",
              "      <td>3753</td>\n",
              "      <td>A</td>\n",
              "    </tr>\n",
              "    <tr>\n",
              "      <th>2997</th>\n",
              "      <td>2998</td>\n",
              "      <td>328</td>\n",
              "      <td>7</td>\n",
              "      <td>4</td>\n",
              "      <td>3</td>\n",
              "      <td>5</td>\n",
              "      <td>NO</td>\n",
              "      <td>0</td>\n",
              "      <td>78</td>\n",
              "      <td>5</td>\n",
              "      <td>95</td>\n",
              "      <td>6</td>\n",
              "      <td>3607</td>\n",
              "      <td>D</td>\n",
              "    </tr>\n",
              "    <tr>\n",
              "      <th>2998</th>\n",
              "      <td>2999</td>\n",
              "      <td>293</td>\n",
              "      <td>9</td>\n",
              "      <td>7</td>\n",
              "      <td>7</td>\n",
              "      <td>8</td>\n",
              "      <td>NO</td>\n",
              "      <td>0</td>\n",
              "      <td>78</td>\n",
              "      <td>7</td>\n",
              "      <td>51</td>\n",
              "      <td>3</td>\n",
              "      <td>4198</td>\n",
              "      <td>B</td>\n",
              "    </tr>\n",
              "    <tr>\n",
              "      <th>2999</th>\n",
              "      <td>3000</td>\n",
              "      <td>343</td>\n",
              "      <td>7</td>\n",
              "      <td>6</td>\n",
              "      <td>6</td>\n",
              "      <td>8</td>\n",
              "      <td>NO</td>\n",
              "      <td>0</td>\n",
              "      <td>108</td>\n",
              "      <td>5</td>\n",
              "      <td>95</td>\n",
              "      <td>3</td>\n",
              "      <td>4105</td>\n",
              "      <td>C</td>\n",
              "    </tr>\n",
              "  </tbody>\n",
              "</table>\n",
              "<p>3000 rows × 14 columns</p>\n",
              "</div>\n",
              "      <button class=\"colab-df-convert\" onclick=\"convertToInteractive('df-5ee71d5f-3183-4ed6-86b4-95c7607f1a19')\"\n",
              "              title=\"Convert this dataframe to an interactive table.\"\n",
              "              style=\"display:none;\">\n",
              "        \n",
              "  <svg xmlns=\"http://www.w3.org/2000/svg\" height=\"24px\"viewBox=\"0 0 24 24\"\n",
              "       width=\"24px\">\n",
              "    <path d=\"M0 0h24v24H0V0z\" fill=\"none\"/>\n",
              "    <path d=\"M18.56 5.44l.94 2.06.94-2.06 2.06-.94-2.06-.94-.94-2.06-.94 2.06-2.06.94zm-11 1L8.5 8.5l.94-2.06 2.06-.94-2.06-.94L8.5 2.5l-.94 2.06-2.06.94zm10 10l.94 2.06.94-2.06 2.06-.94-2.06-.94-.94-2.06-.94 2.06-2.06.94z\"/><path d=\"M17.41 7.96l-1.37-1.37c-.4-.4-.92-.59-1.43-.59-.52 0-1.04.2-1.43.59L10.3 9.45l-7.72 7.72c-.78.78-.78 2.05 0 2.83L4 21.41c.39.39.9.59 1.41.59.51 0 1.02-.2 1.41-.59l7.78-7.78 2.81-2.81c.8-.78.8-2.07 0-2.86zM5.41 20L4 18.59l7.72-7.72 1.47 1.35L5.41 20z\"/>\n",
              "  </svg>\n",
              "      </button>\n",
              "      \n",
              "  <style>\n",
              "    .colab-df-container {\n",
              "      display:flex;\n",
              "      flex-wrap:wrap;\n",
              "      gap: 12px;\n",
              "    }\n",
              "\n",
              "    .colab-df-convert {\n",
              "      background-color: #E8F0FE;\n",
              "      border: none;\n",
              "      border-radius: 50%;\n",
              "      cursor: pointer;\n",
              "      display: none;\n",
              "      fill: #1967D2;\n",
              "      height: 32px;\n",
              "      padding: 0 0 0 0;\n",
              "      width: 32px;\n",
              "    }\n",
              "\n",
              "    .colab-df-convert:hover {\n",
              "      background-color: #E2EBFA;\n",
              "      box-shadow: 0px 1px 2px rgba(60, 64, 67, 0.3), 0px 1px 3px 1px rgba(60, 64, 67, 0.15);\n",
              "      fill: #174EA6;\n",
              "    }\n",
              "\n",
              "    [theme=dark] .colab-df-convert {\n",
              "      background-color: #3B4455;\n",
              "      fill: #D2E3FC;\n",
              "    }\n",
              "\n",
              "    [theme=dark] .colab-df-convert:hover {\n",
              "      background-color: #434B5C;\n",
              "      box-shadow: 0px 1px 3px 1px rgba(0, 0, 0, 0.15);\n",
              "      filter: drop-shadow(0px 1px 2px rgba(0, 0, 0, 0.3));\n",
              "      fill: #FFFFFF;\n",
              "    }\n",
              "  </style>\n",
              "\n",
              "      <script>\n",
              "        const buttonEl =\n",
              "          document.querySelector('#df-5ee71d5f-3183-4ed6-86b4-95c7607f1a19 button.colab-df-convert');\n",
              "        buttonEl.style.display =\n",
              "          google.colab.kernel.accessAllowed ? 'block' : 'none';\n",
              "\n",
              "        async function convertToInteractive(key) {\n",
              "          const element = document.querySelector('#df-5ee71d5f-3183-4ed6-86b4-95c7607f1a19');\n",
              "          const dataTable =\n",
              "            await google.colab.kernel.invokeFunction('convertToInteractive',\n",
              "                                                     [key], {});\n",
              "          if (!dataTable) return;\n",
              "\n",
              "          const docLinkHtml = 'Like what you see? Visit the ' +\n",
              "            '<a target=\"_blank\" href=https://colab.research.google.com/notebooks/data_table.ipynb>data table notebook</a>'\n",
              "            + ' to learn more about interactive tables.';\n",
              "          element.innerHTML = '';\n",
              "          dataTable['output_type'] = 'display_data';\n",
              "          await google.colab.output.renderOutput(dataTable, element);\n",
              "          const docLink = document.createElement('div');\n",
              "          docLink.innerHTML = docLinkHtml;\n",
              "          element.appendChild(docLink);\n",
              "        }\n",
              "      </script>\n",
              "    </div>\n",
              "  </div>\n",
              "  "
            ]
          },
          "metadata": {},
          "execution_count": 3
        }
      ]
    },
    {
      "cell_type": "code",
      "source": [
        "#checking the null values\n",
        "house_data.isnull().sum()"
      ],
      "metadata": {
        "colab": {
          "base_uri": "https://localhost:8080/"
        },
        "id": "221xPlyaTUZB",
        "outputId": "705e638d-b6cc-4c29-da13-fc07560befbb"
      },
      "execution_count": 98,
      "outputs": [
        {
          "output_type": "execute_result",
          "data": {
            "text/plain": [
              "Id                0\n",
              "Area(total)       0\n",
              "Trooms            0\n",
              "Nbedrooms         0\n",
              "Nbwashrooms       0\n",
              "Twashrooms        0\n",
              "roof              0\n",
              "Roof(Area)        0\n",
              "Lawn(Area)        0\n",
              "Nfloors           0\n",
              "API               0\n",
              "ANB               0\n",
              "Expected price    0\n",
              "Grade             0\n",
              "roof_encoder      0\n",
              "Grade_encoder     0\n",
              "dtype: int64"
            ]
          },
          "metadata": {},
          "execution_count": 98
        }
      ]
    },
    {
      "cell_type": "markdown",
      "source": [
        "There are no missing values in the dataset"
      ],
      "metadata": {
        "id": "s4TnwIrMTeQ4"
      }
    },
    {
      "cell_type": "markdown",
      "source": [
        "##EDA"
      ],
      "metadata": {
        "id": "emUO24SkwgUP"
      }
    },
    {
      "cell_type": "code",
      "source": [
        "def bar_percentage(ax, count=\"number of rows in data \"):\n",
        "    for bar in ax.patches:                                            # ax.patches returns the rectange object from matplotlib\n",
        "        percentage = f\"{round((bar.get_height() / count) *100, 2)}%\"  # first it calculate the bar height and then dividing by the number of row(to calculate percentage)\n",
        "                                                                            # in data and multiply with 100 to get the percentage and rounding of by 2 numbers.\n",
        "        x = bar.get_x() + bar.get_width() /2                          # get_x: returns the left corrdinate of the rectange, get_width: returns width of rectagle\n",
        "        y = bar.get_height()                                          # get_height: returns height of rectangle bar.\n",
        "        ax.annotate(percentage, (x, y), va = \"bottom\", ha = \"center\") # va: Vertical axis: -> top means percentage would bneath the bar head. top, bottom or center \n",
        "                                                                      # ha: Horizontal axis:-> how you want to keep it. can be changed to center, left, right.\n",
        "                                                                      # annotate: used to annotate over objects. here objects are the bars \n",
        "    return(plt.show())"
      ],
      "metadata": {
        "id": "C9bCcYkavBpv"
      },
      "execution_count": 4,
      "outputs": []
    },
    {
      "cell_type": "markdown",
      "source": [
        "##UNIVARIATE ANALYSIS"
      ],
      "metadata": {
        "id": "UHgFZghtwrjG"
      }
    },
    {
      "cell_type": "code",
      "source": [
        "plt.figure(figsize=(25,5))\n",
        "a=sns.histplot(house_data[\"Area(total)\"],color=\"m\")\n",
        "plt.title(\"TOTAL AREA\")\n",
        "bar_percentage(a,len(house_data))"
      ],
      "metadata": {
        "colab": {
          "base_uri": "https://localhost:8080/",
          "height": 306
        },
        "id": "MXpQntLUwqhu",
        "outputId": "65fdcf71-000e-4e8e-95a8-4a319b8d00bb"
      },
      "execution_count": 5,
      "outputs": [
        {
          "output_type": "display_data",
          "data": {
            "text/plain": [
              "<Figure size 1800x360 with 1 Axes>"
            ],
            "image/png": "[encoded data removed]"
          },
          "metadata": {}
        }
      ]
    },
    {
      "cell_type": "code",
      "source": [
        "plt.figure(figsize=(25,5))\n",
        "b=sns.countplot(house_data[\"Trooms\"],palette=\"Accent\")\n",
        "plt.title(\"TOTAL ROOMS\")\n",
        "bar_percentage(b,len(house_data))"
      ],
      "metadata": {
        "colab": {
          "base_uri": "https://localhost:8080/",
          "height": 306
        },
        "id": "RqrjtViDwlT5",
        "outputId": "8d459c60-ae5c-4524-ec52-c07e18d52a36"
      },
      "execution_count": 6,
      "outputs": [
        {
          "output_type": "display_data",
          "data": {
            "text/plain": [
              "<Figure size 1800x360 with 1 Axes>"
            ],
            "image/png": "[encoded data removed]"
          },
          "metadata": {}
        }
      ]
    },
    {
      "cell_type": "markdown",
      "source": [
        "The most of the houses having  9-6 rooms\n",
        " "
      ],
      "metadata": {
        "id": "CMkbU1zsLtZY"
      }
    },
    {
      "cell_type": "code",
      "source": [
        "plt.figure(figsize=(25,5))\n",
        "c=sns.countplot(house_data[\"Nbedrooms\"],palette=\"Accent\")\n",
        "plt.title(\"Number of  bedrooms\")\n",
        "bar_percentage(c,len(house_data))"
      ],
      "metadata": {
        "colab": {
          "base_uri": "https://localhost:8080/",
          "height": 306
        },
        "id": "Q7PC0pMdyfGK",
        "outputId": "d5ff1801-7ca4-40f2-cf15-ae3f6b7b044d"
      },
      "execution_count": 7,
      "outputs": [
        {
          "output_type": "display_data",
          "data": {
            "text/plain": [
              "<Figure size 1800x360 with 1 Axes>"
            ],
            "image/png": "[encoded data removed]"
          },
          "metadata": {}
        }
      ]
    },
    {
      "cell_type": "markdown",
      "source": [
        "The maximum numbers of bed rooms in houses is 4 - 5 "
      ],
      "metadata": {
        "id": "5DcVJQbTMKg0"
      }
    },
    {
      "cell_type": "code",
      "source": [
        "plt.figure(figsize=(25,5))\n",
        "d=sns.countplot(house_data[\"Nbwashrooms\"],palette=\"Accent\")\n",
        "plt.title(\"Number of  washrooms\")\n",
        "bar_percentage(d,len(house_data))"
      ],
      "metadata": {
        "colab": {
          "base_uri": "https://localhost:8080/",
          "height": 306
        },
        "id": "f1010z0BzAmD",
        "outputId": "7a29214a-e0b6-4f54-cb55-cfb4ce2d51ac"
      },
      "execution_count": 8,
      "outputs": [
        {
          "output_type": "display_data",
          "data": {
            "text/plain": [
              "<Figure size 1800x360 with 1 Axes>"
            ],
            "image/png": "[encoded data removed]"
          },
          "metadata": {}
        }
      ]
    },
    {
      "cell_type": "markdown",
      "source": [
        "The maximum numbers of attached washrooms with bedrooms in houses is 4 - 5"
      ],
      "metadata": {
        "id": "QUYxLEJYMp5K"
      }
    },
    {
      "cell_type": "code",
      "source": [
        "plt.figure(figsize=(25,5))\n",
        "e=sns.countplot(house_data[\"Twashrooms\"],palette=\"Accent\")\n",
        "plt.title(\" Total Number of  washrooms\")\n",
        "bar_percentage(e,len(house_data))"
      ],
      "metadata": {
        "colab": {
          "base_uri": "https://localhost:8080/",
          "height": 306
        },
        "id": "VlyhhKxwzQvp",
        "outputId": "7208e5b1-a345-4ddb-9a01-401f77b4c289"
      },
      "execution_count": 9,
      "outputs": [
        {
          "output_type": "display_data",
          "data": {
            "text/plain": [
              "<Figure size 1800x360 with 1 Axes>"
            ],
            "image/png": "[encoded data removed]"
          },
          "metadata": {}
        }
      ]
    },
    {
      "cell_type": "markdown",
      "source": [
        "The Most of houses having 5-7 washrooms in their houses"
      ],
      "metadata": {
        "id": "OwZSp_RCaM_n"
      }
    },
    {
      "cell_type": "code",
      "source": [
        "fig,ax=plt.subplots(figsize=(25,5))\n",
        "percentage = house_data[\"roof\"].value_counts()  \n",
        "labels = list(house_data[\"roof\"].value_counts().index) # Converting the index of value counts into list\n",
        "plt.pie(percentage,labels = labels, autopct= \"%0.2f%%\")# autopct: to print the percentage on pie wedge. 2 decimal points used\n",
        "plt.title(\"ROOF\")\n",
        "plt.show()"
      ],
      "metadata": {
        "colab": {
          "base_uri": "https://localhost:8080/",
          "height": 319
        },
        "id": "v5DtLzNU2NLQ",
        "outputId": "ba843036-ca67-4665-d0a8-a27103aa15b7"
      },
      "execution_count": 10,
      "outputs": [
        {
          "output_type": "display_data",
          "data": {
            "text/plain": [
              "<Figure size 1800x360 with 1 Axes>"
            ],
            "image/png": "[encoded data removed]"
          },
          "metadata": {}
        }
      ]
    },
    {
      "cell_type": "markdown",
      "source": [
        "There is 51% of houses with roof and remaning 49% of houses without roof."
      ],
      "metadata": {
        "id": "CTgmZmrWNUwC"
      }
    },
    {
      "cell_type": "code",
      "source": [
        "plt.figure(figsize=(25,5))\n",
        "g=sns.countplot(house_data[\"Nfloors\"],palette=\"Accent\")\n",
        "plt.title(\"Number of Floors\")\n",
        "bar_percentage(g,len(house_data))"
      ],
      "metadata": {
        "colab": {
          "base_uri": "https://localhost:8080/",
          "height": 306
        },
        "id": "AbdYgT5A0AxI",
        "outputId": "68ffc273-7a1f-4cb8-b9d8-4a36727e3a7a"
      },
      "execution_count": 11,
      "outputs": [
        {
          "output_type": "display_data",
          "data": {
            "text/plain": [
              "<Figure size 1800x360 with 1 Axes>"
            ],
            "image/png": "[encoded data removed]"
          },
          "metadata": {}
        }
      ]
    },
    {
      "cell_type": "markdown",
      "source": [
        "The most of the houses having with 3-5 floors and minimum single floor\n"
      ],
      "metadata": {
        "id": "Rb57qByLPTMD"
      }
    },
    {
      "cell_type": "code",
      "source": [
        "\n",
        "plt.figure(figsize=(25,5))\n",
        "h=sns.histplot(house_data[\"API\"])\n",
        "plt.title(\"API\")\n",
        "bar_percentage(h,len(house_data))"
      ],
      "metadata": {
        "colab": {
          "base_uri": "https://localhost:8080/",
          "height": 306
        },
        "id": "_CV6PbW20aA2",
        "outputId": "6d30309d-dc75-4168-bbe7-98c7470032c1"
      },
      "execution_count": 12,
      "outputs": [
        {
          "output_type": "display_data",
          "data": {
            "text/plain": [
              "<Figure size 1800x360 with 1 Axes>"
            ],
            "image/png": "[encoded data removed]"
          },
          "metadata": {}
        }
      ]
    },
    {
      "cell_type": "markdown",
      "source": [
        "The API 40-70 is good and 70-100 is moderate "
      ],
      "metadata": {
        "id": "fqmAByfPP1ui"
      }
    },
    {
      "cell_type": "code",
      "source": [
        "plt.figure(figsize=(25,5))\n",
        "i=sns.histplot(house_data[\"Expected price\"])\n",
        "plt.title(\"Expected price\")\n",
        "bar_percentage(i,len(house_data))"
      ],
      "metadata": {
        "colab": {
          "base_uri": "https://localhost:8080/",
          "height": 306
        },
        "id": "Nt80MVXe0v4c",
        "outputId": "8ab22a12-a80a-4845-96ee-7225aa7ac4d3"
      },
      "execution_count": 13,
      "outputs": [
        {
          "output_type": "display_data",
          "data": {
            "text/plain": [
              "<Figure size 1800x360 with 1 Axes>"
            ],
            "image/png": "[encoded data removed]"
          },
          "metadata": {}
        }
      ]
    },
    {
      "cell_type": "markdown",
      "source": [
        "The maximum number of the customers expected of the house price between 3500-4000"
      ],
      "metadata": {
        "id": "I3WTOrxWQ1fv"
      }
    },
    {
      "cell_type": "code",
      "source": [
        "plt.figure(figsize=(25,5))\n",
        "J=sns.countplot(house_data[\"Grade\"],palette=\"Accent\")\n",
        "plt.title(\"GRADE\")\n",
        "bar_percentage(J,len(house_data))"
      ],
      "metadata": {
        "colab": {
          "base_uri": "https://localhost:8080/",
          "height": 304
        },
        "id": "wLeYvHAp1FlW",
        "outputId": "0d09a546-8920-4de3-ed32-0f5a08b24c4d"
      },
      "execution_count": 14,
      "outputs": [
        {
          "output_type": "display_data",
          "data": {
            "text/plain": [
              "<Figure size 1800x360 with 1 Axes>"
            ],
            "image/png": "[encoded data removed]"
          },
          "metadata": {}
        }
      ]
    },
    {
      "cell_type": "markdown",
      "source": [
        "The most of the  Houses are in D-Grade and minimum number of the houses are in E-Grade "
      ],
      "metadata": {
        "id": "35oBJ-EJTzPV"
      }
    },
    {
      "cell_type": "markdown",
      "source": [
        "##BIVARIATE ANALYSIS"
      ],
      "metadata": {
        "id": "GnLB4s_f2h1d"
      }
    },
    {
      "cell_type": "code",
      "source": [
        "fig,ax=plt.subplots(figsize=(25,10))\n",
        "A=sns.barplot(x=\"Grade\",y=\"Trooms\",data=house_data,palette=\"Accent\")\n",
        "plt.title(\"GRADE WISE TOTAL ROOMS\")\n",
        "bar_percentage(A,len(house_data))\n",
        "plt.show()"
      ],
      "metadata": {
        "colab": {
          "base_uri": "https://localhost:8080/",
          "height": 543
        },
        "id": "G0yx_-Qr14nS",
        "outputId": "ad2968fb-3f93-4aeb-cb5c-4015e7e9fbdb"
      },
      "execution_count": 15,
      "outputs": [
        {
          "output_type": "display_data",
          "data": {
            "text/plain": [
              "<Figure size 1800x720 with 1 Axes>"
            ],
            "image/png": "[encoded data removed]"
          },
          "metadata": {}
        }
      ]
    },
    {
      "cell_type": "markdown",
      "source": [
        "The most of the houses are in A-Grade and also having maximum number of rooms"
      ],
      "metadata": {
        "id": "yFapAWRqbQ83"
      }
    },
    {
      "cell_type": "code",
      "source": [
        "fig,ax=plt.subplots(figsize=(25,10))\n",
        "B=sns.barplot(x=\"Grade\",y=\"Nbedrooms\",data=house_data,palette=\"Accent\")\n",
        "plt.title(\"GRADE WISE TOTAL NUMBERS OF BEDROOMS\")\n",
        "bar_percentage(B,len(house_data))\n",
        "plt.show()"
      ],
      "metadata": {
        "colab": {
          "base_uri": "https://localhost:8080/",
          "height": 543
        },
        "id": "MJTaRdNU2_x-",
        "outputId": "d3f5e650-79e9-477f-94e4-7e490bfbc5a2"
      },
      "execution_count": 16,
      "outputs": [
        {
          "output_type": "display_data",
          "data": {
            "text/plain": [
              "<Figure size 1800x720 with 1 Axes>"
            ],
            "image/png": "[encoded data removed]"
          },
          "metadata": {}
        }
      ]
    },
    {
      "cell_type": "markdown",
      "source": [
        "The most of the houses are in A-Grade and also having maximum number of bedrooms"
      ],
      "metadata": {
        "id": "CKWDpE7SeDTk"
      }
    },
    {
      "cell_type": "code",
      "source": [
        "fig,ax=plt.subplots(figsize=(25,10))\n",
        "C=sns.barplot(x=\"Grade\",y=\"Nbwashrooms\",data=house_data,palette=\"Accent\")\n",
        "plt.title(\"GRADE WISE TOTAL NUMBERS OF WASHROOMS\")\n",
        "bar_percentage(C,len(house_data))\n",
        "plt.show()"
      ],
      "metadata": {
        "colab": {
          "base_uri": "https://localhost:8080/",
          "height": 543
        },
        "id": "Jq8YypV935Oi",
        "outputId": "abff516e-47b1-4400-e457-57fed89c9171"
      },
      "execution_count": 17,
      "outputs": [
        {
          "output_type": "display_data",
          "data": {
            "text/plain": [
              "<Figure size 1800x720 with 1 Axes>"
            ],
            "image/png": "[encoded data removed]"
          },
          "metadata": {}
        }
      ]
    },
    {
      "cell_type": "markdown",
      "source": [
        "The most of the houses are in A-Grade and also having maximum number of washrooms"
      ],
      "metadata": {
        "id": "GyDd2kN8foVH"
      }
    },
    {
      "cell_type": "code",
      "source": [
        "fig,ax=plt.subplots(figsize=(25,10))\n",
        "D=sns.barplot(x=\"Grade\",y=\"Expected price\",data=house_data,palette=\"Accent\")\n",
        "plt.title(\"GRADE WISE PRICE\")\n",
        "bar_percentage(D,len(house_data))\n",
        "plt.show()"
      ],
      "metadata": {
        "colab": {
          "base_uri": "https://localhost:8080/",
          "height": 536
        },
        "id": "dGlVKNkpEnao",
        "outputId": "13557f18-67d9-4169-f1a6-21be46152fec"
      },
      "execution_count": 18,
      "outputs": [
        {
          "output_type": "display_data",
          "data": {
            "text/plain": [
              "<Figure size 1800x720 with 1 Axes>"
            ],
            "image/png": "[encoded data removed]"
          },
          "metadata": {}
        }
      ]
    },
    {
      "cell_type": "markdown",
      "source": [
        "The price of the houses are in A-grade are high and minimum price of the houses are in E-Grade"
      ],
      "metadata": {
        "id": "SyvsKDpXhQWa"
      }
    },
    {
      "cell_type": "code",
      "source": [
        "fig,ax=plt.subplots(figsize=(25,10))\n",
        "E=sns.barplot(x=\"Grade\",y=\"Nfloors\",data=house_data,palette=\"Accent\")\n",
        "plt.title(\"GRADE WISE NUMBER OF FLOORS\")\n",
        "bar_percentage(E,len(house_data))\n",
        "plt.show()"
      ],
      "metadata": {
        "colab": {
          "base_uri": "https://localhost:8080/",
          "height": 543
        },
        "id": "jJhMiwmkE_Uy",
        "outputId": "d7c4b6ca-43d4-4404-ba45-743a35199c92"
      },
      "execution_count": 19,
      "outputs": [
        {
          "output_type": "display_data",
          "data": {
            "text/plain": [
              "<Figure size 1800x720 with 1 Axes>"
            ],
            "image/png": "[encoded data removed]"
          },
          "metadata": {}
        }
      ]
    },
    {
      "cell_type": "markdown",
      "source": [
        "The most of the houses are in A-Grade and also having maximum number of floors"
      ],
      "metadata": {
        "id": "S2TM6Oe6iJMz"
      }
    },
    {
      "cell_type": "markdown",
      "source": [
        "##MULTIVARIATE ANALYSIS"
      ],
      "metadata": {
        "id": "afI1_JTrLQ-2"
      }
    },
    {
      "cell_type": "code",
      "source": [
        "fig,ax=plt.subplots(figsize=(25,10))\n",
        "F=sns.barplot(x=\"Grade\",hue='roof',y=\"Nfloors\",data=house_data,palette=\"Accent\")\n",
        "plt.title(\"GRADE WISE ROOF AND NUMBER OF FLOORS\")\n",
        "bar_percentage(F,len(house_data))\n",
        "plt.show()"
      ],
      "metadata": {
        "colab": {
          "base_uri": "https://localhost:8080/",
          "height": 543
        },
        "id": "lQnPh_b_IPa3",
        "outputId": "966ffd84-f3df-4d7e-dad5-44033405d1c4"
      },
      "execution_count": 20,
      "outputs": [
        {
          "output_type": "display_data",
          "data": {
            "text/plain": [
              "<Figure size 1800x720 with 1 Axes>"
            ],
            "image/png": "[encoded data removed]"
          },
          "metadata": {}
        }
      ]
    },
    {
      "cell_type": "code",
      "source": [
        "fig,ax=plt.subplots(figsize=(25,10))\n",
        "I=sns.barplot(x=\"Grade\",hue='Nfloors',y=\"Expected price\",data=house_data,palette=\"Accent\")\n",
        "plt.title(\"GRADE WISE ROOF AND EXPECTED PRICE\")\n",
        "bar_percentage(I,len(house_data))\n",
        "plt.show()"
      ],
      "metadata": {
        "colab": {
          "base_uri": "https://localhost:8080/",
          "height": 536
        },
        "id": "AbvmdRQRZg4k",
        "outputId": "0bf8a564-92d4-4b0e-dab4-91ec6bb7a9ec"
      },
      "execution_count": 21,
      "outputs": [
        {
          "output_type": "display_data",
          "data": {
            "text/plain": [
              "<Figure size 1800x720 with 1 Axes>"
            ],
            "image/png": "[encoded data removed]"
          },
          "metadata": {}
        }
      ]
    },
    {
      "cell_type": "code",
      "source": [
        "fig,ax=plt.subplots(figsize=(25,10))\n",
        "I=sns.barplot(x=\"Grade\",hue='Trooms',y=\"Expected price\",data=house_data,palette=\"Accent\")\n",
        "plt.title(\"GRADE WISE ROOF AND EXPECTED PRICE\")\n",
        "bar_percentage(I,len(house_data))\n",
        "plt.show()"
      ],
      "metadata": {
        "colab": {
          "base_uri": "https://localhost:8080/",
          "height": 536
        },
        "id": "suggs28CAtJ-",
        "outputId": "a0dbbd75-0e0e-4c76-df60-9a929d219e6e"
      },
      "execution_count": 22,
      "outputs": [
        {
          "output_type": "display_data",
          "data": {
            "text/plain": [
              "<Figure size 1800x720 with 1 Axes>"
            ],
            "image/png": "[encoded data removed]"
          },
          "metadata": {}
        }
      ]
    },
    {
      "cell_type": "markdown",
      "source": [
        "In C-Grade houses having the more variety of rooms and D-grade houses are also having more varitey"
      ],
      "metadata": {
        "id": "om1qvpQLC8eP"
      }
    },
    {
      "cell_type": "markdown",
      "source": [
        "\n",
        "\n",
        "*   There are 51% of houses with roof and remaning 49% of houses without roof are in the sales\n",
        "\n",
        "*   The sales houses are separeted into 5 category A-Grade is the best category of house and E-Grade houses are wrost \n",
        "*   There are 13% of the houses in A-Grade and 18% of the Houses are in B-Grade \n",
        "and then  are 24% of the Houses in C-Grade and  42% of the houses are in D-Grade Then 3% of the Houses are in E-Grade\n",
        "\n",
        "\n",
        "\n",
        "* In C-Grade houses having the more types of rooms,and more types of floors and price is good \n",
        "\n",
        "\n",
        "\n",
        "\n",
        "\n"
      ],
      "metadata": {
        "id": "gpKFkP-Ui5c4"
      }
    },
    {
      "cell_type": "markdown",
      "source": [
        "##DATA PREPROCESSING"
      ],
      "metadata": {
        "id": "BUqz7x1wL_xj"
      }
    },
    {
      "cell_type": "code",
      "source": [
        "house_data.info()"
      ],
      "metadata": {
        "colab": {
          "base_uri": "https://localhost:8080/"
        },
        "id": "_44I8EJiMDkP",
        "outputId": "233caca7-dc97-40f2-a43f-6925ab66a437"
      },
      "execution_count": 23,
      "outputs": [
        {
          "output_type": "stream",
          "name": "stdout",
          "text": [
            "<class 'pandas.core.frame.DataFrame'>\n",
            "RangeIndex: 3000 entries, 0 to 2999\n",
            "Data columns (total 14 columns):\n",
            " #   Column          Non-Null Count  Dtype \n",
            "---  ------          --------------  ----- \n",
            " 0   Id              3000 non-null   int64 \n",
            " 1   Area(total)     3000 non-null   int64 \n",
            " 2   Trooms          3000 non-null   int64 \n",
            " 3   Nbedrooms       3000 non-null   int64 \n",
            " 4   Nbwashrooms     3000 non-null   int64 \n",
            " 5   Twashrooms      3000 non-null   int64 \n",
            " 6   roof            3000 non-null   object\n",
            " 7   Roof(Area)      3000 non-null   int64 \n",
            " 8   Lawn(Area)      3000 non-null   int64 \n",
            " 9   Nfloors         3000 non-null   int64 \n",
            " 10  API             3000 non-null   int64 \n",
            " 11  ANB             3000 non-null   int64 \n",
            " 12  Expected price  3000 non-null   int64 \n",
            " 13  Grade           3000 non-null   object\n",
            "dtypes: int64(12), object(2)\n",
            "memory usage: 328.2+ KB\n"
          ]
        }
      ]
    },
    {
      "cell_type": "code",
      "source": [
        "lst=[]\n",
        "for i in house_data.columns:\n",
        "  if house_data[i].dtypes==object:\n",
        "    lst.append(i)\n",
        "    #converting object into category\n",
        "for i in lst:\n",
        "  house_data[i]=house_data[i].astype(\"category\")\n",
        " #label_encoder object knows how to understand word labels.\n",
        "label_encoder = preprocessing.LabelEncoder() \n",
        "for i in lst:\n",
        "  house_data[i+\"_encoder\"]=label_encoder.fit_transform(house_data[i])\n",
        "house_data.info() "
      ],
      "metadata": {
        "colab": {
          "base_uri": "https://localhost:8080/"
        },
        "id": "MauKjTZVMHQ2",
        "outputId": "5db54998-77e4-49e9-b071-fd1a0f788032"
      },
      "execution_count": 24,
      "outputs": [
        {
          "output_type": "stream",
          "name": "stdout",
          "text": [
            "<class 'pandas.core.frame.DataFrame'>\n",
            "RangeIndex: 3000 entries, 0 to 2999\n",
            "Data columns (total 16 columns):\n",
            " #   Column          Non-Null Count  Dtype   \n",
            "---  ------          --------------  -----   \n",
            " 0   Id              3000 non-null   int64   \n",
            " 1   Area(total)     3000 non-null   int64   \n",
            " 2   Trooms          3000 non-null   int64   \n",
            " 3   Nbedrooms       3000 non-null   int64   \n",
            " 4   Nbwashrooms     3000 non-null   int64   \n",
            " 5   Twashrooms      3000 non-null   int64   \n",
            " 6   roof            3000 non-null   category\n",
            " 7   Roof(Area)      3000 non-null   int64   \n",
            " 8   Lawn(Area)      3000 non-null   int64   \n",
            " 9   Nfloors         3000 non-null   int64   \n",
            " 10  API             3000 non-null   int64   \n",
            " 11  ANB             3000 non-null   int64   \n",
            " 12  Expected price  3000 non-null   int64   \n",
            " 13  Grade           3000 non-null   category\n",
            " 14  roof_encoder    3000 non-null   int64   \n",
            " 15  Grade_encoder   3000 non-null   int64   \n",
            "dtypes: category(2), int64(14)\n",
            "memory usage: 334.4 KB\n"
          ]
        }
      ]
    },
    {
      "cell_type": "code",
      "source": [
        "house_data1=house_data.drop(columns=\"Grade_encoder\")\n",
        "house_data1"
      ],
      "metadata": {
        "colab": {
          "base_uri": "https://localhost:8080/",
          "height": 424
        },
        "id": "Pz7ZkXPCPgwA",
        "outputId": "e48a7281-2601-4fc0-fea3-2465599edc92"
      },
      "execution_count": 25,
      "outputs": [
        {
          "output_type": "execute_result",
          "data": {
            "text/plain": [
              "        Id  Area(total)  Trooms  Nbedrooms  Nbwashrooms  Twashrooms roof  \\\n",
              "0        1          339       6          5            4           6   NO   \n",
              "1        2          358       5          4            3           4  YES   \n",
              "2        3          324       7          5            4           5  YES   \n",
              "3        4          330       6          4            3           5  YES   \n",
              "4        5          320       7          4            4           5   NO   \n",
              "...    ...          ...     ...        ...          ...         ...  ...   \n",
              "2995  2996          341       9          6            5           7  YES   \n",
              "2996  2997          292       9          8            7           8  YES   \n",
              "2997  2998          328       7          4            3           5   NO   \n",
              "2998  2999          293       9          7            7           8   NO   \n",
              "2999  3000          343       7          6            6           8   NO   \n",
              "\n",
              "      Roof(Area)  Lawn(Area)  Nfloors  API  ANB  Expected price Grade  \\\n",
              "0              0          76        2   79    6            3481     D   \n",
              "1             71          96        3   72    4            3510     D   \n",
              "2            101         117        5   64    3            3748     C   \n",
              "3            101          82        2   59    2            3134     D   \n",
              "4              0          75        3   40    1            3843     D   \n",
              "...          ...         ...      ...  ...  ...             ...   ...   \n",
              "2995          95         115        5   90    2            4246     B   \n",
              "2996         116          87        7   97    4            3753     A   \n",
              "2997           0          78        5   95    6            3607     D   \n",
              "2998           0          78        7   51    3            4198     B   \n",
              "2999           0         108        5   95    3            4105     C   \n",
              "\n",
              "      roof_encoder  \n",
              "0                0  \n",
              "1                1  \n",
              "2                1  \n",
              "3                1  \n",
              "4                0  \n",
              "...            ...  \n",
              "2995             1  \n",
              "2996             1  \n",
              "2997             0  \n",
              "2998             0  \n",
              "2999             0  \n",
              "\n",
              "[3000 rows x 15 columns]"
            ],
            "text/html": [
              "\n",
              "  <div id=\"df-a95b18c1-3fc1-4c79-afda-37678882cbf9\">\n",
              "    <div class=\"colab-df-container\">\n",
              "      <div>\n",
              "<style scoped>\n",
              "    .dataframe tbody tr th:only-of-type {\n",
              "        vertical-align: middle;\n",
              "    }\n",
              "\n",
              "    .dataframe tbody tr th {\n",
              "        vertical-align: top;\n",
              "    }\n",
              "\n",
              "    .dataframe thead th {\n",
              "        text-align: right;\n",
              "    }\n",
              "</style>\n",
              "<table border=\"1\" class=\"dataframe\">\n",
              "  <thead>\n",
              "    <tr style=\"text-align: right;\">\n",
              "      <th></th>\n",
              "      <th>Id</th>\n",
              "      <th>Area(total)</th>\n",
              "      <th>Trooms</th>\n",
              "      <th>Nbedrooms</th>\n",
              "      <th>Nbwashrooms</th>\n",
              "      <th>Twashrooms</th>\n",
              "      <th>roof</th>\n",
              "      <th>Roof(Area)</th>\n",
              "      <th>Lawn(Area)</th>\n",
              "      <th>Nfloors</th>\n",
              "      <th>API</th>\n",
              "      <th>ANB</th>\n",
              "      <th>Expected price</th>\n",
              "      <th>Grade</th>\n",
              "      <th>roof_encoder</th>\n",
              "    </tr>\n",
              "  </thead>\n",
              "  <tbody>\n",
              "    <tr>\n",
              "      <th>0</th>\n",
              "      <td>1</td>\n",
              "      <td>339</td>\n",
              "      <td>6</td>\n",
              "      <td>5</td>\n",
              "      <td>4</td>\n",
              "      <td>6</td>\n",
              "      <td>NO</td>\n",
              "      <td>0</td>\n",
              "      <td>76</td>\n",
              "      <td>2</td>\n",
              "      <td>79</td>\n",
              "      <td>6</td>\n",
              "      <td>3481</td>\n",
              "      <td>D</td>\n",
              "      <td>0</td>\n",
              "    </tr>\n",
              "    <tr>\n",
              "      <th>1</th>\n",
              "      <td>2</td>\n",
              "      <td>358</td>\n",
              "      <td>5</td>\n",
              "      <td>4</td>\n",
              "      <td>3</td>\n",
              "      <td>4</td>\n",
              "      <td>YES</td>\n",
              "      <td>71</td>\n",
              "      <td>96</td>\n",
              "      <td>3</td>\n",
              "      <td>72</td>\n",
              "      <td>4</td>\n",
              "      <td>3510</td>\n",
              "      <td>D</td>\n",
              "      <td>1</td>\n",
              "    </tr>\n",
              "    <tr>\n",
              "      <th>2</th>\n",
              "      <td>3</td>\n",
              "      <td>324</td>\n",
              "      <td>7</td>\n",
              "      <td>5</td>\n",
              "      <td>4</td>\n",
              "      <td>5</td>\n",
              "      <td>YES</td>\n",
              "      <td>101</td>\n",
              "      <td>117</td>\n",
              "      <td>5</td>\n",
              "      <td>64</td>\n",
              "      <td>3</td>\n",
              "      <td>3748</td>\n",
              "      <td>C</td>\n",
              "      <td>1</td>\n",
              "    </tr>\n",
              "    <tr>\n",
              "      <th>3</th>\n",
              "      <td>4</td>\n",
              "      <td>330</td>\n",
              "      <td>6</td>\n",
              "      <td>4</td>\n",
              "      <td>3</td>\n",
              "      <td>5</td>\n",
              "      <td>YES</td>\n",
              "      <td>101</td>\n",
              "      <td>82</td>\n",
              "      <td>2</td>\n",
              "      <td>59</td>\n",
              "      <td>2</td>\n",
              "      <td>3134</td>\n",
              "      <td>D</td>\n",
              "      <td>1</td>\n",
              "    </tr>\n",
              "    <tr>\n",
              "      <th>4</th>\n",
              "      <td>5</td>\n",
              "      <td>320</td>\n",
              "      <td>7</td>\n",
              "      <td>4</td>\n",
              "      <td>4</td>\n",
              "      <td>5</td>\n",
              "      <td>NO</td>\n",
              "      <td>0</td>\n",
              "      <td>75</td>\n",
              "      <td>3</td>\n",
              "      <td>40</td>\n",
              "      <td>1</td>\n",
              "      <td>3843</td>\n",
              "      <td>D</td>\n",
              "      <td>0</td>\n",
              "    </tr>\n",
              "    <tr>\n",
              "      <th>...</th>\n",
              "      <td>...</td>\n",
              "      <td>...</td>\n",
              "      <td>...</td>\n",
              "      <td>...</td>\n",
              "      <td>...</td>\n",
              "      <td>...</td>\n",
              "      <td>...</td>\n",
              "      <td>...</td>\n",
              "      <td>...</td>\n",
              "      <td>...</td>\n",
              "      <td>...</td>\n",
              "      <td>...</td>\n",
              "      <td>...</td>\n",
              "      <td>...</td>\n",
              "      <td>...</td>\n",
              "    </tr>\n",
              "    <tr>\n",
              "      <th>2995</th>\n",
              "      <td>2996</td>\n",
              "      <td>341</td>\n",
              "      <td>9</td>\n",
              "      <td>6</td>\n",
              "      <td>5</td>\n",
              "      <td>7</td>\n",
              "      <td>YES</td>\n",
              "      <td>95</td>\n",
              "      <td>115</td>\n",
              "      <td>5</td>\n",
              "      <td>90</td>\n",
              "      <td>2</td>\n",
              "      <td>4246</td>\n",
              "      <td>B</td>\n",
              "      <td>1</td>\n",
              "    </tr>\n",
              "    <tr>\n",
              "      <th>2996</th>\n",
              "      <td>2997</td>\n",
              "      <td>292</td>\n",
              "      <td>9</td>\n",
              "      <td>8</td>\n",
              "      <td>7</td>\n",
              "      <td>8</td>\n",
              "      <td>YES</td>\n",
              "      <td>116</td>\n",
              "      <td>87</td>\n",
              "      <td>7</td>\n",
              "      <td>97</td>\n",
              "      <td>4</td>\n",
              "      <td>3753</td>\n",
              "      <td>A</td>\n",
              "      <td>1</td>\n",
              "    </tr>\n",
              "    <tr>\n",
              "      <th>2997</th>\n",
              "      <td>2998</td>\n",
              "      <td>328</td>\n",
              "      <td>7</td>\n",
              "      <td>4</td>\n",
              "      <td>3</td>\n",
              "      <td>5</td>\n",
              "      <td>NO</td>\n",
              "      <td>0</td>\n",
              "      <td>78</td>\n",
              "      <td>5</td>\n",
              "      <td>95</td>\n",
              "      <td>6</td>\n",
              "      <td>3607</td>\n",
              "      <td>D</td>\n",
              "      <td>0</td>\n",
              "    </tr>\n",
              "    <tr>\n",
              "      <th>2998</th>\n",
              "      <td>2999</td>\n",
              "      <td>293</td>\n",
              "      <td>9</td>\n",
              "      <td>7</td>\n",
              "      <td>7</td>\n",
              "      <td>8</td>\n",
              "      <td>NO</td>\n",
              "      <td>0</td>\n",
              "      <td>78</td>\n",
              "      <td>7</td>\n",
              "      <td>51</td>\n",
              "      <td>3</td>\n",
              "      <td>4198</td>\n",
              "      <td>B</td>\n",
              "      <td>0</td>\n",
              "    </tr>\n",
              "    <tr>\n",
              "      <th>2999</th>\n",
              "      <td>3000</td>\n",
              "      <td>343</td>\n",
              "      <td>7</td>\n",
              "      <td>6</td>\n",
              "      <td>6</td>\n",
              "      <td>8</td>\n",
              "      <td>NO</td>\n",
              "      <td>0</td>\n",
              "      <td>108</td>\n",
              "      <td>5</td>\n",
              "      <td>95</td>\n",
              "      <td>3</td>\n",
              "      <td>4105</td>\n",
              "      <td>C</td>\n",
              "      <td>0</td>\n",
              "    </tr>\n",
              "  </tbody>\n",
              "</table>\n",
              "<p>3000 rows × 15 columns</p>\n",
              "</div>\n",
              "      <button class=\"colab-df-convert\" onclick=\"convertToInteractive('df-a95b18c1-3fc1-4c79-afda-37678882cbf9')\"\n",
              "              title=\"Convert this dataframe to an interactive table.\"\n",
              "              style=\"display:none;\">\n",
              "        \n",
              "  <svg xmlns=\"http://www.w3.org/2000/svg\" height=\"24px\"viewBox=\"0 0 24 24\"\n",
              "       width=\"24px\">\n",
              "    <path d=\"M0 0h24v24H0V0z\" fill=\"none\"/>\n",
              "    <path d=\"M18.56 5.44l.94 2.06.94-2.06 2.06-.94-2.06-.94-.94-2.06-.94 2.06-2.06.94zm-11 1L8.5 8.5l.94-2.06 2.06-.94-2.06-.94L8.5 2.5l-.94 2.06-2.06.94zm10 10l.94 2.06.94-2.06 2.06-.94-2.06-.94-.94-2.06-.94 2.06-2.06.94z\"/><path d=\"M17.41 7.96l-1.37-1.37c-.4-.4-.92-.59-1.43-.59-.52 0-1.04.2-1.43.59L10.3 9.45l-7.72 7.72c-.78.78-.78 2.05 0 2.83L4 21.41c.39.39.9.59 1.41.59.51 0 1.02-.2 1.41-.59l7.78-7.78 2.81-2.81c.8-.78.8-2.07 0-2.86zM5.41 20L4 18.59l7.72-7.72 1.47 1.35L5.41 20z\"/>\n",
              "  </svg>\n",
              "      </button>\n",
              "      \n",
              "  <style>\n",
              "    .colab-df-container {\n",
              "      display:flex;\n",
              "      flex-wrap:wrap;\n",
              "      gap: 12px;\n",
              "    }\n",
              "\n",
              "    .colab-df-convert {\n",
              "      background-color: #E8F0FE;\n",
              "      border: none;\n",
              "      border-radius: 50%;\n",
              "      cursor: pointer;\n",
              "      display: none;\n",
              "      fill: #1967D2;\n",
              "      height: 32px;\n",
              "      padding: 0 0 0 0;\n",
              "      width: 32px;\n",
              "    }\n",
              "\n",
              "    .colab-df-convert:hover {\n",
              "      background-color: #E2EBFA;\n",
              "      box-shadow: 0px 1px 2px rgba(60, 64, 67, 0.3), 0px 1px 3px 1px rgba(60, 64, 67, 0.15);\n",
              "      fill: #174EA6;\n",
              "    }\n",
              "\n",
              "    [theme=dark] .colab-df-convert {\n",
              "      background-color: #3B4455;\n",
              "      fill: #D2E3FC;\n",
              "    }\n",
              "\n",
              "    [theme=dark] .colab-df-convert:hover {\n",
              "      background-color: #434B5C;\n",
              "      box-shadow: 0px 1px 3px 1px rgba(0, 0, 0, 0.15);\n",
              "      filter: drop-shadow(0px 1px 2px rgba(0, 0, 0, 0.3));\n",
              "      fill: #FFFFFF;\n",
              "    }\n",
              "  </style>\n",
              "\n",
              "      <script>\n",
              "        const buttonEl =\n",
              "          document.querySelector('#df-a95b18c1-3fc1-4c79-afda-37678882cbf9 button.colab-df-convert');\n",
              "        buttonEl.style.display =\n",
              "          google.colab.kernel.accessAllowed ? 'block' : 'none';\n",
              "\n",
              "        async function convertToInteractive(key) {\n",
              "          const element = document.querySelector('#df-a95b18c1-3fc1-4c79-afda-37678882cbf9');\n",
              "          const dataTable =\n",
              "            await google.colab.kernel.invokeFunction('convertToInteractive',\n",
              "                                                     [key], {});\n",
              "          if (!dataTable) return;\n",
              "\n",
              "          const docLinkHtml = 'Like what you see? Visit the ' +\n",
              "            '<a target=\"_blank\" href=https://colab.research.google.com/notebooks/data_table.ipynb>data table notebook</a>'\n",
              "            + ' to learn more about interactive tables.';\n",
              "          element.innerHTML = '';\n",
              "          dataTable['output_type'] = 'display_data';\n",
              "          await google.colab.output.renderOutput(dataTable, element);\n",
              "          const docLink = document.createElement('div');\n",
              "          docLink.innerHTML = docLinkHtml;\n",
              "          element.appendChild(docLink);\n",
              "        }\n",
              "      </script>\n",
              "    </div>\n",
              "  </div>\n",
              "  "
            ]
          },
          "metadata": {},
          "execution_count": 25
        }
      ]
    },
    {
      "cell_type": "code",
      "source": [
        "def feature_scale(scale):\n",
        "  numerics = ['int16', 'int32', 'int64', 'float16', 'float32', 'float64']\n",
        "  new_df=house_data1.select_dtypes(include=numerics)\n",
        "  if scale==\"minmax\":\n",
        "    scaler=MinMaxScaler()\n",
        "  else:\n",
        "    scaler=StandardScaler()\n",
        "  df_scaled=pd.DataFrame(scaler.fit_transform(new_df.to_numpy()),columns=new_df.columns)\n",
        "  return(df_scaled)"
      ],
      "metadata": {
        "id": "mA9uGk99MoJ2"
      },
      "execution_count": 26,
      "outputs": []
    },
    {
      "cell_type": "code",
      "source": [
        "scale=\"minmax\"\n",
        "scaled_data=feature_scale(scale)\n",
        "scaled_data"
      ],
      "metadata": {
        "colab": {
          "base_uri": "https://localhost:8080/",
          "height": 424
        },
        "id": "RmW8EjhSQSaf",
        "outputId": "b6b2836b-af70-4049-c2dd-bb93a1e99d18"
      },
      "execution_count": 27,
      "outputs": [
        {
          "output_type": "execute_result",
          "data": {
            "text/plain": [
              "            Id  Area(total)  Trooms  Nbedrooms  Nbwashrooms  Twashrooms  \\\n",
              "0     0.000000     0.700000    0.25   0.500000     0.428571       0.500   \n",
              "1     0.000333     0.971429    0.00   0.333333     0.285714       0.250   \n",
              "2     0.000667     0.485714    0.50   0.500000     0.428571       0.375   \n",
              "3     0.001000     0.571429    0.25   0.333333     0.285714       0.375   \n",
              "4     0.001334     0.428571    0.50   0.333333     0.428571       0.375   \n",
              "...        ...          ...     ...        ...          ...         ...   \n",
              "2995  0.998666     0.728571    1.00   0.666667     0.571429       0.625   \n",
              "2996  0.999000     0.028571    1.00   1.000000     0.857143       0.750   \n",
              "2997  0.999333     0.542857    0.50   0.333333     0.285714       0.375   \n",
              "2998  0.999667     0.042857    1.00   0.833333     0.857143       0.750   \n",
              "2999  1.000000     0.757143    0.50   0.666667     0.714286       0.750   \n",
              "\n",
              "      Roof(Area)  Lawn(Area)   Nfloors       API  ANB  Expected price  \\\n",
              "0       0.000000        0.12  0.166667  0.650000  1.0        0.360251   \n",
              "1       0.591667        0.52  0.333333  0.533333  0.6        0.370944   \n",
              "2       0.841667        0.94  0.666667  0.400000  0.4        0.458702   \n",
              "3       0.841667        0.24  0.166667  0.316667  0.2        0.232301   \n",
              "4       0.000000        0.10  0.333333  0.000000  0.0        0.493732   \n",
              "...          ...         ...       ...       ...  ...             ...   \n",
              "2995    0.791667        0.90  0.666667  0.833333  0.2        0.642330   \n",
              "2996    0.966667        0.34  1.000000  0.950000  0.6        0.460546   \n",
              "2997    0.000000        0.16  0.666667  0.916667  1.0        0.406711   \n",
              "2998    0.000000        0.16  1.000000  0.183333  0.4        0.624631   \n",
              "2999    0.000000        0.76  0.666667  0.916667  0.4        0.590339   \n",
              "\n",
              "      roof_encoder  \n",
              "0              0.0  \n",
              "1              1.0  \n",
              "2              1.0  \n",
              "3              1.0  \n",
              "4              0.0  \n",
              "...            ...  \n",
              "2995           1.0  \n",
              "2996           1.0  \n",
              "2997           0.0  \n",
              "2998           0.0  \n",
              "2999           0.0  \n",
              "\n",
              "[3000 rows x 13 columns]"
            ],
            "text/html": [
              "\n",
              "  <div id=\"df-526a1a26-9f3b-46df-95b8-9027dc20ab9b\">\n",
              "    <div class=\"colab-df-container\">\n",
              "      <div>\n",
              "<style scoped>\n",
              "    .dataframe tbody tr th:only-of-type {\n",
              "        vertical-align: middle;\n",
              "    }\n",
              "\n",
              "    .dataframe tbody tr th {\n",
              "        vertical-align: top;\n",
              "    }\n",
              "\n",
              "    .dataframe thead th {\n",
              "        text-align: right;\n",
              "    }\n",
              "</style>\n",
              "<table border=\"1\" class=\"dataframe\">\n",
              "  <thead>\n",
              "    <tr style=\"text-align: right;\">\n",
              "      <th></th>\n",
              "      <th>Id</th>\n",
              "      <th>Area(total)</th>\n",
              "      <th>Trooms</th>\n",
              "      <th>Nbedrooms</th>\n",
              "      <th>Nbwashrooms</th>\n",
              "      <th>Twashrooms</th>\n",
              "      <th>Roof(Area)</th>\n",
              "      <th>Lawn(Area)</th>\n",
              "      <th>Nfloors</th>\n",
              "      <th>API</th>\n",
              "      <th>ANB</th>\n",
              "      <th>Expected price</th>\n",
              "      <th>roof_encoder</th>\n",
              "    </tr>\n",
              "  </thead>\n",
              "  <tbody>\n",
              "    <tr>\n",
              "      <th>0</th>\n",
              "      <td>0.000000</td>\n",
              "      <td>0.700000</td>\n",
              "      <td>0.25</td>\n",
              "      <td>0.500000</td>\n",
              "      <td>0.428571</td>\n",
              "      <td>0.500</td>\n",
              "      <td>0.000000</td>\n",
              "      <td>0.12</td>\n",
              "      <td>0.166667</td>\n",
              "      <td>0.650000</td>\n",
              "      <td>1.0</td>\n",
              "      <td>0.360251</td>\n",
              "      <td>0.0</td>\n",
              "    </tr>\n",
              "    <tr>\n",
              "      <th>1</th>\n",
              "      <td>0.000333</td>\n",
              "      <td>0.971429</td>\n",
              "      <td>0.00</td>\n",
              "      <td>0.333333</td>\n",
              "      <td>0.285714</td>\n",
              "      <td>0.250</td>\n",
              "      <td>0.591667</td>\n",
              "      <td>0.52</td>\n",
              "      <td>0.333333</td>\n",
              "      <td>0.533333</td>\n",
              "      <td>0.6</td>\n",
              "      <td>0.370944</td>\n",
              "      <td>1.0</td>\n",
              "    </tr>\n",
              "    <tr>\n",
              "      <th>2</th>\n",
              "      <td>0.000667</td>\n",
              "      <td>0.485714</td>\n",
              "      <td>0.50</td>\n",
              "      <td>0.500000</td>\n",
              "      <td>0.428571</td>\n",
              "      <td>0.375</td>\n",
              "      <td>0.841667</td>\n",
              "      <td>0.94</td>\n",
              "      <td>0.666667</td>\n",
              "      <td>0.400000</td>\n",
              "      <td>0.4</td>\n",
              "      <td>0.458702</td>\n",
              "      <td>1.0</td>\n",
              "    </tr>\n",
              "    <tr>\n",
              "      <th>3</th>\n",
              "      <td>0.001000</td>\n",
              "      <td>0.571429</td>\n",
              "      <td>0.25</td>\n",
              "      <td>0.333333</td>\n",
              "      <td>0.285714</td>\n",
              "      <td>0.375</td>\n",
              "      <td>0.841667</td>\n",
              "      <td>0.24</td>\n",
              "      <td>0.166667</td>\n",
              "      <td>0.316667</td>\n",
              "      <td>0.2</td>\n",
              "      <td>0.232301</td>\n",
              "      <td>1.0</td>\n",
              "    </tr>\n",
              "    <tr>\n",
              "      <th>4</th>\n",
              "      <td>0.001334</td>\n",
              "      <td>0.428571</td>\n",
              "      <td>0.50</td>\n",
              "      <td>0.333333</td>\n",
              "      <td>0.428571</td>\n",
              "      <td>0.375</td>\n",
              "      <td>0.000000</td>\n",
              "      <td>0.10</td>\n",
              "      <td>0.333333</td>\n",
              "      <td>0.000000</td>\n",
              "      <td>0.0</td>\n",
              "      <td>0.493732</td>\n",
              "      <td>0.0</td>\n",
              "    </tr>\n",
              "    <tr>\n",
              "      <th>...</th>\n",
              "      <td>...</td>\n",
              "      <td>...</td>\n",
              "      <td>...</td>\n",
              "      <td>...</td>\n",
              "      <td>...</td>\n",
              "      <td>...</td>\n",
              "      <td>...</td>\n",
              "      <td>...</td>\n",
              "      <td>...</td>\n",
              "      <td>...</td>\n",
              "      <td>...</td>\n",
              "      <td>...</td>\n",
              "      <td>...</td>\n",
              "    </tr>\n",
              "    <tr>\n",
              "      <th>2995</th>\n",
              "      <td>0.998666</td>\n",
              "      <td>0.728571</td>\n",
              "      <td>1.00</td>\n",
              "      <td>0.666667</td>\n",
              "      <td>0.571429</td>\n",
              "      <td>0.625</td>\n",
              "      <td>0.791667</td>\n",
              "      <td>0.90</td>\n",
              "      <td>0.666667</td>\n",
              "      <td>0.833333</td>\n",
              "      <td>0.2</td>\n",
              "      <td>0.642330</td>\n",
              "      <td>1.0</td>\n",
              "    </tr>\n",
              "    <tr>\n",
              "      <th>2996</th>\n",
              "      <td>0.999000</td>\n",
              "      <td>0.028571</td>\n",
              "      <td>1.00</td>\n",
              "      <td>1.000000</td>\n",
              "      <td>0.857143</td>\n",
              "      <td>0.750</td>\n",
              "      <td>0.966667</td>\n",
              "      <td>0.34</td>\n",
              "      <td>1.000000</td>\n",
              "      <td>0.950000</td>\n",
              "      <td>0.6</td>\n",
              "      <td>0.460546</td>\n",
              "      <td>1.0</td>\n",
              "    </tr>\n",
              "    <tr>\n",
              "      <th>2997</th>\n",
              "      <td>0.999333</td>\n",
              "      <td>0.542857</td>\n",
              "      <td>0.50</td>\n",
              "      <td>0.333333</td>\n",
              "      <td>0.285714</td>\n",
              "      <td>0.375</td>\n",
              "      <td>0.000000</td>\n",
              "      <td>0.16</td>\n",
              "      <td>0.666667</td>\n",
              "      <td>0.916667</td>\n",
              "      <td>1.0</td>\n",
              "      <td>0.406711</td>\n",
              "      <td>0.0</td>\n",
              "    </tr>\n",
              "    <tr>\n",
              "      <th>2998</th>\n",
              "      <td>0.999667</td>\n",
              "      <td>0.042857</td>\n",
              "      <td>1.00</td>\n",
              "      <td>0.833333</td>\n",
              "      <td>0.857143</td>\n",
              "      <td>0.750</td>\n",
              "      <td>0.000000</td>\n",
              "      <td>0.16</td>\n",
              "      <td>1.000000</td>\n",
              "      <td>0.183333</td>\n",
              "      <td>0.4</td>\n",
              "      <td>0.624631</td>\n",
              "      <td>0.0</td>\n",
              "    </tr>\n",
              "    <tr>\n",
              "      <th>2999</th>\n",
              "      <td>1.000000</td>\n",
              "      <td>0.757143</td>\n",
              "      <td>0.50</td>\n",
              "      <td>0.666667</td>\n",
              "      <td>0.714286</td>\n",
              "      <td>0.750</td>\n",
              "      <td>0.000000</td>\n",
              "      <td>0.76</td>\n",
              "      <td>0.666667</td>\n",
              "      <td>0.916667</td>\n",
              "      <td>0.4</td>\n",
              "      <td>0.590339</td>\n",
              "      <td>0.0</td>\n",
              "    </tr>\n",
              "  </tbody>\n",
              "</table>\n",
              "<p>3000 rows × 13 columns</p>\n",
              "</div>\n",
              "      <button class=\"colab-df-convert\" onclick=\"convertToInteractive('df-526a1a26-9f3b-46df-95b8-9027dc20ab9b')\"\n",
              "              title=\"Convert this dataframe to an interactive table.\"\n",
              "              style=\"display:none;\">\n",
              "        \n",
              "  <svg xmlns=\"http://www.w3.org/2000/svg\" height=\"24px\"viewBox=\"0 0 24 24\"\n",
              "       width=\"24px\">\n",
              "    <path d=\"M0 0h24v24H0V0z\" fill=\"none\"/>\n",
              "    <path d=\"M18.56 5.44l.94 2.06.94-2.06 2.06-.94-2.06-.94-.94-2.06-.94 2.06-2.06.94zm-11 1L8.5 8.5l.94-2.06 2.06-.94-2.06-.94L8.5 2.5l-.94 2.06-2.06.94zm10 10l.94 2.06.94-2.06 2.06-.94-2.06-.94-.94-2.06-.94 2.06-2.06.94z\"/><path d=\"M17.41 7.96l-1.37-1.37c-.4-.4-.92-.59-1.43-.59-.52 0-1.04.2-1.43.59L10.3 9.45l-7.72 7.72c-.78.78-.78 2.05 0 2.83L4 21.41c.39.39.9.59 1.41.59.51 0 1.02-.2 1.41-.59l7.78-7.78 2.81-2.81c.8-.78.8-2.07 0-2.86zM5.41 20L4 18.59l7.72-7.72 1.47 1.35L5.41 20z\"/>\n",
              "  </svg>\n",
              "      </button>\n",
              "      \n",
              "  <style>\n",
              "    .colab-df-container {\n",
              "      display:flex;\n",
              "      flex-wrap:wrap;\n",
              "      gap: 12px;\n",
              "    }\n",
              "\n",
              "    .colab-df-convert {\n",
              "      background-color: #E8F0FE;\n",
              "      border: none;\n",
              "      border-radius: 50%;\n",
              "      cursor: pointer;\n",
              "      display: none;\n",
              "      fill: #1967D2;\n",
              "      height: 32px;\n",
              "      padding: 0 0 0 0;\n",
              "      width: 32px;\n",
              "    }\n",
              "\n",
              "    .colab-df-convert:hover {\n",
              "      background-color: #E2EBFA;\n",
              "      box-shadow: 0px 1px 2px rgba(60, 64, 67, 0.3), 0px 1px 3px 1px rgba(60, 64, 67, 0.15);\n",
              "      fill: #174EA6;\n",
              "    }\n",
              "\n",
              "    [theme=dark] .colab-df-convert {\n",
              "      background-color: #3B4455;\n",
              "      fill: #D2E3FC;\n",
              "    }\n",
              "\n",
              "    [theme=dark] .colab-df-convert:hover {\n",
              "      background-color: #434B5C;\n",
              "      box-shadow: 0px 1px 3px 1px rgba(0, 0, 0, 0.15);\n",
              "      filter: drop-shadow(0px 1px 2px rgba(0, 0, 0, 0.3));\n",
              "      fill: #FFFFFF;\n",
              "    }\n",
              "  </style>\n",
              "\n",
              "      <script>\n",
              "        const buttonEl =\n",
              "          document.querySelector('#df-526a1a26-9f3b-46df-95b8-9027dc20ab9b button.colab-df-convert');\n",
              "        buttonEl.style.display =\n",
              "          google.colab.kernel.accessAllowed ? 'block' : 'none';\n",
              "\n",
              "        async function convertToInteractive(key) {\n",
              "          const element = document.querySelector('#df-526a1a26-9f3b-46df-95b8-9027dc20ab9b');\n",
              "          const dataTable =\n",
              "            await google.colab.kernel.invokeFunction('convertToInteractive',\n",
              "                                                     [key], {});\n",
              "          if (!dataTable) return;\n",
              "\n",
              "          const docLinkHtml = 'Like what you see? Visit the ' +\n",
              "            '<a target=\"_blank\" href=https://colab.research.google.com/notebooks/data_table.ipynb>data table notebook</a>'\n",
              "            + ' to learn more about interactive tables.';\n",
              "          element.innerHTML = '';\n",
              "          dataTable['output_type'] = 'display_data';\n",
              "          await google.colab.output.renderOutput(dataTable, element);\n",
              "          const docLink = document.createElement('div');\n",
              "          docLink.innerHTML = docLinkHtml;\n",
              "          element.appendChild(docLink);\n",
              "        }\n",
              "      </script>\n",
              "    </div>\n",
              "  </div>\n",
              "  "
            ]
          },
          "metadata": {},
          "execution_count": 27
        }
      ]
    },
    {
      "cell_type": "code",
      "source": [
        "house_target=house_data. Grade_encoder\n"
      ],
      "metadata": {
        "id": "riwND5ohQuAJ"
      },
      "execution_count": 28,
      "outputs": []
    },
    {
      "cell_type": "code",
      "source": [
        "house_scaled=pd.concat([scaled_data,house_target],axis=1)\n",
        "house_scaled"
      ],
      "metadata": {
        "colab": {
          "base_uri": "https://localhost:8080/",
          "height": 485
        },
        "id": "JxZQ0_yTQgwy",
        "outputId": "a4a0fcf3-fc1c-49b0-d35f-0afd300fa3ff"
      },
      "execution_count": 29,
      "outputs": [
        {
          "output_type": "execute_result",
          "data": {
            "text/plain": [
              "            Id  Area(total)  Trooms  Nbedrooms  Nbwashrooms  Twashrooms  \\\n",
              "0     0.000000     0.700000    0.25   0.500000     0.428571       0.500   \n",
              "1     0.000333     0.971429    0.00   0.333333     0.285714       0.250   \n",
              "2     0.000667     0.485714    0.50   0.500000     0.428571       0.375   \n",
              "3     0.001000     0.571429    0.25   0.333333     0.285714       0.375   \n",
              "4     0.001334     0.428571    0.50   0.333333     0.428571       0.375   \n",
              "...        ...          ...     ...        ...          ...         ...   \n",
              "2995  0.998666     0.728571    1.00   0.666667     0.571429       0.625   \n",
              "2996  0.999000     0.028571    1.00   1.000000     0.857143       0.750   \n",
              "2997  0.999333     0.542857    0.50   0.333333     0.285714       0.375   \n",
              "2998  0.999667     0.042857    1.00   0.833333     0.857143       0.750   \n",
              "2999  1.000000     0.757143    0.50   0.666667     0.714286       0.750   \n",
              "\n",
              "      Roof(Area)  Lawn(Area)   Nfloors       API  ANB  Expected price  \\\n",
              "0       0.000000        0.12  0.166667  0.650000  1.0        0.360251   \n",
              "1       0.591667        0.52  0.333333  0.533333  0.6        0.370944   \n",
              "2       0.841667        0.94  0.666667  0.400000  0.4        0.458702   \n",
              "3       0.841667        0.24  0.166667  0.316667  0.2        0.232301   \n",
              "4       0.000000        0.10  0.333333  0.000000  0.0        0.493732   \n",
              "...          ...         ...       ...       ...  ...             ...   \n",
              "2995    0.791667        0.90  0.666667  0.833333  0.2        0.642330   \n",
              "2996    0.966667        0.34  1.000000  0.950000  0.6        0.460546   \n",
              "2997    0.000000        0.16  0.666667  0.916667  1.0        0.406711   \n",
              "2998    0.000000        0.16  1.000000  0.183333  0.4        0.624631   \n",
              "2999    0.000000        0.76  0.666667  0.916667  0.4        0.590339   \n",
              "\n",
              "      roof_encoder  Grade_encoder  \n",
              "0              0.0              3  \n",
              "1              1.0              3  \n",
              "2              1.0              2  \n",
              "3              1.0              3  \n",
              "4              0.0              3  \n",
              "...            ...            ...  \n",
              "2995           1.0              1  \n",
              "2996           1.0              0  \n",
              "2997           0.0              3  \n",
              "2998           0.0              1  \n",
              "2999           0.0              2  \n",
              "\n",
              "[3000 rows x 14 columns]"
            ],
            "text/html": [
              "\n",
              "  <div id=\"df-53ee6bb0-8e59-4f4b-81af-3ef74d477e15\">\n",
              "    <div class=\"colab-df-container\">\n",
              "      <div>\n",
              "<style scoped>\n",
              "    .dataframe tbody tr th:only-of-type {\n",
              "        vertical-align: middle;\n",
              "    }\n",
              "\n",
              "    .dataframe tbody tr th {\n",
              "        vertical-align: top;\n",
              "    }\n",
              "\n",
              "    .dataframe thead th {\n",
              "        text-align: right;\n",
              "    }\n",
              "</style>\n",
              "<table border=\"1\" class=\"dataframe\">\n",
              "  <thead>\n",
              "    <tr style=\"text-align: right;\">\n",
              "      <th></th>\n",
              "      <th>Id</th>\n",
              "      <th>Area(total)</th>\n",
              "      <th>Trooms</th>\n",
              "      <th>Nbedrooms</th>\n",
              "      <th>Nbwashrooms</th>\n",
              "      <th>Twashrooms</th>\n",
              "      <th>Roof(Area)</th>\n",
              "      <th>Lawn(Area)</th>\n",
              "      <th>Nfloors</th>\n",
              "      <th>API</th>\n",
              "      <th>ANB</th>\n",
              "      <th>Expected price</th>\n",
              "      <th>roof_encoder</th>\n",
              "      <th>Grade_encoder</th>\n",
              "    </tr>\n",
              "  </thead>\n",
              "  <tbody>\n",
              "    <tr>\n",
              "      <th>0</th>\n",
              "      <td>0.000000</td>\n",
              "      <td>0.700000</td>\n",
              "      <td>0.25</td>\n",
              "      <td>0.500000</td>\n",
              "      <td>0.428571</td>\n",
              "      <td>0.500</td>\n",
              "      <td>0.000000</td>\n",
              "      <td>0.12</td>\n",
              "      <td>0.166667</td>\n",
              "      <td>0.650000</td>\n",
              "      <td>1.0</td>\n",
              "      <td>0.360251</td>\n",
              "      <td>0.0</td>\n",
              "      <td>3</td>\n",
              "    </tr>\n",
              "    <tr>\n",
              "      <th>1</th>\n",
              "      <td>0.000333</td>\n",
              "      <td>0.971429</td>\n",
              "      <td>0.00</td>\n",
              "      <td>0.333333</td>\n",
              "      <td>0.285714</td>\n",
              "      <td>0.250</td>\n",
              "      <td>0.591667</td>\n",
              "      <td>0.52</td>\n",
              "      <td>0.333333</td>\n",
              "      <td>0.533333</td>\n",
              "      <td>0.6</td>\n",
              "      <td>0.370944</td>\n",
              "      <td>1.0</td>\n",
              "      <td>3</td>\n",
              "    </tr>\n",
              "    <tr>\n",
              "      <th>2</th>\n",
              "      <td>0.000667</td>\n",
              "      <td>0.485714</td>\n",
              "      <td>0.50</td>\n",
              "      <td>0.500000</td>\n",
              "      <td>0.428571</td>\n",
              "      <td>0.375</td>\n",
              "      <td>0.841667</td>\n",
              "      <td>0.94</td>\n",
              "      <td>0.666667</td>\n",
              "      <td>0.400000</td>\n",
              "      <td>0.4</td>\n",
              "      <td>0.458702</td>\n",
              "      <td>1.0</td>\n",
              "      <td>2</td>\n",
              "    </tr>\n",
              "    <tr>\n",
              "      <th>3</th>\n",
              "      <td>0.001000</td>\n",
              "      <td>0.571429</td>\n",
              "      <td>0.25</td>\n",
              "      <td>0.333333</td>\n",
              "      <td>0.285714</td>\n",
              "      <td>0.375</td>\n",
              "      <td>0.841667</td>\n",
              "      <td>0.24</td>\n",
              "      <td>0.166667</td>\n",
              "      <td>0.316667</td>\n",
              "      <td>0.2</td>\n",
              "      <td>0.232301</td>\n",
              "      <td>1.0</td>\n",
              "      <td>3</td>\n",
              "    </tr>\n",
              "    <tr>\n",
              "      <th>4</th>\n",
              "      <td>0.001334</td>\n",
              "      <td>0.428571</td>\n",
              "      <td>0.50</td>\n",
              "      <td>0.333333</td>\n",
              "      <td>0.428571</td>\n",
              "      <td>0.375</td>\n",
              "      <td>0.000000</td>\n",
              "      <td>0.10</td>\n",
              "      <td>0.333333</td>\n",
              "      <td>0.000000</td>\n",
              "      <td>0.0</td>\n",
              "      <td>0.493732</td>\n",
              "      <td>0.0</td>\n",
              "      <td>3</td>\n",
              "    </tr>\n",
              "    <tr>\n",
              "      <th>...</th>\n",
              "      <td>...</td>\n",
              "      <td>...</td>\n",
              "      <td>...</td>\n",
              "      <td>...</td>\n",
              "      <td>...</td>\n",
              "      <td>...</td>\n",
              "      <td>...</td>\n",
              "      <td>...</td>\n",
              "      <td>...</td>\n",
              "      <td>...</td>\n",
              "      <td>...</td>\n",
              "      <td>...</td>\n",
              "      <td>...</td>\n",
              "      <td>...</td>\n",
              "    </tr>\n",
              "    <tr>\n",
              "      <th>2995</th>\n",
              "      <td>0.998666</td>\n",
              "      <td>0.728571</td>\n",
              "      <td>1.00</td>\n",
              "      <td>0.666667</td>\n",
              "      <td>0.571429</td>\n",
              "      <td>0.625</td>\n",
              "      <td>0.791667</td>\n",
              "      <td>0.90</td>\n",
              "      <td>0.666667</td>\n",
              "      <td>0.833333</td>\n",
              "      <td>0.2</td>\n",
              "      <td>0.642330</td>\n",
              "      <td>1.0</td>\n",
              "      <td>1</td>\n",
              "    </tr>\n",
              "    <tr>\n",
              "      <th>2996</th>\n",
              "      <td>0.999000</td>\n",
              "      <td>0.028571</td>\n",
              "      <td>1.00</td>\n",
              "      <td>1.000000</td>\n",
              "      <td>0.857143</td>\n",
              "      <td>0.750</td>\n",
              "      <td>0.966667</td>\n",
              "      <td>0.34</td>\n",
              "      <td>1.000000</td>\n",
              "      <td>0.950000</td>\n",
              "      <td>0.6</td>\n",
              "      <td>0.460546</td>\n",
              "      <td>1.0</td>\n",
              "      <td>0</td>\n",
              "    </tr>\n",
              "    <tr>\n",
              "      <th>2997</th>\n",
              "      <td>0.999333</td>\n",
              "      <td>0.542857</td>\n",
              "      <td>0.50</td>\n",
              "      <td>0.333333</td>\n",
              "      <td>0.285714</td>\n",
              "      <td>0.375</td>\n",
              "      <td>0.000000</td>\n",
              "      <td>0.16</td>\n",
              "      <td>0.666667</td>\n",
              "      <td>0.916667</td>\n",
              "      <td>1.0</td>\n",
              "      <td>0.406711</td>\n",
              "      <td>0.0</td>\n",
              "      <td>3</td>\n",
              "    </tr>\n",
              "    <tr>\n",
              "      <th>2998</th>\n",
              "      <td>0.999667</td>\n",
              "      <td>0.042857</td>\n",
              "      <td>1.00</td>\n",
              "      <td>0.833333</td>\n",
              "      <td>0.857143</td>\n",
              "      <td>0.750</td>\n",
              "      <td>0.000000</td>\n",
              "      <td>0.16</td>\n",
              "      <td>1.000000</td>\n",
              "      <td>0.183333</td>\n",
              "      <td>0.4</td>\n",
              "      <td>0.624631</td>\n",
              "      <td>0.0</td>\n",
              "      <td>1</td>\n",
              "    </tr>\n",
              "    <tr>\n",
              "      <th>2999</th>\n",
              "      <td>1.000000</td>\n",
              "      <td>0.757143</td>\n",
              "      <td>0.50</td>\n",
              "      <td>0.666667</td>\n",
              "      <td>0.714286</td>\n",
              "      <td>0.750</td>\n",
              "      <td>0.000000</td>\n",
              "      <td>0.76</td>\n",
              "      <td>0.666667</td>\n",
              "      <td>0.916667</td>\n",
              "      <td>0.4</td>\n",
              "      <td>0.590339</td>\n",
              "      <td>0.0</td>\n",
              "      <td>2</td>\n",
              "    </tr>\n",
              "  </tbody>\n",
              "</table>\n",
              "<p>3000 rows × 14 columns</p>\n",
              "</div>\n",
              "      <button class=\"colab-df-convert\" onclick=\"convertToInteractive('df-53ee6bb0-8e59-4f4b-81af-3ef74d477e15')\"\n",
              "              title=\"Convert this dataframe to an interactive table.\"\n",
              "              style=\"display:none;\">\n",
              "        \n",
              "  <svg xmlns=\"http://www.w3.org/2000/svg\" height=\"24px\"viewBox=\"0 0 24 24\"\n",
              "       width=\"24px\">\n",
              "    <path d=\"M0 0h24v24H0V0z\" fill=\"none\"/>\n",
              "    <path d=\"M18.56 5.44l.94 2.06.94-2.06 2.06-.94-2.06-.94-.94-2.06-.94 2.06-2.06.94zm-11 1L8.5 8.5l.94-2.06 2.06-.94-2.06-.94L8.5 2.5l-.94 2.06-2.06.94zm10 10l.94 2.06.94-2.06 2.06-.94-2.06-.94-.94-2.06-.94 2.06-2.06.94z\"/><path d=\"M17.41 7.96l-1.37-1.37c-.4-.4-.92-.59-1.43-.59-.52 0-1.04.2-1.43.59L10.3 9.45l-7.72 7.72c-.78.78-.78 2.05 0 2.83L4 21.41c.39.39.9.59 1.41.59.51 0 1.02-.2 1.41-.59l7.78-7.78 2.81-2.81c.8-.78.8-2.07 0-2.86zM5.41 20L4 18.59l7.72-7.72 1.47 1.35L5.41 20z\"/>\n",
              "  </svg>\n",
              "      </button>\n",
              "      \n",
              "  <style>\n",
              "    .colab-df-container {\n",
              "      display:flex;\n",
              "      flex-wrap:wrap;\n",
              "      gap: 12px;\n",
              "    }\n",
              "\n",
              "    .colab-df-convert {\n",
              "      background-color: #E8F0FE;\n",
              "      border: none;\n",
              "      border-radius: 50%;\n",
              "      cursor: pointer;\n",
              "      display: none;\n",
              "      fill: #1967D2;\n",
              "      height: 32px;\n",
              "      padding: 0 0 0 0;\n",
              "      width: 32px;\n",
              "    }\n",
              "\n",
              "    .colab-df-convert:hover {\n",
              "      background-color: #E2EBFA;\n",
              "      box-shadow: 0px 1px 2px rgba(60, 64, 67, 0.3), 0px 1px 3px 1px rgba(60, 64, 67, 0.15);\n",
              "      fill: #174EA6;\n",
              "    }\n",
              "\n",
              "    [theme=dark] .colab-df-convert {\n",
              "      background-color: #3B4455;\n",
              "      fill: #D2E3FC;\n",
              "    }\n",
              "\n",
              "    [theme=dark] .colab-df-convert:hover {\n",
              "      background-color: #434B5C;\n",
              "      box-shadow: 0px 1px 3px 1px rgba(0, 0, 0, 0.15);\n",
              "      filter: drop-shadow(0px 1px 2px rgba(0, 0, 0, 0.3));\n",
              "      fill: #FFFFFF;\n",
              "    }\n",
              "  </style>\n",
              "\n",
              "      <script>\n",
              "        const buttonEl =\n",
              "          document.querySelector('#df-53ee6bb0-8e59-4f4b-81af-3ef74d477e15 button.colab-df-convert');\n",
              "        buttonEl.style.display =\n",
              "          google.colab.kernel.accessAllowed ? 'block' : 'none';\n",
              "\n",
              "        async function convertToInteractive(key) {\n",
              "          const element = document.querySelector('#df-53ee6bb0-8e59-4f4b-81af-3ef74d477e15');\n",
              "          const dataTable =\n",
              "            await google.colab.kernel.invokeFunction('convertToInteractive',\n",
              "                                                     [key], {});\n",
              "          if (!dataTable) return;\n",
              "\n",
              "          const docLinkHtml = 'Like what you see? Visit the ' +\n",
              "            '<a target=\"_blank\" href=https://colab.research.google.com/notebooks/data_table.ipynb>data table notebook</a>'\n",
              "            + ' to learn more about interactive tables.';\n",
              "          element.innerHTML = '';\n",
              "          dataTable['output_type'] = 'display_data';\n",
              "          await google.colab.output.renderOutput(dataTable, element);\n",
              "          const docLink = document.createElement('div');\n",
              "          docLink.innerHTML = docLinkHtml;\n",
              "          element.appendChild(docLink);\n",
              "        }\n",
              "      </script>\n",
              "    </div>\n",
              "  </div>\n",
              "  "
            ]
          },
          "metadata": {},
          "execution_count": 29
        }
      ]
    },
    {
      "cell_type": "code",
      "source": [
        "#Finding correlation among numerical features, based on their strong relation we can choose the important features\n",
        "corr=house_scaled.corr()\n",
        "corr.style.background_gradient(cmap='Accent')"
      ],
      "metadata": {
        "colab": {
          "base_uri": "https://localhost:8080/",
          "height": 526
        },
        "id": "LqVbelx5RDsa",
        "outputId": "8de4d521-5244-4397-ef9a-039d6072b09d"
      },
      "execution_count": 30,
      "outputs": [
        {
          "output_type": "execute_result",
          "data": {
            "text/plain": [
              "<pandas.io.formats.style.Styler at 0x7f2b5f4ddd90>"
            ],
            "text/html": [
              "<style type=\"text/css\">\n",
              "#T_c0900_row0_col0, #T_c0900_row1_col1, #T_c0900_row2_col2, #T_c0900_row2_col3, #T_c0900_row2_col4, #T_c0900_row2_col5, #T_c0900_row2_col8, #T_c0900_row2_col11, #T_c0900_row3_col2, #T_c0900_row3_col3, #T_c0900_row3_col4, #T_c0900_row3_col5, #T_c0900_row4_col2, #T_c0900_row4_col3, #T_c0900_row4_col4, #T_c0900_row4_col5, #T_c0900_row5_col2, #T_c0900_row5_col3, #T_c0900_row5_col4, #T_c0900_row5_col5, #T_c0900_row6_col6, #T_c0900_row6_col12, #T_c0900_row7_col7, #T_c0900_row8_col2, #T_c0900_row8_col8, #T_c0900_row9_col9, #T_c0900_row10_col10, #T_c0900_row11_col2, #T_c0900_row11_col11, #T_c0900_row12_col6, #T_c0900_row12_col12, #T_c0900_row13_col13 {\n",
              "  background-color: #666666;\n",
              "  color: #f1f1f1;\n",
              "}\n",
              "#T_c0900_row0_col1, #T_c0900_row0_col6, #T_c0900_row0_col12, #T_c0900_row1_col6, #T_c0900_row1_col12, #T_c0900_row2_col1, #T_c0900_row2_col6, #T_c0900_row2_col12, #T_c0900_row3_col1, #T_c0900_row3_col6, #T_c0900_row3_col12, #T_c0900_row4_col1, #T_c0900_row4_col6, #T_c0900_row4_col12, #T_c0900_row5_col1, #T_c0900_row5_col6, #T_c0900_row5_col12, #T_c0900_row6_col1, #T_c0900_row7_col1, #T_c0900_row7_col6, #T_c0900_row7_col12, #T_c0900_row8_col1, #T_c0900_row8_col6, #T_c0900_row8_col12, #T_c0900_row9_col1, #T_c0900_row9_col6, #T_c0900_row9_col12, #T_c0900_row10_col1, #T_c0900_row10_col6, #T_c0900_row10_col12, #T_c0900_row11_col6, #T_c0900_row11_col12, #T_c0900_row12_col1 {\n",
              "  background-color: #beaed4;\n",
              "  color: #000000;\n",
              "}\n",
              "#T_c0900_row0_col2, #T_c0900_row0_col3, #T_c0900_row0_col4, #T_c0900_row0_col5, #T_c0900_row0_col8, #T_c0900_row0_col11, #T_c0900_row0_col13, #T_c0900_row1_col2, #T_c0900_row1_col3, #T_c0900_row1_col4, #T_c0900_row1_col5, #T_c0900_row1_col8, #T_c0900_row6_col2, #T_c0900_row6_col3, #T_c0900_row6_col4, #T_c0900_row6_col5, #T_c0900_row6_col8, #T_c0900_row6_col11, #T_c0900_row6_col13, #T_c0900_row7_col2, #T_c0900_row7_col3, #T_c0900_row7_col4, #T_c0900_row7_col5, #T_c0900_row7_col8, #T_c0900_row7_col11, #T_c0900_row7_col13, #T_c0900_row9_col2, #T_c0900_row9_col3, #T_c0900_row9_col4, #T_c0900_row9_col5, #T_c0900_row9_col8, #T_c0900_row9_col11, #T_c0900_row9_col13, #T_c0900_row10_col2, #T_c0900_row10_col3, #T_c0900_row10_col4, #T_c0900_row10_col5, #T_c0900_row10_col8, #T_c0900_row10_col11, #T_c0900_row10_col13, #T_c0900_row11_col1, #T_c0900_row12_col2, #T_c0900_row12_col3, #T_c0900_row12_col4, #T_c0900_row12_col5, #T_c0900_row12_col8, #T_c0900_row12_col11, #T_c0900_row12_col13 {\n",
              "  background-color: #ffff99;\n",
              "  color: #000000;\n",
              "}\n",
              "#T_c0900_row0_col7, #T_c0900_row0_col9, #T_c0900_row0_col10, #T_c0900_row1_col0, #T_c0900_row1_col7, #T_c0900_row1_col9, #T_c0900_row1_col10, #T_c0900_row2_col0, #T_c0900_row2_col7, #T_c0900_row2_col9, #T_c0900_row2_col10, #T_c0900_row2_col13, #T_c0900_row3_col0, #T_c0900_row3_col7, #T_c0900_row3_col9, #T_c0900_row3_col10, #T_c0900_row3_col13, #T_c0900_row4_col0, #T_c0900_row4_col7, #T_c0900_row4_col9, #T_c0900_row4_col10, #T_c0900_row4_col13, #T_c0900_row5_col0, #T_c0900_row5_col7, #T_c0900_row5_col9, #T_c0900_row5_col10, #T_c0900_row5_col13, #T_c0900_row6_col0, #T_c0900_row6_col7, #T_c0900_row6_col9, #T_c0900_row6_col10, #T_c0900_row7_col0, #T_c0900_row7_col9, #T_c0900_row7_col10, #T_c0900_row8_col0, #T_c0900_row8_col7, #T_c0900_row8_col9, #T_c0900_row8_col10, #T_c0900_row8_col13, #T_c0900_row9_col0, #T_c0900_row9_col7, #T_c0900_row9_col10, #T_c0900_row10_col0, #T_c0900_row10_col7, #T_c0900_row10_col9, #T_c0900_row11_col0, #T_c0900_row11_col7, #T_c0900_row11_col9, #T_c0900_row11_col10, #T_c0900_row11_col13, #T_c0900_row12_col0, #T_c0900_row12_col7, #T_c0900_row12_col9, #T_c0900_row12_col10, #T_c0900_row13_col0, #T_c0900_row13_col1, #T_c0900_row13_col2, #T_c0900_row13_col3, #T_c0900_row13_col4, #T_c0900_row13_col5, #T_c0900_row13_col6, #T_c0900_row13_col7, #T_c0900_row13_col8, #T_c0900_row13_col9, #T_c0900_row13_col10, #T_c0900_row13_col11, #T_c0900_row13_col12 {\n",
              "  background-color: #7fc97f;\n",
              "  color: #000000;\n",
              "}\n",
              "#T_c0900_row1_col11 {\n",
              "  background-color: #386cb0;\n",
              "  color: #f1f1f1;\n",
              "}\n",
              "#T_c0900_row1_col13 {\n",
              "  background-color: #fdc086;\n",
              "  color: #000000;\n",
              "}\n",
              "#T_c0900_row3_col8, #T_c0900_row3_col11, #T_c0900_row4_col8, #T_c0900_row4_col11, #T_c0900_row5_col8, #T_c0900_row5_col11, #T_c0900_row8_col3, #T_c0900_row8_col4, #T_c0900_row8_col5, #T_c0900_row8_col11, #T_c0900_row11_col3, #T_c0900_row11_col4, #T_c0900_row11_col5, #T_c0900_row11_col8 {\n",
              "  background-color: #bf5b17;\n",
              "  color: #f1f1f1;\n",
              "}\n",
              "</style>\n",
              "<table id=\"T_c0900_\" class=\"dataframe\">\n",
              "  <thead>\n",
              "    <tr>\n",
              "      <th class=\"blank level0\" >&nbsp;</th>\n",
              "      <th class=\"col_heading level0 col0\" >Id</th>\n",
              "      <th class=\"col_heading level0 col1\" >Area(total)</th>\n",
              "      <th class=\"col_heading level0 col2\" >Trooms</th>\n",
              "      <th class=\"col_heading level0 col3\" >Nbedrooms</th>\n",
              "      <th class=\"col_heading level0 col4\" >Nbwashrooms</th>\n",
              "      <th class=\"col_heading level0 col5\" >Twashrooms</th>\n",
              "      <th class=\"col_heading level0 col6\" >Roof(Area)</th>\n",
              "      <th class=\"col_heading level0 col7\" >Lawn(Area)</th>\n",
              "      <th class=\"col_heading level0 col8\" >Nfloors</th>\n",
              "      <th class=\"col_heading level0 col9\" >API</th>\n",
              "      <th class=\"col_heading level0 col10\" >ANB</th>\n",
              "      <th class=\"col_heading level0 col11\" >Expected price</th>\n",
              "      <th class=\"col_heading level0 col12\" >roof_encoder</th>\n",
              "      <th class=\"col_heading level0 col13\" >Grade_encoder</th>\n",
              "    </tr>\n",
              "  </thead>\n",
              "  <tbody>\n",
              "    <tr>\n",
              "      <th id=\"T_c0900_level0_row0\" class=\"row_heading level0 row0\" >Id</th>\n",
              "      <td id=\"T_c0900_row0_col0\" class=\"data row0 col0\" >1.000000</td>\n",
              "      <td id=\"T_c0900_row0_col1\" class=\"data row0 col1\" >0.003186</td>\n",
              "      <td id=\"T_c0900_row0_col2\" class=\"data row0 col2\" >0.003165</td>\n",
              "      <td id=\"T_c0900_row0_col3\" class=\"data row0 col3\" >0.004814</td>\n",
              "      <td id=\"T_c0900_row0_col4\" class=\"data row0 col4\" >0.003496</td>\n",
              "      <td id=\"T_c0900_row0_col5\" class=\"data row0 col5\" >0.001092</td>\n",
              "      <td id=\"T_c0900_row0_col6\" class=\"data row0 col6\" >0.013046</td>\n",
              "      <td id=\"T_c0900_row0_col7\" class=\"data row0 col7\" >0.006309</td>\n",
              "      <td id=\"T_c0900_row0_col8\" class=\"data row0 col8\" >-0.010939</td>\n",
              "      <td id=\"T_c0900_row0_col9\" class=\"data row0 col9\" >-0.003739</td>\n",
              "      <td id=\"T_c0900_row0_col10\" class=\"data row0 col10\" >-0.013219</td>\n",
              "      <td id=\"T_c0900_row0_col11\" class=\"data row0 col11\" >0.009216</td>\n",
              "      <td id=\"T_c0900_row0_col12\" class=\"data row0 col12\" >0.011059</td>\n",
              "      <td id=\"T_c0900_row0_col13\" class=\"data row0 col13\" >-0.006074</td>\n",
              "    </tr>\n",
              "    <tr>\n",
              "      <th id=\"T_c0900_level0_row1\" class=\"row_heading level0 row1\" >Area(total)</th>\n",
              "      <td id=\"T_c0900_row1_col0\" class=\"data row1 col0\" >0.003186</td>\n",
              "      <td id=\"T_c0900_row1_col1\" class=\"data row1 col1\" >1.000000</td>\n",
              "      <td id=\"T_c0900_row1_col2\" class=\"data row1 col2\" >0.019041</td>\n",
              "      <td id=\"T_c0900_row1_col3\" class=\"data row1 col3\" >0.031328</td>\n",
              "      <td id=\"T_c0900_row1_col4\" class=\"data row1 col4\" >0.031819</td>\n",
              "      <td id=\"T_c0900_row1_col5\" class=\"data row1 col5\" >0.038509</td>\n",
              "      <td id=\"T_c0900_row1_col6\" class=\"data row1 col6\" >0.017029</td>\n",
              "      <td id=\"T_c0900_row1_col7\" class=\"data row1 col7\" >-0.002118</td>\n",
              "      <td id=\"T_c0900_row1_col8\" class=\"data row1 col8\" >0.016819</td>\n",
              "      <td id=\"T_c0900_row1_col9\" class=\"data row1 col9\" >-0.000182</td>\n",
              "      <td id=\"T_c0900_row1_col10\" class=\"data row1 col10\" >-0.010846</td>\n",
              "      <td id=\"T_c0900_row1_col11\" class=\"data row1 col11\" >0.274507</td>\n",
              "      <td id=\"T_c0900_row1_col12\" class=\"data row1 col12\" >0.014229</td>\n",
              "      <td id=\"T_c0900_row1_col13\" class=\"data row1 col13\" >-0.177332</td>\n",
              "    </tr>\n",
              "    <tr>\n",
              "      <th id=\"T_c0900_level0_row2\" class=\"row_heading level0 row2\" >Trooms</th>\n",
              "      <td id=\"T_c0900_row2_col0\" class=\"data row2 col0\" >0.003165</td>\n",
              "      <td id=\"T_c0900_row2_col1\" class=\"data row2 col1\" >0.019041</td>\n",
              "      <td id=\"T_c0900_row2_col2\" class=\"data row2 col2\" >1.000000</td>\n",
              "      <td id=\"T_c0900_row2_col3\" class=\"data row2 col3\" >0.865878</td>\n",
              "      <td id=\"T_c0900_row2_col4\" class=\"data row2 col4\" >0.827072</td>\n",
              "      <td id=\"T_c0900_row2_col5\" class=\"data row2 col5\" >0.794870</td>\n",
              "      <td id=\"T_c0900_row2_col6\" class=\"data row2 col6\" >0.026550</td>\n",
              "      <td id=\"T_c0900_row2_col7\" class=\"data row2 col7\" >0.009557</td>\n",
              "      <td id=\"T_c0900_row2_col8\" class=\"data row2 col8\" >0.862367</td>\n",
              "      <td id=\"T_c0900_row2_col9\" class=\"data row2 col9\" >0.007502</td>\n",
              "      <td id=\"T_c0900_row2_col10\" class=\"data row2 col10\" >0.007321</td>\n",
              "      <td id=\"T_c0900_row2_col11\" class=\"data row2 col11\" >0.820170</td>\n",
              "      <td id=\"T_c0900_row2_col12\" class=\"data row2 col12\" >0.025142</td>\n",
              "      <td id=\"T_c0900_row2_col13\" class=\"data row2 col13\" >-0.875145</td>\n",
              "    </tr>\n",
              "    <tr>\n",
              "      <th id=\"T_c0900_level0_row3\" class=\"row_heading level0 row3\" >Nbedrooms</th>\n",
              "      <td id=\"T_c0900_row3_col0\" class=\"data row3 col0\" >0.004814</td>\n",
              "      <td id=\"T_c0900_row3_col1\" class=\"data row3 col1\" >0.031328</td>\n",
              "      <td id=\"T_c0900_row3_col2\" class=\"data row3 col2\" >0.865878</td>\n",
              "      <td id=\"T_c0900_row3_col3\" class=\"data row3 col3\" >1.000000</td>\n",
              "      <td id=\"T_c0900_row3_col4\" class=\"data row3 col4\" >0.956578</td>\n",
              "      <td id=\"T_c0900_row3_col5\" class=\"data row3 col5\" >0.919158</td>\n",
              "      <td id=\"T_c0900_row3_col6\" class=\"data row3 col6\" >0.025073</td>\n",
              "      <td id=\"T_c0900_row3_col7\" class=\"data row3 col7\" >0.000054</td>\n",
              "      <td id=\"T_c0900_row3_col8\" class=\"data row3 col8\" >0.742132</td>\n",
              "      <td id=\"T_c0900_row3_col9\" class=\"data row3 col9\" >0.002820</td>\n",
              "      <td id=\"T_c0900_row3_col10\" class=\"data row3 col10\" >0.015403</td>\n",
              "      <td id=\"T_c0900_row3_col11\" class=\"data row3 col11\" >0.715687</td>\n",
              "      <td id=\"T_c0900_row3_col12\" class=\"data row3 col12\" >0.023058</td>\n",
              "      <td id=\"T_c0900_row3_col13\" class=\"data row3 col13\" >-0.865389</td>\n",
              "    </tr>\n",
              "    <tr>\n",
              "      <th id=\"T_c0900_level0_row4\" class=\"row_heading level0 row4\" >Nbwashrooms</th>\n",
              "      <td id=\"T_c0900_row4_col0\" class=\"data row4 col0\" >0.003496</td>\n",
              "      <td id=\"T_c0900_row4_col1\" class=\"data row4 col1\" >0.031819</td>\n",
              "      <td id=\"T_c0900_row4_col2\" class=\"data row4 col2\" >0.827072</td>\n",
              "      <td id=\"T_c0900_row4_col3\" class=\"data row4 col3\" >0.956578</td>\n",
              "      <td id=\"T_c0900_row4_col4\" class=\"data row4 col4\" >1.000000</td>\n",
              "      <td id=\"T_c0900_row4_col5\" class=\"data row4 col5\" >0.960007</td>\n",
              "      <td id=\"T_c0900_row4_col6\" class=\"data row4 col6\" >0.028832</td>\n",
              "      <td id=\"T_c0900_row4_col7\" class=\"data row4 col7\" >0.006617</td>\n",
              "      <td id=\"T_c0900_row4_col8\" class=\"data row4 col8\" >0.711936</td>\n",
              "      <td id=\"T_c0900_row4_col9\" class=\"data row4 col9\" >0.011413</td>\n",
              "      <td id=\"T_c0900_row4_col10\" class=\"data row4 col10\" >0.008475</td>\n",
              "      <td id=\"T_c0900_row4_col11\" class=\"data row4 col11\" >0.683659</td>\n",
              "      <td id=\"T_c0900_row4_col12\" class=\"data row4 col12\" >0.028549</td>\n",
              "      <td id=\"T_c0900_row4_col13\" class=\"data row4 col13\" >-0.847319</td>\n",
              "    </tr>\n",
              "    <tr>\n",
              "      <th id=\"T_c0900_level0_row5\" class=\"row_heading level0 row5\" >Twashrooms</th>\n",
              "      <td id=\"T_c0900_row5_col0\" class=\"data row5 col0\" >0.001092</td>\n",
              "      <td id=\"T_c0900_row5_col1\" class=\"data row5 col1\" >0.038509</td>\n",
              "      <td id=\"T_c0900_row5_col2\" class=\"data row5 col2\" >0.794870</td>\n",
              "      <td id=\"T_c0900_row5_col3\" class=\"data row5 col3\" >0.919158</td>\n",
              "      <td id=\"T_c0900_row5_col4\" class=\"data row5 col4\" >0.960007</td>\n",
              "      <td id=\"T_c0900_row5_col5\" class=\"data row5 col5\" >1.000000</td>\n",
              "      <td id=\"T_c0900_row5_col6\" class=\"data row5 col6\" >0.028763</td>\n",
              "      <td id=\"T_c0900_row5_col7\" class=\"data row5 col7\" >0.008386</td>\n",
              "      <td id=\"T_c0900_row5_col8\" class=\"data row5 col8\" >0.684966</td>\n",
              "      <td id=\"T_c0900_row5_col9\" class=\"data row5 col9\" >0.012361</td>\n",
              "      <td id=\"T_c0900_row5_col10\" class=\"data row5 col10\" >0.016492</td>\n",
              "      <td id=\"T_c0900_row5_col11\" class=\"data row5 col11\" >0.654627</td>\n",
              "      <td id=\"T_c0900_row5_col12\" class=\"data row5 col12\" >0.028212</td>\n",
              "      <td id=\"T_c0900_row5_col13\" class=\"data row5 col13\" >-0.819280</td>\n",
              "    </tr>\n",
              "    <tr>\n",
              "      <th id=\"T_c0900_level0_row6\" class=\"row_heading level0 row6\" >Roof(Area)</th>\n",
              "      <td id=\"T_c0900_row6_col0\" class=\"data row6 col0\" >0.013046</td>\n",
              "      <td id=\"T_c0900_row6_col1\" class=\"data row6 col1\" >0.017029</td>\n",
              "      <td id=\"T_c0900_row6_col2\" class=\"data row6 col2\" >0.026550</td>\n",
              "      <td id=\"T_c0900_row6_col3\" class=\"data row6 col3\" >0.025073</td>\n",
              "      <td id=\"T_c0900_row6_col4\" class=\"data row6 col4\" >0.028832</td>\n",
              "      <td id=\"T_c0900_row6_col5\" class=\"data row6 col5\" >0.028763</td>\n",
              "      <td id=\"T_c0900_row6_col6\" class=\"data row6 col6\" >1.000000</td>\n",
              "      <td id=\"T_c0900_row6_col7\" class=\"data row6 col7\" >-0.006831</td>\n",
              "      <td id=\"T_c0900_row6_col8\" class=\"data row6 col8\" >0.013840</td>\n",
              "      <td id=\"T_c0900_row6_col9\" class=\"data row6 col9\" >-0.006331</td>\n",
              "      <td id=\"T_c0900_row6_col10\" class=\"data row6 col10\" >-0.015529</td>\n",
              "      <td id=\"T_c0900_row6_col11\" class=\"data row6 col11\" >0.009346</td>\n",
              "      <td id=\"T_c0900_row6_col12\" class=\"data row6 col12\" >0.976561</td>\n",
              "      <td id=\"T_c0900_row6_col13\" class=\"data row6 col13\" >-0.170259</td>\n",
              "    </tr>\n",
              "    <tr>\n",
              "      <th id=\"T_c0900_level0_row7\" class=\"row_heading level0 row7\" >Lawn(Area)</th>\n",
              "      <td id=\"T_c0900_row7_col0\" class=\"data row7 col0\" >0.006309</td>\n",
              "      <td id=\"T_c0900_row7_col1\" class=\"data row7 col1\" >-0.002118</td>\n",
              "      <td id=\"T_c0900_row7_col2\" class=\"data row7 col2\" >0.009557</td>\n",
              "      <td id=\"T_c0900_row7_col3\" class=\"data row7 col3\" >0.000054</td>\n",
              "      <td id=\"T_c0900_row7_col4\" class=\"data row7 col4\" >0.006617</td>\n",
              "      <td id=\"T_c0900_row7_col5\" class=\"data row7 col5\" >0.008386</td>\n",
              "      <td id=\"T_c0900_row7_col6\" class=\"data row7 col6\" >-0.006831</td>\n",
              "      <td id=\"T_c0900_row7_col7\" class=\"data row7 col7\" >1.000000</td>\n",
              "      <td id=\"T_c0900_row7_col8\" class=\"data row7 col8\" >0.013771</td>\n",
              "      <td id=\"T_c0900_row7_col9\" class=\"data row7 col9\" >0.011477</td>\n",
              "      <td id=\"T_c0900_row7_col10\" class=\"data row7 col10\" >0.025751</td>\n",
              "      <td id=\"T_c0900_row7_col11\" class=\"data row7 col11\" >0.011561</td>\n",
              "      <td id=\"T_c0900_row7_col12\" class=\"data row7 col12\" >-0.004640</td>\n",
              "      <td id=\"T_c0900_row7_col13\" class=\"data row7 col13\" >-0.051200</td>\n",
              "    </tr>\n",
              "    <tr>\n",
              "      <th id=\"T_c0900_level0_row8\" class=\"row_heading level0 row8\" >Nfloors</th>\n",
              "      <td id=\"T_c0900_row8_col0\" class=\"data row8 col0\" >-0.010939</td>\n",
              "      <td id=\"T_c0900_row8_col1\" class=\"data row8 col1\" >0.016819</td>\n",
              "      <td id=\"T_c0900_row8_col2\" class=\"data row8 col2\" >0.862367</td>\n",
              "      <td id=\"T_c0900_row8_col3\" class=\"data row8 col3\" >0.742132</td>\n",
              "      <td id=\"T_c0900_row8_col4\" class=\"data row8 col4\" >0.711936</td>\n",
              "      <td id=\"T_c0900_row8_col5\" class=\"data row8 col5\" >0.684966</td>\n",
              "      <td id=\"T_c0900_row8_col6\" class=\"data row8 col6\" >0.013840</td>\n",
              "      <td id=\"T_c0900_row8_col7\" class=\"data row8 col7\" >0.013771</td>\n",
              "      <td id=\"T_c0900_row8_col8\" class=\"data row8 col8\" >1.000000</td>\n",
              "      <td id=\"T_c0900_row8_col9\" class=\"data row8 col9\" >-0.002255</td>\n",
              "      <td id=\"T_c0900_row8_col10\" class=\"data row8 col10\" >0.020614</td>\n",
              "      <td id=\"T_c0900_row8_col11\" class=\"data row8 col11\" >0.714598</td>\n",
              "      <td id=\"T_c0900_row8_col12\" class=\"data row8 col12\" >0.014985</td>\n",
              "      <td id=\"T_c0900_row8_col13\" class=\"data row8 col13\" >-0.787623</td>\n",
              "    </tr>\n",
              "    <tr>\n",
              "      <th id=\"T_c0900_level0_row9\" class=\"row_heading level0 row9\" >API</th>\n",
              "      <td id=\"T_c0900_row9_col0\" class=\"data row9 col0\" >-0.003739</td>\n",
              "      <td id=\"T_c0900_row9_col1\" class=\"data row9 col1\" >-0.000182</td>\n",
              "      <td id=\"T_c0900_row9_col2\" class=\"data row9 col2\" >0.007502</td>\n",
              "      <td id=\"T_c0900_row9_col3\" class=\"data row9 col3\" >0.002820</td>\n",
              "      <td id=\"T_c0900_row9_col4\" class=\"data row9 col4\" >0.011413</td>\n",
              "      <td id=\"T_c0900_row9_col5\" class=\"data row9 col5\" >0.012361</td>\n",
              "      <td id=\"T_c0900_row9_col6\" class=\"data row9 col6\" >-0.006331</td>\n",
              "      <td id=\"T_c0900_row9_col7\" class=\"data row9 col7\" >0.011477</td>\n",
              "      <td id=\"T_c0900_row9_col8\" class=\"data row9 col8\" >-0.002255</td>\n",
              "      <td id=\"T_c0900_row9_col9\" class=\"data row9 col9\" >1.000000</td>\n",
              "      <td id=\"T_c0900_row9_col10\" class=\"data row9 col10\" >-0.025694</td>\n",
              "      <td id=\"T_c0900_row9_col11\" class=\"data row9 col11\" >0.016575</td>\n",
              "      <td id=\"T_c0900_row9_col12\" class=\"data row9 col12\" >-0.007983</td>\n",
              "      <td id=\"T_c0900_row9_col13\" class=\"data row9 col13\" >-0.099000</td>\n",
              "    </tr>\n",
              "    <tr>\n",
              "      <th id=\"T_c0900_level0_row10\" class=\"row_heading level0 row10\" >ANB</th>\n",
              "      <td id=\"T_c0900_row10_col0\" class=\"data row10 col0\" >-0.013219</td>\n",
              "      <td id=\"T_c0900_row10_col1\" class=\"data row10 col1\" >-0.010846</td>\n",
              "      <td id=\"T_c0900_row10_col2\" class=\"data row10 col2\" >0.007321</td>\n",
              "      <td id=\"T_c0900_row10_col3\" class=\"data row10 col3\" >0.015403</td>\n",
              "      <td id=\"T_c0900_row10_col4\" class=\"data row10 col4\" >0.008475</td>\n",
              "      <td id=\"T_c0900_row10_col5\" class=\"data row10 col5\" >0.016492</td>\n",
              "      <td id=\"T_c0900_row10_col6\" class=\"data row10 col6\" >-0.015529</td>\n",
              "      <td id=\"T_c0900_row10_col7\" class=\"data row10 col7\" >0.025751</td>\n",
              "      <td id=\"T_c0900_row10_col8\" class=\"data row10 col8\" >0.020614</td>\n",
              "      <td id=\"T_c0900_row10_col9\" class=\"data row10 col9\" >-0.025694</td>\n",
              "      <td id=\"T_c0900_row10_col10\" class=\"data row10 col10\" >1.000000</td>\n",
              "      <td id=\"T_c0900_row10_col11\" class=\"data row10 col11\" >0.015583</td>\n",
              "      <td id=\"T_c0900_row10_col12\" class=\"data row10 col12\" >-0.020511</td>\n",
              "      <td id=\"T_c0900_row10_col13\" class=\"data row10 col13\" >-0.024025</td>\n",
              "    </tr>\n",
              "    <tr>\n",
              "      <th id=\"T_c0900_level0_row11\" class=\"row_heading level0 row11\" >Expected price</th>\n",
              "      <td id=\"T_c0900_row11_col0\" class=\"data row11 col0\" >0.009216</td>\n",
              "      <td id=\"T_c0900_row11_col1\" class=\"data row11 col1\" >0.274507</td>\n",
              "      <td id=\"T_c0900_row11_col2\" class=\"data row11 col2\" >0.820170</td>\n",
              "      <td id=\"T_c0900_row11_col3\" class=\"data row11 col3\" >0.715687</td>\n",
              "      <td id=\"T_c0900_row11_col4\" class=\"data row11 col4\" >0.683659</td>\n",
              "      <td id=\"T_c0900_row11_col5\" class=\"data row11 col5\" >0.654627</td>\n",
              "      <td id=\"T_c0900_row11_col6\" class=\"data row11 col6\" >0.009346</td>\n",
              "      <td id=\"T_c0900_row11_col7\" class=\"data row11 col7\" >0.011561</td>\n",
              "      <td id=\"T_c0900_row11_col8\" class=\"data row11 col8\" >0.714598</td>\n",
              "      <td id=\"T_c0900_row11_col9\" class=\"data row11 col9\" >0.016575</td>\n",
              "      <td id=\"T_c0900_row11_col10\" class=\"data row11 col10\" >0.015583</td>\n",
              "      <td id=\"T_c0900_row11_col11\" class=\"data row11 col11\" >1.000000</td>\n",
              "      <td id=\"T_c0900_row11_col12\" class=\"data row11 col12\" >0.007880</td>\n",
              "      <td id=\"T_c0900_row11_col13\" class=\"data row11 col13\" >-0.760820</td>\n",
              "    </tr>\n",
              "    <tr>\n",
              "      <th id=\"T_c0900_level0_row12\" class=\"row_heading level0 row12\" >roof_encoder</th>\n",
              "      <td id=\"T_c0900_row12_col0\" class=\"data row12 col0\" >0.011059</td>\n",
              "      <td id=\"T_c0900_row12_col1\" class=\"data row12 col1\" >0.014229</td>\n",
              "      <td id=\"T_c0900_row12_col2\" class=\"data row12 col2\" >0.025142</td>\n",
              "      <td id=\"T_c0900_row12_col3\" class=\"data row12 col3\" >0.023058</td>\n",
              "      <td id=\"T_c0900_row12_col4\" class=\"data row12 col4\" >0.028549</td>\n",
              "      <td id=\"T_c0900_row12_col5\" class=\"data row12 col5\" >0.028212</td>\n",
              "      <td id=\"T_c0900_row12_col6\" class=\"data row12 col6\" >0.976561</td>\n",
              "      <td id=\"T_c0900_row12_col7\" class=\"data row12 col7\" >-0.004640</td>\n",
              "      <td id=\"T_c0900_row12_col8\" class=\"data row12 col8\" >0.014985</td>\n",
              "      <td id=\"T_c0900_row12_col9\" class=\"data row12 col9\" >-0.007983</td>\n",
              "      <td id=\"T_c0900_row12_col10\" class=\"data row12 col10\" >-0.020511</td>\n",
              "      <td id=\"T_c0900_row12_col11\" class=\"data row12 col11\" >0.007880</td>\n",
              "      <td id=\"T_c0900_row12_col12\" class=\"data row12 col12\" >1.000000</td>\n",
              "      <td id=\"T_c0900_row12_col13\" class=\"data row12 col13\" >-0.166635</td>\n",
              "    </tr>\n",
              "    <tr>\n",
              "      <th id=\"T_c0900_level0_row13\" class=\"row_heading level0 row13\" >Grade_encoder</th>\n",
              "      <td id=\"T_c0900_row13_col0\" class=\"data row13 col0\" >-0.006074</td>\n",
              "      <td id=\"T_c0900_row13_col1\" class=\"data row13 col1\" >-0.177332</td>\n",
              "      <td id=\"T_c0900_row13_col2\" class=\"data row13 col2\" >-0.875145</td>\n",
              "      <td id=\"T_c0900_row13_col3\" class=\"data row13 col3\" >-0.865389</td>\n",
              "      <td id=\"T_c0900_row13_col4\" class=\"data row13 col4\" >-0.847319</td>\n",
              "      <td id=\"T_c0900_row13_col5\" class=\"data row13 col5\" >-0.819280</td>\n",
              "      <td id=\"T_c0900_row13_col6\" class=\"data row13 col6\" >-0.170259</td>\n",
              "      <td id=\"T_c0900_row13_col7\" class=\"data row13 col7\" >-0.051200</td>\n",
              "      <td id=\"T_c0900_row13_col8\" class=\"data row13 col8\" >-0.787623</td>\n",
              "      <td id=\"T_c0900_row13_col9\" class=\"data row13 col9\" >-0.099000</td>\n",
              "      <td id=\"T_c0900_row13_col10\" class=\"data row13 col10\" >-0.024025</td>\n",
              "      <td id=\"T_c0900_row13_col11\" class=\"data row13 col11\" >-0.760820</td>\n",
              "      <td id=\"T_c0900_row13_col12\" class=\"data row13 col12\" >-0.166635</td>\n",
              "      <td id=\"T_c0900_row13_col13\" class=\"data row13 col13\" >1.000000</td>\n",
              "    </tr>\n",
              "  </tbody>\n",
              "</table>\n"
            ]
          },
          "metadata": {},
          "execution_count": 30
        }
      ]
    },
    {
      "cell_type": "code",
      "source": [
        "new_house_data=house_scaled.drop(columns=\"Id\")\n",
        "new_house_data"
      ],
      "metadata": {
        "colab": {
          "base_uri": "https://localhost:8080/",
          "height": 424
        },
        "id": "mICxsPXuTH-u",
        "outputId": "5133d854-fef6-4209-f8ec-5f79be9fcf79"
      },
      "execution_count": 31,
      "outputs": [
        {
          "output_type": "execute_result",
          "data": {
            "text/plain": [
              "      Area(total)  Trooms  Nbedrooms  Nbwashrooms  Twashrooms  Roof(Area)  \\\n",
              "0        0.700000    0.25   0.500000     0.428571       0.500    0.000000   \n",
              "1        0.971429    0.00   0.333333     0.285714       0.250    0.591667   \n",
              "2        0.485714    0.50   0.500000     0.428571       0.375    0.841667   \n",
              "3        0.571429    0.25   0.333333     0.285714       0.375    0.841667   \n",
              "4        0.428571    0.50   0.333333     0.428571       0.375    0.000000   \n",
              "...           ...     ...        ...          ...         ...         ...   \n",
              "2995     0.728571    1.00   0.666667     0.571429       0.625    0.791667   \n",
              "2996     0.028571    1.00   1.000000     0.857143       0.750    0.966667   \n",
              "2997     0.542857    0.50   0.333333     0.285714       0.375    0.000000   \n",
              "2998     0.042857    1.00   0.833333     0.857143       0.750    0.000000   \n",
              "2999     0.757143    0.50   0.666667     0.714286       0.750    0.000000   \n",
              "\n",
              "      Lawn(Area)   Nfloors       API  ANB  Expected price  roof_encoder  \\\n",
              "0           0.12  0.166667  0.650000  1.0        0.360251           0.0   \n",
              "1           0.52  0.333333  0.533333  0.6        0.370944           1.0   \n",
              "2           0.94  0.666667  0.400000  0.4        0.458702           1.0   \n",
              "3           0.24  0.166667  0.316667  0.2        0.232301           1.0   \n",
              "4           0.10  0.333333  0.000000  0.0        0.493732           0.0   \n",
              "...          ...       ...       ...  ...             ...           ...   \n",
              "2995        0.90  0.666667  0.833333  0.2        0.642330           1.0   \n",
              "2996        0.34  1.000000  0.950000  0.6        0.460546           1.0   \n",
              "2997        0.16  0.666667  0.916667  1.0        0.406711           0.0   \n",
              "2998        0.16  1.000000  0.183333  0.4        0.624631           0.0   \n",
              "2999        0.76  0.666667  0.916667  0.4        0.590339           0.0   \n",
              "\n",
              "      Grade_encoder  \n",
              "0                 3  \n",
              "1                 3  \n",
              "2                 2  \n",
              "3                 3  \n",
              "4                 3  \n",
              "...             ...  \n",
              "2995              1  \n",
              "2996              0  \n",
              "2997              3  \n",
              "2998              1  \n",
              "2999              2  \n",
              "\n",
              "[3000 rows x 13 columns]"
            ],
            "text/html": [
              "\n",
              "  <div id=\"df-be7e7c7c-ad38-4aa7-88ea-be15bb6b38c7\">\n",
              "    <div class=\"colab-df-container\">\n",
              "      <div>\n",
              "<style scoped>\n",
              "    .dataframe tbody tr th:only-of-type {\n",
              "        vertical-align: middle;\n",
              "    }\n",
              "\n",
              "    .dataframe tbody tr th {\n",
              "        vertical-align: top;\n",
              "    }\n",
              "\n",
              "    .dataframe thead th {\n",
              "        text-align: right;\n",
              "    }\n",
              "</style>\n",
              "<table border=\"1\" class=\"dataframe\">\n",
              "  <thead>\n",
              "    <tr style=\"text-align: right;\">\n",
              "      <th></th>\n",
              "      <th>Area(total)</th>\n",
              "      <th>Trooms</th>\n",
              "      <th>Nbedrooms</th>\n",
              "      <th>Nbwashrooms</th>\n",
              "      <th>Twashrooms</th>\n",
              "      <th>Roof(Area)</th>\n",
              "      <th>Lawn(Area)</th>\n",
              "      <th>Nfloors</th>\n",
              "      <th>API</th>\n",
              "      <th>ANB</th>\n",
              "      <th>Expected price</th>\n",
              "      <th>roof_encoder</th>\n",
              "      <th>Grade_encoder</th>\n",
              "    </tr>\n",
              "  </thead>\n",
              "  <tbody>\n",
              "    <tr>\n",
              "      <th>0</th>\n",
              "      <td>0.700000</td>\n",
              "      <td>0.25</td>\n",
              "      <td>0.500000</td>\n",
              "      <td>0.428571</td>\n",
              "      <td>0.500</td>\n",
              "      <td>0.000000</td>\n",
              "      <td>0.12</td>\n",
              "      <td>0.166667</td>\n",
              "      <td>0.650000</td>\n",
              "      <td>1.0</td>\n",
              "      <td>0.360251</td>\n",
              "      <td>0.0</td>\n",
              "      <td>3</td>\n",
              "    </tr>\n",
              "    <tr>\n",
              "      <th>1</th>\n",
              "      <td>0.971429</td>\n",
              "      <td>0.00</td>\n",
              "      <td>0.333333</td>\n",
              "      <td>0.285714</td>\n",
              "      <td>0.250</td>\n",
              "      <td>0.591667</td>\n",
              "      <td>0.52</td>\n",
              "      <td>0.333333</td>\n",
              "      <td>0.533333</td>\n",
              "      <td>0.6</td>\n",
              "      <td>0.370944</td>\n",
              "      <td>1.0</td>\n",
              "      <td>3</td>\n",
              "    </tr>\n",
              "    <tr>\n",
              "      <th>2</th>\n",
              "      <td>0.485714</td>\n",
              "      <td>0.50</td>\n",
              "      <td>0.500000</td>\n",
              "      <td>0.428571</td>\n",
              "      <td>0.375</td>\n",
              "      <td>0.841667</td>\n",
              "      <td>0.94</td>\n",
              "      <td>0.666667</td>\n",
              "      <td>0.400000</td>\n",
              "      <td>0.4</td>\n",
              "      <td>0.458702</td>\n",
              "      <td>1.0</td>\n",
              "      <td>2</td>\n",
              "    </tr>\n",
              "    <tr>\n",
              "      <th>3</th>\n",
              "      <td>0.571429</td>\n",
              "      <td>0.25</td>\n",
              "      <td>0.333333</td>\n",
              "      <td>0.285714</td>\n",
              "      <td>0.375</td>\n",
              "      <td>0.841667</td>\n",
              "      <td>0.24</td>\n",
              "      <td>0.166667</td>\n",
              "      <td>0.316667</td>\n",
              "      <td>0.2</td>\n",
              "      <td>0.232301</td>\n",
              "      <td>1.0</td>\n",
              "      <td>3</td>\n",
              "    </tr>\n",
              "    <tr>\n",
              "      <th>4</th>\n",
              "      <td>0.428571</td>\n",
              "      <td>0.50</td>\n",
              "      <td>0.333333</td>\n",
              "      <td>0.428571</td>\n",
              "      <td>0.375</td>\n",
              "      <td>0.000000</td>\n",
              "      <td>0.10</td>\n",
              "      <td>0.333333</td>\n",
              "      <td>0.000000</td>\n",
              "      <td>0.0</td>\n",
              "      <td>0.493732</td>\n",
              "      <td>0.0</td>\n",
              "      <td>3</td>\n",
              "    </tr>\n",
              "    <tr>\n",
              "      <th>...</th>\n",
              "      <td>...</td>\n",
              "      <td>...</td>\n",
              "      <td>...</td>\n",
              "      <td>...</td>\n",
              "      <td>...</td>\n",
              "      <td>...</td>\n",
              "      <td>...</td>\n",
              "      <td>...</td>\n",
              "      <td>...</td>\n",
              "      <td>...</td>\n",
              "      <td>...</td>\n",
              "      <td>...</td>\n",
              "      <td>...</td>\n",
              "    </tr>\n",
              "    <tr>\n",
              "      <th>2995</th>\n",
              "      <td>0.728571</td>\n",
              "      <td>1.00</td>\n",
              "      <td>0.666667</td>\n",
              "      <td>0.571429</td>\n",
              "      <td>0.625</td>\n",
              "      <td>0.791667</td>\n",
              "      <td>0.90</td>\n",
              "      <td>0.666667</td>\n",
              "      <td>0.833333</td>\n",
              "      <td>0.2</td>\n",
              "      <td>0.642330</td>\n",
              "      <td>1.0</td>\n",
              "      <td>1</td>\n",
              "    </tr>\n",
              "    <tr>\n",
              "      <th>2996</th>\n",
              "      <td>0.028571</td>\n",
              "      <td>1.00</td>\n",
              "      <td>1.000000</td>\n",
              "      <td>0.857143</td>\n",
              "      <td>0.750</td>\n",
              "      <td>0.966667</td>\n",
              "      <td>0.34</td>\n",
              "      <td>1.000000</td>\n",
              "      <td>0.950000</td>\n",
              "      <td>0.6</td>\n",
              "      <td>0.460546</td>\n",
              "      <td>1.0</td>\n",
              "      <td>0</td>\n",
              "    </tr>\n",
              "    <tr>\n",
              "      <th>2997</th>\n",
              "      <td>0.542857</td>\n",
              "      <td>0.50</td>\n",
              "      <td>0.333333</td>\n",
              "      <td>0.285714</td>\n",
              "      <td>0.375</td>\n",
              "      <td>0.000000</td>\n",
              "      <td>0.16</td>\n",
              "      <td>0.666667</td>\n",
              "      <td>0.916667</td>\n",
              "      <td>1.0</td>\n",
              "      <td>0.406711</td>\n",
              "      <td>0.0</td>\n",
              "      <td>3</td>\n",
              "    </tr>\n",
              "    <tr>\n",
              "      <th>2998</th>\n",
              "      <td>0.042857</td>\n",
              "      <td>1.00</td>\n",
              "      <td>0.833333</td>\n",
              "      <td>0.857143</td>\n",
              "      <td>0.750</td>\n",
              "      <td>0.000000</td>\n",
              "      <td>0.16</td>\n",
              "      <td>1.000000</td>\n",
              "      <td>0.183333</td>\n",
              "      <td>0.4</td>\n",
              "      <td>0.624631</td>\n",
              "      <td>0.0</td>\n",
              "      <td>1</td>\n",
              "    </tr>\n",
              "    <tr>\n",
              "      <th>2999</th>\n",
              "      <td>0.757143</td>\n",
              "      <td>0.50</td>\n",
              "      <td>0.666667</td>\n",
              "      <td>0.714286</td>\n",
              "      <td>0.750</td>\n",
              "      <td>0.000000</td>\n",
              "      <td>0.76</td>\n",
              "      <td>0.666667</td>\n",
              "      <td>0.916667</td>\n",
              "      <td>0.4</td>\n",
              "      <td>0.590339</td>\n",
              "      <td>0.0</td>\n",
              "      <td>2</td>\n",
              "    </tr>\n",
              "  </tbody>\n",
              "</table>\n",
              "<p>3000 rows × 13 columns</p>\n",
              "</div>\n",
              "      <button class=\"colab-df-convert\" onclick=\"convertToInteractive('df-be7e7c7c-ad38-4aa7-88ea-be15bb6b38c7')\"\n",
              "              title=\"Convert this dataframe to an interactive table.\"\n",
              "              style=\"display:none;\">\n",
              "        \n",
              "  <svg xmlns=\"http://www.w3.org/2000/svg\" height=\"24px\"viewBox=\"0 0 24 24\"\n",
              "       width=\"24px\">\n",
              "    <path d=\"M0 0h24v24H0V0z\" fill=\"none\"/>\n",
              "    <path d=\"M18.56 5.44l.94 2.06.94-2.06 2.06-.94-2.06-.94-.94-2.06-.94 2.06-2.06.94zm-11 1L8.5 8.5l.94-2.06 2.06-.94-2.06-.94L8.5 2.5l-.94 2.06-2.06.94zm10 10l.94 2.06.94-2.06 2.06-.94-2.06-.94-.94-2.06-.94 2.06-2.06.94z\"/><path d=\"M17.41 7.96l-1.37-1.37c-.4-.4-.92-.59-1.43-.59-.52 0-1.04.2-1.43.59L10.3 9.45l-7.72 7.72c-.78.78-.78 2.05 0 2.83L4 21.41c.39.39.9.59 1.41.59.51 0 1.02-.2 1.41-.59l7.78-7.78 2.81-2.81c.8-.78.8-2.07 0-2.86zM5.41 20L4 18.59l7.72-7.72 1.47 1.35L5.41 20z\"/>\n",
              "  </svg>\n",
              "      </button>\n",
              "      \n",
              "  <style>\n",
              "    .colab-df-container {\n",
              "      display:flex;\n",
              "      flex-wrap:wrap;\n",
              "      gap: 12px;\n",
              "    }\n",
              "\n",
              "    .colab-df-convert {\n",
              "      background-color: #E8F0FE;\n",
              "      border: none;\n",
              "      border-radius: 50%;\n",
              "      cursor: pointer;\n",
              "      display: none;\n",
              "      fill: #1967D2;\n",
              "      height: 32px;\n",
              "      padding: 0 0 0 0;\n",
              "      width: 32px;\n",
              "    }\n",
              "\n",
              "    .colab-df-convert:hover {\n",
              "      background-color: #E2EBFA;\n",
              "      box-shadow: 0px 1px 2px rgba(60, 64, 67, 0.3), 0px 1px 3px 1px rgba(60, 64, 67, 0.15);\n",
              "      fill: #174EA6;\n",
              "    }\n",
              "\n",
              "    [theme=dark] .colab-df-convert {\n",
              "      background-color: #3B4455;\n",
              "      fill: #D2E3FC;\n",
              "    }\n",
              "\n",
              "    [theme=dark] .colab-df-convert:hover {\n",
              "      background-color: #434B5C;\n",
              "      box-shadow: 0px 1px 3px 1px rgba(0, 0, 0, 0.15);\n",
              "      filter: drop-shadow(0px 1px 2px rgba(0, 0, 0, 0.3));\n",
              "      fill: #FFFFFF;\n",
              "    }\n",
              "  </style>\n",
              "\n",
              "      <script>\n",
              "        const buttonEl =\n",
              "          document.querySelector('#df-be7e7c7c-ad38-4aa7-88ea-be15bb6b38c7 button.colab-df-convert');\n",
              "        buttonEl.style.display =\n",
              "          google.colab.kernel.accessAllowed ? 'block' : 'none';\n",
              "\n",
              "        async function convertToInteractive(key) {\n",
              "          const element = document.querySelector('#df-be7e7c7c-ad38-4aa7-88ea-be15bb6b38c7');\n",
              "          const dataTable =\n",
              "            await google.colab.kernel.invokeFunction('convertToInteractive',\n",
              "                                                     [key], {});\n",
              "          if (!dataTable) return;\n",
              "\n",
              "          const docLinkHtml = 'Like what you see? Visit the ' +\n",
              "            '<a target=\"_blank\" href=https://colab.research.google.com/notebooks/data_table.ipynb>data table notebook</a>'\n",
              "            + ' to learn more about interactive tables.';\n",
              "          element.innerHTML = '';\n",
              "          dataTable['output_type'] = 'display_data';\n",
              "          await google.colab.output.renderOutput(dataTable, element);\n",
              "          const docLink = document.createElement('div');\n",
              "          docLink.innerHTML = docLinkHtml;\n",
              "          element.appendChild(docLink);\n",
              "        }\n",
              "      </script>\n",
              "    </div>\n",
              "  </div>\n",
              "  "
            ]
          },
          "metadata": {},
          "execution_count": 31
        }
      ]
    },
    {
      "cell_type": "markdown",
      "source": [
        "##Creating test and training datasets"
      ],
      "metadata": {
        "id": "W9a41o8ST0C2"
      }
    },
    {
      "cell_type": "code",
      "source": [
        "X = new_house_data.drop(columns='Grade_encoder',axis=1)\n",
        "Y = new_house_data['Grade_encoder']\n",
        "X_train,X_test,Y_train,Y_test=train_test_split(X,Y,test_size=0.2,random_state=100)\n",
        "X_train.shape, Y_train.shape, X_test.shape"
      ],
      "metadata": {
        "colab": {
          "base_uri": "https://localhost:8080/"
        },
        "id": "HDJJpC3bf3hu",
        "outputId": "a723b254-f977-4d51-fbcf-3347c835784a"
      },
      "execution_count": 32,
      "outputs": [
        {
          "output_type": "execute_result",
          "data": {
            "text/plain": [
              "((2400, 12), (2400,), (600, 12))"
            ]
          },
          "metadata": {},
          "execution_count": 32
        }
      ]
    },
    {
      "cell_type": "markdown",
      "source": [
        "##LOGISTIC REGRESSION"
      ],
      "metadata": {
        "id": "nAkl6kuf0neS"
      }
    },
    {
      "cell_type": "code",
      "source": [
        "# Logistic Regression - training the model\n",
        "logreg = LogisticRegression()\n",
        "logreg.fit(X_train,Y_train)\n",
        "# Using the trained model to predict the outcome of the X_Test dataset\n",
        "Y_pred_LR = logreg.predict(X_test)"
      ],
      "metadata": {
        "id": "ZCsXt5PO0lj0"
      },
      "execution_count": 33,
      "outputs": []
    },
    {
      "cell_type": "code",
      "source": [
        "Accuracy_LR=logreg.score(X_test,Y_test)\n",
        "print(\"ACCURACY OF THE TEST DATA SET\",Accuracy_LR)"
      ],
      "metadata": {
        "colab": {
          "base_uri": "https://localhost:8080/"
        },
        "id": "C_AYJ_Bt3eAE",
        "outputId": "f041e8c1-5980-410f-8003-998a41de3ce5"
      },
      "execution_count": 34,
      "outputs": [
        {
          "output_type": "stream",
          "name": "stdout",
          "text": [
            "ACCURACY OF THE TEST DATA SET 0.9266666666666666\n"
          ]
        }
      ]
    },
    {
      "cell_type": "code",
      "source": [
        "from sklearn.metrics import confusion_matrix\n"
      ],
      "metadata": {
        "id": "71OErX86Fc1H"
      },
      "execution_count": 35,
      "outputs": []
    },
    {
      "cell_type": "code",
      "source": [
        "# Creating  a confusion matrix,which compares the y_test and y_pred\n",
        "cm = confusion_matrix(Y_test, Y_pred_LR)"
      ],
      "metadata": {
        "id": "hTeNOxSZIEMV"
      },
      "execution_count": 36,
      "outputs": []
    },
    {
      "cell_type": "code",
      "source": [
        "# Creating a dataframe for a array-formatted Confusion matrix,so it will be easy for plotting.\n",
        "cm_df = pd.DataFrame(cm,\n",
        "                     index = ['A','B','C','D','E'],\n",
        "                     columns = ['A','B','C','D','E'])"
      ],
      "metadata": {
        "id": "Gi4TOOtjIT3-"
      },
      "execution_count": 37,
      "outputs": []
    },
    {
      "cell_type": "code",
      "source": [
        "cm_df"
      ],
      "metadata": {
        "colab": {
          "base_uri": "https://localhost:8080/",
          "height": 206
        },
        "id": "7XP0Tz5UJO_p",
        "outputId": "fb92f342-7df3-4583-9279-9e0565f89089"
      },
      "execution_count": 38,
      "outputs": [
        {
          "output_type": "execute_result",
          "data": {
            "text/plain": [
              "    A    B    C    D  E\n",
              "A  66    2    0    0  0\n",
              "B   3  107    9    0  0\n",
              "C   0    3  131    8  0\n",
              "D   0    0    7  250  0\n",
              "E   0    0    0   12  2"
            ],
            "text/html": [
              "\n",
              "  <div id=\"df-b3ea8086-d82f-4325-b9c5-2ccb82331c86\">\n",
              "    <div class=\"colab-df-container\">\n",
              "      <div>\n",
              "<style scoped>\n",
              "    .dataframe tbody tr th:only-of-type {\n",
              "        vertical-align: middle;\n",
              "    }\n",
              "\n",
              "    .dataframe tbody tr th {\n",
              "        vertical-align: top;\n",
              "    }\n",
              "\n",
              "    .dataframe thead th {\n",
              "        text-align: right;\n",
              "    }\n",
              "</style>\n",
              "<table border=\"1\" class=\"dataframe\">\n",
              "  <thead>\n",
              "    <tr style=\"text-align: right;\">\n",
              "      <th></th>\n",
              "      <th>A</th>\n",
              "      <th>B</th>\n",
              "      <th>C</th>\n",
              "      <th>D</th>\n",
              "      <th>E</th>\n",
              "    </tr>\n",
              "  </thead>\n",
              "  <tbody>\n",
              "    <tr>\n",
              "      <th>A</th>\n",
              "      <td>66</td>\n",
              "      <td>2</td>\n",
              "      <td>0</td>\n",
              "      <td>0</td>\n",
              "      <td>0</td>\n",
              "    </tr>\n",
              "    <tr>\n",
              "      <th>B</th>\n",
              "      <td>3</td>\n",
              "      <td>107</td>\n",
              "      <td>9</td>\n",
              "      <td>0</td>\n",
              "      <td>0</td>\n",
              "    </tr>\n",
              "    <tr>\n",
              "      <th>C</th>\n",
              "      <td>0</td>\n",
              "      <td>3</td>\n",
              "      <td>131</td>\n",
              "      <td>8</td>\n",
              "      <td>0</td>\n",
              "    </tr>\n",
              "    <tr>\n",
              "      <th>D</th>\n",
              "      <td>0</td>\n",
              "      <td>0</td>\n",
              "      <td>7</td>\n",
              "      <td>250</td>\n",
              "      <td>0</td>\n",
              "    </tr>\n",
              "    <tr>\n",
              "      <th>E</th>\n",
              "      <td>0</td>\n",
              "      <td>0</td>\n",
              "      <td>0</td>\n",
              "      <td>12</td>\n",
              "      <td>2</td>\n",
              "    </tr>\n",
              "  </tbody>\n",
              "</table>\n",
              "</div>\n",
              "      <button class=\"colab-df-convert\" onclick=\"convertToInteractive('df-b3ea8086-d82f-4325-b9c5-2ccb82331c86')\"\n",
              "              title=\"Convert this dataframe to an interactive table.\"\n",
              "              style=\"display:none;\">\n",
              "        \n",
              "  <svg xmlns=\"http://www.w3.org/2000/svg\" height=\"24px\"viewBox=\"0 0 24 24\"\n",
              "       width=\"24px\">\n",
              "    <path d=\"M0 0h24v24H0V0z\" fill=\"none\"/>\n",
              "    <path d=\"M18.56 5.44l.94 2.06.94-2.06 2.06-.94-2.06-.94-.94-2.06-.94 2.06-2.06.94zm-11 1L8.5 8.5l.94-2.06 2.06-.94-2.06-.94L8.5 2.5l-.94 2.06-2.06.94zm10 10l.94 2.06.94-2.06 2.06-.94-2.06-.94-.94-2.06-.94 2.06-2.06.94z\"/><path d=\"M17.41 7.96l-1.37-1.37c-.4-.4-.92-.59-1.43-.59-.52 0-1.04.2-1.43.59L10.3 9.45l-7.72 7.72c-.78.78-.78 2.05 0 2.83L4 21.41c.39.39.9.59 1.41.59.51 0 1.02-.2 1.41-.59l7.78-7.78 2.81-2.81c.8-.78.8-2.07 0-2.86zM5.41 20L4 18.59l7.72-7.72 1.47 1.35L5.41 20z\"/>\n",
              "  </svg>\n",
              "      </button>\n",
              "      \n",
              "  <style>\n",
              "    .colab-df-container {\n",
              "      display:flex;\n",
              "      flex-wrap:wrap;\n",
              "      gap: 12px;\n",
              "    }\n",
              "\n",
              "    .colab-df-convert {\n",
              "      background-color: #E8F0FE;\n",
              "      border: none;\n",
              "      border-radius: 50%;\n",
              "      cursor: pointer;\n",
              "      display: none;\n",
              "      fill: #1967D2;\n",
              "      height: 32px;\n",
              "      padding: 0 0 0 0;\n",
              "      width: 32px;\n",
              "    }\n",
              "\n",
              "    .colab-df-convert:hover {\n",
              "      background-color: #E2EBFA;\n",
              "      box-shadow: 0px 1px 2px rgba(60, 64, 67, 0.3), 0px 1px 3px 1px rgba(60, 64, 67, 0.15);\n",
              "      fill: #174EA6;\n",
              "    }\n",
              "\n",
              "    [theme=dark] .colab-df-convert {\n",
              "      background-color: #3B4455;\n",
              "      fill: #D2E3FC;\n",
              "    }\n",
              "\n",
              "    [theme=dark] .colab-df-convert:hover {\n",
              "      background-color: #434B5C;\n",
              "      box-shadow: 0px 1px 3px 1px rgba(0, 0, 0, 0.15);\n",
              "      filter: drop-shadow(0px 1px 2px rgba(0, 0, 0, 0.3));\n",
              "      fill: #FFFFFF;\n",
              "    }\n",
              "  </style>\n",
              "\n",
              "      <script>\n",
              "        const buttonEl =\n",
              "          document.querySelector('#df-b3ea8086-d82f-4325-b9c5-2ccb82331c86 button.colab-df-convert');\n",
              "        buttonEl.style.display =\n",
              "          google.colab.kernel.accessAllowed ? 'block' : 'none';\n",
              "\n",
              "        async function convertToInteractive(key) {\n",
              "          const element = document.querySelector('#df-b3ea8086-d82f-4325-b9c5-2ccb82331c86');\n",
              "          const dataTable =\n",
              "            await google.colab.kernel.invokeFunction('convertToInteractive',\n",
              "                                                     [key], {});\n",
              "          if (!dataTable) return;\n",
              "\n",
              "          const docLinkHtml = 'Like what you see? Visit the ' +\n",
              "            '<a target=\"_blank\" href=https://colab.research.google.com/notebooks/data_table.ipynb>data table notebook</a>'\n",
              "            + ' to learn more about interactive tables.';\n",
              "          element.innerHTML = '';\n",
              "          dataTable['output_type'] = 'display_data';\n",
              "          await google.colab.output.renderOutput(dataTable, element);\n",
              "          const docLink = document.createElement('div');\n",
              "          docLink.innerHTML = docLinkHtml;\n",
              "          element.appendChild(docLink);\n",
              "        }\n",
              "      </script>\n",
              "    </div>\n",
              "  </div>\n",
              "  "
            ]
          },
          "metadata": {},
          "execution_count": 38
        }
      ]
    },
    {
      "cell_type": "code",
      "source": [
        "#Plotting the confusion matrix\n",
        "plt.figure(figsize=(10,4))\n",
        "sns.heatmap(cm_df, annot=True,fmt='g')\n",
        "plt.title('Confusion Matrix')\n",
        "plt.ylabel('Actal Values')\n",
        "plt.xlabel('Predicted Values')\n",
        "plt.show()\n"
      ],
      "metadata": {
        "colab": {
          "base_uri": "https://localhost:8080/",
          "height": 301
        },
        "id": "329O1ubYIT7Z",
        "outputId": "dbe48e8a-24bb-45c7-9622-bcc1de1ed84b"
      },
      "execution_count": 39,
      "outputs": [
        {
          "output_type": "display_data",
          "data": {
            "text/plain": [
              "<Figure size 720x288 with 2 Axes>"
            ],
            "image/png": "[encoded data removed]"
          },
          "metadata": {}
        }
      ]
    },
    {
      "cell_type": "code",
      "source": [
        "a=print(classification_report(Y_test,Y_pred_LR,target_names=[\"A\",\"B\",'C','D','E']))"
      ],
      "metadata": {
        "colab": {
          "base_uri": "https://localhost:8080/"
        },
        "id": "DwpMTsxfWe0d",
        "outputId": "012f1177-3c1c-491c-afa0-c77867d015bb"
      },
      "execution_count": 103,
      "outputs": [
        {
          "output_type": "stream",
          "name": "stdout",
          "text": [
            "              precision    recall  f1-score   support\n",
            "\n",
            "           A       0.96      0.97      0.96        68\n",
            "           B       0.96      0.90      0.93       119\n",
            "           C       0.89      0.92      0.91       142\n",
            "           D       0.93      0.97      0.95       257\n",
            "           E       1.00      0.14      0.25        14\n",
            "\n",
            "    accuracy                           0.93       600\n",
            "   macro avg       0.95      0.78      0.80       600\n",
            "weighted avg       0.93      0.93      0.92       600\n",
            "\n"
          ]
        }
      ]
    },
    {
      "cell_type": "markdown",
      "source": [
        "##EVALUATION METRICES"
      ],
      "metadata": {
        "id": "u_zdx2GzKQDt"
      }
    },
    {
      "cell_type": "markdown",
      "source": [
        "Accuracy simply measures how often the classifier correctly predicts. We can define accuracy as the ratio of the number of correct predictions and the total number of predictions.\n",
        "![image.png](data:image/png;base64,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)\n",
        "\n",
        "*    Precision —Precision explains how many of the correctly predicted cases actually turned out to be positive.\n",
        "\n",
        "*   ![image.png](data:image/png;base64,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)\n",
        "\n",
        "*  Recall explains how many of the actual positive cases we were able to predict correctly with our model\n",
        "*   ![image.png](data:image/png;base64,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)\n",
        "\n",
        "*   F1 Score — It gives a combined idea about Precision and Recall metrics. It is maximum when Precision is equal to Recall.\n",
        "*   ![image.png](data:image/png;base64,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)\n",
        "\n",
        "\n",
        "\n",
        "\n",
        "\n"
      ],
      "metadata": {
        "id": "l0b4BDznKTqr"
      }
    },
    {
      "cell_type": "code",
      "source": [
        "Accuracy_LR=accuracy_score(Y_test,Y_pred_LR)\n",
        "Recall_LR= recall_score(Y_test, Y_pred_LR,average='weighted')\n",
        "F1_LR=f1_score(Y_test, Y_pred_LR,average='weighted')\n",
        "Pression_LR=precision_score(Y_test, Y_pred_LR,average='weighted')\n",
        "print(\"ACCURACY SCORE\",Accuracy_LR,\"\\n\",\"RECALL SCORE\",Recall_LR,\"\\n\",\"F1 SCORE\",F1_LR,\"\\n\",\"PRECISION SCORE\",Pression_LR)"
      ],
      "metadata": {
        "colab": {
          "base_uri": "https://localhost:8080/"
        },
        "id": "NZcs5HLM4X5d",
        "outputId": "84f3d535-3bad-477f-d5c7-fdea4968f976"
      },
      "execution_count": 40,
      "outputs": [
        {
          "output_type": "stream",
          "name": "stdout",
          "text": [
            "ACCURACY SCORE 0.9266666666666666 \n",
            " RECALL SCORE 0.9266666666666666 \n",
            " F1 SCORE 0.9197120891820775 \n",
            " PRECISION SCORE 0.9287302648515123\n"
          ]
        }
      ]
    },
    {
      "cell_type": "markdown",
      "source": [
        "##DECISION TREE"
      ],
      "metadata": {
        "id": "dDg5ZuuX79Ck"
      }
    },
    {
      "cell_type": "code",
      "source": [
        "# Finding the best hyperparameters for decision tree \n",
        "\n",
        "DT = DecisionTreeClassifier()\n",
        "\n",
        "params = {\n",
        "    'max_depth': [1,2,3,4,5,6,7,8,9,10],\n",
        "    'min_samples_leaf': [2,5,10,20,30,40,60,80,100]\n",
        "}\n",
        "\n",
        "grid= GridSearchCV(estimator=DT,\n",
        "                           param_grid=params,\n",
        "                           cv = 10,\n",
        "                           verbose=1,scoring=\"accuracy\")\n",
        "\n",
        "# Training the grid\n",
        "grid.fit(X_train,Y_train)\n",
        "\n",
        "# Getting the best hyperparameters\n",
        "best_grid = grid.best_estimator_\n",
        "best_grid"
      ],
      "metadata": {
        "colab": {
          "base_uri": "https://localhost:8080/"
        },
        "id": "XqOLp_sZR9zY",
        "outputId": "2518a167-cd37-417a-b8cc-ce75e727ed04"
      },
      "execution_count": 41,
      "outputs": [
        {
          "output_type": "stream",
          "name": "stdout",
          "text": [
            "Fitting 10 folds for each of 90 candidates, totalling 900 fits\n"
          ]
        },
        {
          "output_type": "execute_result",
          "data": {
            "text/plain": [
              "DecisionTreeClassifier(max_depth=9, min_samples_leaf=5)"
            ]
          },
          "metadata": {},
          "execution_count": 41
        }
      ]
    },
    {
      "cell_type": "code",
      "source": [
        "dt = DecisionTreeClassifier(max_depth=9, min_samples_leaf=5).fit(X_train,Y_train)\n",
        "# Predicting using new dt\n",
        "dt_pred =dt.predict(X_test)\n"
      ],
      "metadata": {
        "id": "rSSAy3sX7as5"
      },
      "execution_count": 42,
      "outputs": []
    },
    {
      "cell_type": "code",
      "source": [
        "# Creating  a confusion matrix,which compares the y_test and y_pred\n",
        "cm_dt = confusion_matrix(Y_test, dt_pred)"
      ],
      "metadata": {
        "id": "i1_gyul5Ojts"
      },
      "execution_count": 43,
      "outputs": []
    },
    {
      "cell_type": "code",
      "source": [
        "# Creating a dataframe for a array-formatted Confusion matrix,so it will be easy for plotting.\n",
        "cm_DT = pd.DataFrame(cm_dt,\n",
        "                     index = ['A','B','C','D','E'],\n",
        "                     columns = ['A','B','C','D','E'])"
      ],
      "metadata": {
        "id": "w0XpUz2KOygg"
      },
      "execution_count": 44,
      "outputs": []
    },
    {
      "cell_type": "code",
      "source": [
        "cm_DT"
      ],
      "metadata": {
        "colab": {
          "base_uri": "https://localhost:8080/",
          "height": 206
        },
        "id": "nGyuQSgaO9OR",
        "outputId": "04f94d07-1d86-4ef5-bf4b-14f548ee4436"
      },
      "execution_count": 45,
      "outputs": [
        {
          "output_type": "execute_result",
          "data": {
            "text/plain": [
              "    A   B    C    D  E\n",
              "A  63   5    0    0  0\n",
              "B  14  89   16    0  0\n",
              "C   0   6  121   15  0\n",
              "D   0   0   21  233  3\n",
              "E   0   0    0    8  6"
            ],
            "text/html": [
              "\n",
              "  <div id=\"df-ea8372eb-2fa3-4876-bb47-532cfca01470\">\n",
              "    <div class=\"colab-df-container\">\n",
              "      <div>\n",
              "<style scoped>\n",
              "    .dataframe tbody tr th:only-of-type {\n",
              "        vertical-align: middle;\n",
              "    }\n",
              "\n",
              "    .dataframe tbody tr th {\n",
              "        vertical-align: top;\n",
              "    }\n",
              "\n",
              "    .dataframe thead th {\n",
              "        text-align: right;\n",
              "    }\n",
              "</style>\n",
              "<table border=\"1\" class=\"dataframe\">\n",
              "  <thead>\n",
              "    <tr style=\"text-align: right;\">\n",
              "      <th></th>\n",
              "      <th>A</th>\n",
              "      <th>B</th>\n",
              "      <th>C</th>\n",
              "      <th>D</th>\n",
              "      <th>E</th>\n",
              "    </tr>\n",
              "  </thead>\n",
              "  <tbody>\n",
              "    <tr>\n",
              "      <th>A</th>\n",
              "      <td>63</td>\n",
              "      <td>5</td>\n",
              "      <td>0</td>\n",
              "      <td>0</td>\n",
              "      <td>0</td>\n",
              "    </tr>\n",
              "    <tr>\n",
              "      <th>B</th>\n",
              "      <td>14</td>\n",
              "      <td>89</td>\n",
              "      <td>16</td>\n",
              "      <td>0</td>\n",
              "      <td>0</td>\n",
              "    </tr>\n",
              "    <tr>\n",
              "      <th>C</th>\n",
              "      <td>0</td>\n",
              "      <td>6</td>\n",
              "      <td>121</td>\n",
              "      <td>15</td>\n",
              "      <td>0</td>\n",
              "    </tr>\n",
              "    <tr>\n",
              "      <th>D</th>\n",
              "      <td>0</td>\n",
              "      <td>0</td>\n",
              "      <td>21</td>\n",
              "      <td>233</td>\n",
              "      <td>3</td>\n",
              "    </tr>\n",
              "    <tr>\n",
              "      <th>E</th>\n",
              "      <td>0</td>\n",
              "      <td>0</td>\n",
              "      <td>0</td>\n",
              "      <td>8</td>\n",
              "      <td>6</td>\n",
              "    </tr>\n",
              "  </tbody>\n",
              "</table>\n",
              "</div>\n",
              "      <button class=\"colab-df-convert\" onclick=\"convertToInteractive('df-ea8372eb-2fa3-4876-bb47-532cfca01470')\"\n",
              "              title=\"Convert this dataframe to an interactive table.\"\n",
              "              style=\"display:none;\">\n",
              "        \n",
              "  <svg xmlns=\"http://www.w3.org/2000/svg\" height=\"24px\"viewBox=\"0 0 24 24\"\n",
              "       width=\"24px\">\n",
              "    <path d=\"M0 0h24v24H0V0z\" fill=\"none\"/>\n",
              "    <path d=\"M18.56 5.44l.94 2.06.94-2.06 2.06-.94-2.06-.94-.94-2.06-.94 2.06-2.06.94zm-11 1L8.5 8.5l.94-2.06 2.06-.94-2.06-.94L8.5 2.5l-.94 2.06-2.06.94zm10 10l.94 2.06.94-2.06 2.06-.94-2.06-.94-.94-2.06-.94 2.06-2.06.94z\"/><path d=\"M17.41 7.96l-1.37-1.37c-.4-.4-.92-.59-1.43-.59-.52 0-1.04.2-1.43.59L10.3 9.45l-7.72 7.72c-.78.78-.78 2.05 0 2.83L4 21.41c.39.39.9.59 1.41.59.51 0 1.02-.2 1.41-.59l7.78-7.78 2.81-2.81c.8-.78.8-2.07 0-2.86zM5.41 20L4 18.59l7.72-7.72 1.47 1.35L5.41 20z\"/>\n",
              "  </svg>\n",
              "      </button>\n",
              "      \n",
              "  <style>\n",
              "    .colab-df-container {\n",
              "      display:flex;\n",
              "      flex-wrap:wrap;\n",
              "      gap: 12px;\n",
              "    }\n",
              "\n",
              "    .colab-df-convert {\n",
              "      background-color: #E8F0FE;\n",
              "      border: none;\n",
              "      border-radius: 50%;\n",
              "      cursor: pointer;\n",
              "      display: none;\n",
              "      fill: #1967D2;\n",
              "      height: 32px;\n",
              "      padding: 0 0 0 0;\n",
              "      width: 32px;\n",
              "    }\n",
              "\n",
              "    .colab-df-convert:hover {\n",
              "      background-color: #E2EBFA;\n",
              "      box-shadow: 0px 1px 2px rgba(60, 64, 67, 0.3), 0px 1px 3px 1px rgba(60, 64, 67, 0.15);\n",
              "      fill: #174EA6;\n",
              "    }\n",
              "\n",
              "    [theme=dark] .colab-df-convert {\n",
              "      background-color: #3B4455;\n",
              "      fill: #D2E3FC;\n",
              "    }\n",
              "\n",
              "    [theme=dark] .colab-df-convert:hover {\n",
              "      background-color: #434B5C;\n",
              "      box-shadow: 0px 1px 3px 1px rgba(0, 0, 0, 0.15);\n",
              "      filter: drop-shadow(0px 1px 2px rgba(0, 0, 0, 0.3));\n",
              "      fill: #FFFFFF;\n",
              "    }\n",
              "  </style>\n",
              "\n",
              "      <script>\n",
              "        const buttonEl =\n",
              "          document.querySelector('#df-ea8372eb-2fa3-4876-bb47-532cfca01470 button.colab-df-convert');\n",
              "        buttonEl.style.display =\n",
              "          google.colab.kernel.accessAllowed ? 'block' : 'none';\n",
              "\n",
              "        async function convertToInteractive(key) {\n",
              "          const element = document.querySelector('#df-ea8372eb-2fa3-4876-bb47-532cfca01470');\n",
              "          const dataTable =\n",
              "            await google.colab.kernel.invokeFunction('convertToInteractive',\n",
              "                                                     [key], {});\n",
              "          if (!dataTable) return;\n",
              "\n",
              "          const docLinkHtml = 'Like what you see? Visit the ' +\n",
              "            '<a target=\"_blank\" href=https://colab.research.google.com/notebooks/data_table.ipynb>data table notebook</a>'\n",
              "            + ' to learn more about interactive tables.';\n",
              "          element.innerHTML = '';\n",
              "          dataTable['output_type'] = 'display_data';\n",
              "          await google.colab.output.renderOutput(dataTable, element);\n",
              "          const docLink = document.createElement('div');\n",
              "          docLink.innerHTML = docLinkHtml;\n",
              "          element.appendChild(docLink);\n",
              "        }\n",
              "      </script>\n",
              "    </div>\n",
              "  </div>\n",
              "  "
            ]
          },
          "metadata": {},
          "execution_count": 45
        }
      ]
    },
    {
      "cell_type": "code",
      "source": [
        "#Plotting the confusion matrix\n",
        "plt.figure(figsize=(10,4))\n",
        "sns.heatmap(cm_DT, annot=True,fmt='g')\n",
        "plt.title('Confusion Matrix')\n",
        "plt.ylabel('Actal Values')\n",
        "plt.xlabel('Predicted Values')\n",
        "plt.show()\n"
      ],
      "metadata": {
        "colab": {
          "base_uri": "https://localhost:8080/",
          "height": 301
        },
        "id": "PqhD12GMOykW",
        "outputId": "21677443-b7f2-4afc-9607-65eb8da85af5"
      },
      "execution_count": 46,
      "outputs": [
        {
          "output_type": "display_data",
          "data": {
            "text/plain": [
              "<Figure size 720x288 with 2 Axes>"
            ],
            "image/png": "[encoded data removed]"
          },
          "metadata": {}
        }
      ]
    },
    {
      "cell_type": "code",
      "source": [
        "b=print(classification_report(Y_test,dt_pred,target_names=[\"A\",\"B\",'C','D','E']))"
      ],
      "metadata": {
        "colab": {
          "base_uri": "https://localhost:8080/"
        },
        "id": "5_YVFsz3XxrO",
        "outputId": "94d941cd-e1fa-4231-e394-2a0caad3505f"
      },
      "execution_count": 105,
      "outputs": [
        {
          "output_type": "stream",
          "name": "stdout",
          "text": [
            "              precision    recall  f1-score   support\n",
            "\n",
            "           A       0.82      0.93      0.87        68\n",
            "           B       0.89      0.75      0.81       119\n",
            "           C       0.77      0.85      0.81       142\n",
            "           D       0.91      0.91      0.91       257\n",
            "           E       0.67      0.43      0.52        14\n",
            "\n",
            "    accuracy                           0.85       600\n",
            "   macro avg       0.81      0.77      0.78       600\n",
            "weighted avg       0.86      0.85      0.85       600\n",
            "\n"
          ]
        }
      ]
    },
    {
      "cell_type": "code",
      "source": [
        "acc_DT = dt.score(X_train,Y_train)\n",
        "acc_DT_T = dt.score(X_test,Y_test)\n",
        "Accuracy_DT=accuracy_score(Y_test,dt_pred)\n",
        "dt_pres = precision_score(Y_test,dt_pred,average='weighted')\n",
        "dt_recall = recall_score(Y_test,dt_pred,average='weighted')\n",
        "dt_f1 = f1_score(Y_test,dt_pred,average='weighted')\n",
        "print(\"Accuarcy of Train:\",acc_DT,\"\\n\",\"Accuarcy of Test:\",acc_DT_T,\"\\n\",\"Precision score:\",dt_pres,\"\\n\",\"Recall score\",dt_recall,\"\\n\",\"F1 SCORE\",dt_f1,\"\\n\",\"ACCURACY SCORE\",Accuracy_DT )"
      ],
      "metadata": {
        "colab": {
          "base_uri": "https://localhost:8080/"
        },
        "id": "nRvcf9Qv8G-D",
        "outputId": "5d883184-e1c0-42f0-8790-484e83c1b343"
      },
      "execution_count": 104,
      "outputs": [
        {
          "output_type": "stream",
          "name": "stdout",
          "text": [
            "Accuarcy of Train: 0.92125 \n",
            " Accuarcy of Test: 0.8533333333333334 \n",
            " Precision score: 0.8558944811045582 \n",
            " Recall score 0.8533333333333334 \n",
            " F1 SCORE 0.8518605364758675 \n",
            " ACCURACY SCORE 0.8533333333333334\n"
          ]
        }
      ]
    },
    {
      "cell_type": "markdown",
      "source": [
        "##RANDOM FOREST CLASSIFIER"
      ],
      "metadata": {
        "id": "w0JvFh1C9SRI"
      }
    },
    {
      "cell_type": "code",
      "source": [
        "# Finding the best hyperparameters for random forest\n",
        "\n",
        "rfc = RandomForestClassifier()\n",
        "\n",
        "params = {\n",
        "    'max_depth': [1,2,3,4,5,6,7,8,9,10,11,12],\n",
        "    'min_samples_leaf': [5,10,20,30,40,60,80,100],\n",
        "    'n_estimators': [10,25,30,35]\n",
        "}\n",
        "\n",
        "grid= GridSearchCV(estimator=rfc,\n",
        "                           param_grid=params,\n",
        "                           cv = 10,\n",
        "                           verbose=1, scoring= \"accuracy\")\n",
        "\n",
        "# Training the grid\n",
        "grid.fit(X_train,Y_train)\n",
        "\n",
        "# Getting the best hyperparameters\n",
        "best_grid = grid.best_estimator_\n",
        "best_grid"
      ],
      "metadata": {
        "colab": {
          "base_uri": "https://localhost:8080/"
        },
        "id": "mIhB-dYLTXDl",
        "outputId": "ea49ada5-4870-4f16-840b-b8441a02f598"
      },
      "execution_count": 48,
      "outputs": [
        {
          "output_type": "stream",
          "name": "stdout",
          "text": [
            "Fitting 10 folds for each of 384 candidates, totalling 3840 fits\n"
          ]
        },
        {
          "output_type": "execute_result",
          "data": {
            "text/plain": [
              "RandomForestClassifier(max_depth=10, min_samples_leaf=5, n_estimators=25)"
            ]
          },
          "metadata": {},
          "execution_count": 48
        }
      ]
    },
    {
      "cell_type": "code",
      "source": [
        "RF = RandomForestClassifier(max_depth=10, min_samples_leaf=5, n_estimators=25).fit(X_train,Y_train)"
      ],
      "metadata": {
        "id": "UZyJ9Dj99FiT"
      },
      "execution_count": 89,
      "outputs": []
    },
    {
      "cell_type": "code",
      "source": [
        "RF_pred=RF.predict(X_test)"
      ],
      "metadata": {
        "id": "XHtt8dqK93c-"
      },
      "execution_count": 90,
      "outputs": []
    },
    {
      "cell_type": "code",
      "source": [
        "# Creating  a confusion matrix,which compares the y_test and y_pred\n",
        "cm_rf = confusion_matrix(Y_test, RF_pred)\n"
      ],
      "metadata": {
        "id": "Lr6yerAdPWqb"
      },
      "execution_count": 91,
      "outputs": []
    },
    {
      "cell_type": "code",
      "source": [
        "# Creating a dataframe for a array-formatted Confusion matrix,so it will be easy for plotting.\n",
        "cm_RF = pd.DataFrame(cm_rf,\n",
        "                     index = ['A','B','C','D','E'],\n",
        "                     columns = ['A','B','C','D','E'])"
      ],
      "metadata": {
        "id": "ZyZOtgrzPWt3"
      },
      "execution_count": 92,
      "outputs": []
    },
    {
      "cell_type": "code",
      "source": [
        "#Plotting the confusion matrix\n",
        "plt.figure(figsize=(10,4))\n",
        "sns.heatmap(cm_RF, annot=True,fmt='g')\n",
        "plt.title('Confusion Matrix')\n",
        "plt.ylabel('Actal Values')\n",
        "plt.xlabel('Predicted Values')\n",
        "plt.show()\n"
      ],
      "metadata": {
        "colab": {
          "base_uri": "https://localhost:8080/",
          "height": 301
        },
        "id": "RJe2ElDOPWws",
        "outputId": "a3aa51bd-4f4f-42cd-f907-e62e0453d87a"
      },
      "execution_count": 93,
      "outputs": [
        {
          "output_type": "display_data",
          "data": {
            "text/plain": [
              "<Figure size 720x288 with 2 Axes>"
            ],
            "image/png": "[encoded data removed]"
          },
          "metadata": {}
        }
      ]
    },
    {
      "cell_type": "code",
      "source": [
        "c=print(classification_report(Y_test,RF_pred,target_names=[\"A\",\"B\",'C','D','E']))"
      ],
      "metadata": {
        "colab": {
          "base_uri": "https://localhost:8080/"
        },
        "id": "-G1YrEO_YQp6",
        "outputId": "eadb01e7-8db5-4edb-a82c-fd0c2f81ae0e"
      },
      "execution_count": 106,
      "outputs": [
        {
          "output_type": "stream",
          "name": "stdout",
          "text": [
            "              precision    recall  f1-score   support\n",
            "\n",
            "           A       0.86      0.96      0.90        68\n",
            "           B       0.95      0.76      0.85       119\n",
            "           C       0.80      0.83      0.82       142\n",
            "           D       0.88      0.95      0.92       257\n",
            "           E       1.00      0.21      0.35        14\n",
            "\n",
            "    accuracy                           0.87       600\n",
            "   macro avg       0.90      0.74      0.77       600\n",
            "weighted avg       0.88      0.87      0.86       600\n",
            "\n"
          ]
        }
      ]
    },
    {
      "cell_type": "code",
      "source": [
        "acc_RF = RF.score(X_train,Y_train)\n",
        "acc_RF = RF.score(X_test,Y_test)\n",
        "Accuracy_RF=accuracy_score(Y_test,RF_pred)\n",
        "RF_pres = precision_score(Y_test,RF_pred,average='weighted')\n",
        "RF_recall = recall_score(Y_test,RF_pred,average='weighted')\n",
        "RF_f1 = f1_score(Y_test,RF_pred,average='weighted')\n",
        "print(\"Accuarcy of Train:\",acc_RF,\"\\n\",\"Accuarcy of Test:\",acc_RF,\"\\n\",\"Precision score:\",RF_pres,\"\\n\",\"Recall score\",RF_recall,\"\\n\",\"F1 SCORE\",RF_f1,\"\\n\",\"ACCURACY SCORE\",Accuracy_RF )"
      ],
      "metadata": {
        "colab": {
          "base_uri": "https://localhost:8080/"
        },
        "id": "EEW4C5Mj-Hou",
        "outputId": "b0125381-271f-4b68-9b74-ea4843a6debc"
      },
      "execution_count": 94,
      "outputs": [
        {
          "output_type": "stream",
          "name": "stdout",
          "text": [
            "Accuarcy of Train: 0.87 \n",
            " Accuarcy of Test: 0.87 \n",
            " Precision score: 0.8757319639723238 \n",
            " Recall score 0.87 \n",
            " F1 SCORE 0.8640110069319189 \n",
            " ACCURACY SCORE 0.87\n"
          ]
        }
      ]
    },
    {
      "cell_type": "markdown",
      "source": [
        "##NAIVE BAYES "
      ],
      "metadata": {
        "id": "ZKXa8KMY-2Ue"
      }
    },
    {
      "cell_type": "code",
      "source": [
        "params_NB = {'var_smoothing': np.logspace(0,-9, num=100)}\n",
        "gb=GaussianNB()\n",
        "grid_NB = GridSearchCV(estimator=gb, \n",
        "                     param_grid=params_NB, \n",
        "                     cv=10,\n",
        "                     verbose=1, \n",
        "                     scoring='accuracy')\n",
        "grid_NB.fit(X_train, Y_train)\n",
        "print(grid_NB.best_estimator_)"
      ],
      "metadata": {
        "colab": {
          "base_uri": "https://localhost:8080/"
        },
        "id": "cs0JSwOUHylD",
        "outputId": "84bab15d-8295-491d-fd2e-ce089476375b"
      },
      "execution_count": 55,
      "outputs": [
        {
          "output_type": "stream",
          "name": "stdout",
          "text": [
            "Fitting 10 folds for each of 100 candidates, totalling 1000 fits\n",
            "GaussianNB(var_smoothing=0.23101297000831597)\n"
          ]
        }
      ]
    },
    {
      "cell_type": "code",
      "source": [
        "# Fitting Naive Bayes to the Training set  \n",
        " \n",
        "GB =GaussianNB(var_smoothing=0.23101297000831597).fit(X_train, Y_train)"
      ],
      "metadata": {
        "id": "ZCluFozq-y5A"
      },
      "execution_count": 56,
      "outputs": []
    },
    {
      "cell_type": "code",
      "source": [
        "GB_pred=GB.predict(X_test)"
      ],
      "metadata": {
        "id": "jhkE6m-UHEwE"
      },
      "execution_count": 57,
      "outputs": []
    },
    {
      "cell_type": "code",
      "source": [
        "# Creating  a confusion matrix,which compares the y_test and y_pred\n",
        "cm_gb = confusion_matrix(Y_test, GB_pred)"
      ],
      "metadata": {
        "id": "Nu08nI29QBJ0"
      },
      "execution_count": 58,
      "outputs": []
    },
    {
      "cell_type": "code",
      "source": [
        "# Creating a dataframe for a array-formatted Confusion matrix,so it will be easy for plotting.\n",
        "cm_GB = pd.DataFrame(cm_gb,\n",
        "                     index = ['A','B','C','D','E'],\n",
        "                     columns = ['A','B','C','D','E'])\n",
        "cm_GB"
      ],
      "metadata": {
        "colab": {
          "base_uri": "https://localhost:8080/",
          "height": 206
        },
        "id": "7jDu_EgHQBPD",
        "outputId": "1a5f5de0-ef4f-4408-ce68-b966b95a917c"
      },
      "execution_count": 59,
      "outputs": [
        {
          "output_type": "execute_result",
          "data": {
            "text/plain": [
              "    A   B   C    D  E\n",
              "A  63   5   0    0  0\n",
              "B   5  96  18    0  0\n",
              "C   0  18  98   26  0\n",
              "D   0   0  19  238  0\n",
              "E   0   0   0    5  9"
            ],
            "text/html": [
              "\n",
              "  <div id=\"df-44bc0426-ea8f-4290-8175-8c71e8f282e7\">\n",
              "    <div class=\"colab-df-container\">\n",
              "      <div>\n",
              "<style scoped>\n",
              "    .dataframe tbody tr th:only-of-type {\n",
              "        vertical-align: middle;\n",
              "    }\n",
              "\n",
              "    .dataframe tbody tr th {\n",
              "        vertical-align: top;\n",
              "    }\n",
              "\n",
              "    .dataframe thead th {\n",
              "        text-align: right;\n",
              "    }\n",
              "</style>\n",
              "<table border=\"1\" class=\"dataframe\">\n",
              "  <thead>\n",
              "    <tr style=\"text-align: right;\">\n",
              "      <th></th>\n",
              "      <th>A</th>\n",
              "      <th>B</th>\n",
              "      <th>C</th>\n",
              "      <th>D</th>\n",
              "      <th>E</th>\n",
              "    </tr>\n",
              "  </thead>\n",
              "  <tbody>\n",
              "    <tr>\n",
              "      <th>A</th>\n",
              "      <td>63</td>\n",
              "      <td>5</td>\n",
              "      <td>0</td>\n",
              "      <td>0</td>\n",
              "      <td>0</td>\n",
              "    </tr>\n",
              "    <tr>\n",
              "      <th>B</th>\n",
              "      <td>5</td>\n",
              "      <td>96</td>\n",
              "      <td>18</td>\n",
              "      <td>0</td>\n",
              "      <td>0</td>\n",
              "    </tr>\n",
              "    <tr>\n",
              "      <th>C</th>\n",
              "      <td>0</td>\n",
              "      <td>18</td>\n",
              "      <td>98</td>\n",
              "      <td>26</td>\n",
              "      <td>0</td>\n",
              "    </tr>\n",
              "    <tr>\n",
              "      <th>D</th>\n",
              "      <td>0</td>\n",
              "      <td>0</td>\n",
              "      <td>19</td>\n",
              "      <td>238</td>\n",
              "      <td>0</td>\n",
              "    </tr>\n",
              "    <tr>\n",
              "      <th>E</th>\n",
              "      <td>0</td>\n",
              "      <td>0</td>\n",
              "      <td>0</td>\n",
              "      <td>5</td>\n",
              "      <td>9</td>\n",
              "    </tr>\n",
              "  </tbody>\n",
              "</table>\n",
              "</div>\n",
              "      <button class=\"colab-df-convert\" onclick=\"convertToInteractive('df-44bc0426-ea8f-4290-8175-8c71e8f282e7')\"\n",
              "              title=\"Convert this dataframe to an interactive table.\"\n",
              "              style=\"display:none;\">\n",
              "        \n",
              "  <svg xmlns=\"http://www.w3.org/2000/svg\" height=\"24px\"viewBox=\"0 0 24 24\"\n",
              "       width=\"24px\">\n",
              "    <path d=\"M0 0h24v24H0V0z\" fill=\"none\"/>\n",
              "    <path d=\"M18.56 5.44l.94 2.06.94-2.06 2.06-.94-2.06-.94-.94-2.06-.94 2.06-2.06.94zm-11 1L8.5 8.5l.94-2.06 2.06-.94-2.06-.94L8.5 2.5l-.94 2.06-2.06.94zm10 10l.94 2.06.94-2.06 2.06-.94-2.06-.94-.94-2.06-.94 2.06-2.06.94z\"/><path d=\"M17.41 7.96l-1.37-1.37c-.4-.4-.92-.59-1.43-.59-.52 0-1.04.2-1.43.59L10.3 9.45l-7.72 7.72c-.78.78-.78 2.05 0 2.83L4 21.41c.39.39.9.59 1.41.59.51 0 1.02-.2 1.41-.59l7.78-7.78 2.81-2.81c.8-.78.8-2.07 0-2.86zM5.41 20L4 18.59l7.72-7.72 1.47 1.35L5.41 20z\"/>\n",
              "  </svg>\n",
              "      </button>\n",
              "      \n",
              "  <style>\n",
              "    .colab-df-container {\n",
              "      display:flex;\n",
              "      flex-wrap:wrap;\n",
              "      gap: 12px;\n",
              "    }\n",
              "\n",
              "    .colab-df-convert {\n",
              "      background-color: #E8F0FE;\n",
              "      border: none;\n",
              "      border-radius: 50%;\n",
              "      cursor: pointer;\n",
              "      display: none;\n",
              "      fill: #1967D2;\n",
              "      height: 32px;\n",
              "      padding: 0 0 0 0;\n",
              "      width: 32px;\n",
              "    }\n",
              "\n",
              "    .colab-df-convert:hover {\n",
              "      background-color: #E2EBFA;\n",
              "      box-shadow: 0px 1px 2px rgba(60, 64, 67, 0.3), 0px 1px 3px 1px rgba(60, 64, 67, 0.15);\n",
              "      fill: #174EA6;\n",
              "    }\n",
              "\n",
              "    [theme=dark] .colab-df-convert {\n",
              "      background-color: #3B4455;\n",
              "      fill: #D2E3FC;\n",
              "    }\n",
              "\n",
              "    [theme=dark] .colab-df-convert:hover {\n",
              "      background-color: #434B5C;\n",
              "      box-shadow: 0px 1px 3px 1px rgba(0, 0, 0, 0.15);\n",
              "      filter: drop-shadow(0px 1px 2px rgba(0, 0, 0, 0.3));\n",
              "      fill: #FFFFFF;\n",
              "    }\n",
              "  </style>\n",
              "\n",
              "      <script>\n",
              "        const buttonEl =\n",
              "          document.querySelector('#df-44bc0426-ea8f-4290-8175-8c71e8f282e7 button.colab-df-convert');\n",
              "        buttonEl.style.display =\n",
              "          google.colab.kernel.accessAllowed ? 'block' : 'none';\n",
              "\n",
              "        async function convertToInteractive(key) {\n",
              "          const element = document.querySelector('#df-44bc0426-ea8f-4290-8175-8c71e8f282e7');\n",
              "          const dataTable =\n",
              "            await google.colab.kernel.invokeFunction('convertToInteractive',\n",
              "                                                     [key], {});\n",
              "          if (!dataTable) return;\n",
              "\n",
              "          const docLinkHtml = 'Like what you see? Visit the ' +\n",
              "            '<a target=\"_blank\" href=https://colab.research.google.com/notebooks/data_table.ipynb>data table notebook</a>'\n",
              "            + ' to learn more about interactive tables.';\n",
              "          element.innerHTML = '';\n",
              "          dataTable['output_type'] = 'display_data';\n",
              "          await google.colab.output.renderOutput(dataTable, element);\n",
              "          const docLink = document.createElement('div');\n",
              "          docLink.innerHTML = docLinkHtml;\n",
              "          element.appendChild(docLink);\n",
              "        }\n",
              "      </script>\n",
              "    </div>\n",
              "  </div>\n",
              "  "
            ]
          },
          "metadata": {},
          "execution_count": 59
        }
      ]
    },
    {
      "cell_type": "code",
      "source": [
        "#Plotting the confusion matrix\n",
        "plt.figure(figsize=(10,4))\n",
        "sns.heatmap(cm_GB, annot=True,fmt='g')\n",
        "plt.title('Confusion Matrix')\n",
        "plt.ylabel('Actal Values')\n",
        "plt.xlabel('Predicted Values')\n",
        "plt.show()"
      ],
      "metadata": {
        "colab": {
          "base_uri": "https://localhost:8080/",
          "height": 301
        },
        "id": "KKBlx6vwQBTS",
        "outputId": "ee27101a-e789-49f8-b265-1895d6ff80d6"
      },
      "execution_count": 60,
      "outputs": [
        {
          "output_type": "display_data",
          "data": {
            "text/plain": [
              "<Figure size 720x288 with 2 Axes>"
            ],
            "image/png": "[encoded data removed]"
          },
          "metadata": {}
        }
      ]
    },
    {
      "cell_type": "code",
      "source": [
        "D=print(classification_report(Y_test,GB_pred,target_names=[\"A\",\"B\",'C','D','E']))"
      ],
      "metadata": {
        "colab": {
          "base_uri": "https://localhost:8080/"
        },
        "id": "1hXcCeBWYuEE",
        "outputId": "5d0c0d47-a2ac-44e7-eea7-8f27a2b12378"
      },
      "execution_count": 107,
      "outputs": [
        {
          "output_type": "stream",
          "name": "stdout",
          "text": [
            "              precision    recall  f1-score   support\n",
            "\n",
            "           A       0.93      0.93      0.93        68\n",
            "           B       0.81      0.81      0.81       119\n",
            "           C       0.73      0.69      0.71       142\n",
            "           D       0.88      0.93      0.90       257\n",
            "           E       1.00      0.64      0.78        14\n",
            "\n",
            "    accuracy                           0.84       600\n",
            "   macro avg       0.87      0.80      0.83       600\n",
            "weighted avg       0.84      0.84      0.84       600\n",
            "\n"
          ]
        }
      ]
    },
    {
      "cell_type": "code",
      "source": [
        "acc_GB = GB.score(X_train,Y_train)\n",
        "acc_GB_T = GB.score(X_test,Y_test)\n",
        "Accuracy_GB=accuracy_score(Y_test,GB_pred)\n",
        "GB_pres = precision_score(Y_test,GB_pred,average='weighted')\n",
        "GB_recall = recall_score(Y_test,GB_pred,average='weighted')\n",
        "GB_f1 = f1_score(Y_test,GB_pred,average='weighted')\n",
        "print(\"Accuarcy of Train:\",acc_GB,\"\\n\",\"Accuarcy of Test:\",acc_GB_T,\"\\n\",\"Precision score:\",GB_pres,\"\\n\",\"Recall score\",GB_recall,\"\\n\",\"F1 SCORE\",GB_f1,\"\\n\",\"ACCURACY SCORE\",Accuracy_GB )"
      ],
      "metadata": {
        "colab": {
          "base_uri": "https://localhost:8080/"
        },
        "id": "DVas_7kjHTPD",
        "outputId": "d76d3b44-54a7-48d3-fa21-89b835f4c547"
      },
      "execution_count": 61,
      "outputs": [
        {
          "output_type": "stream",
          "name": "stdout",
          "text": [
            "Accuarcy of Train: 0.8475 \n",
            " Accuarcy of Test: 0.84 \n",
            " Precision score: 0.8391073018495572 \n",
            " Recall score 0.84 \n",
            " F1 SCORE 0.8383389970674708 \n",
            " ACCURACY SCORE 0.84\n"
          ]
        }
      ]
    },
    {
      "cell_type": "markdown",
      "source": [
        "##K-NEARSET NEIGHBOUR"
      ],
      "metadata": {
        "id": "YBV_Bc_1Zr0i"
      }
    },
    {
      "cell_type": "code",
      "source": [
        "KNN=KNeighborsClassifier()\n",
        "grid_params1 = {'n_neighbors' : [4,5,7,9,11,13,15]}\n",
        "gs = GridSearchCV(KNN, grid_params1, verbose = 1, cv=10)\n",
        "gs.fit(X_train, Y_train)\n",
        "print(gs.best_estimator_)\n"
      ],
      "metadata": {
        "colab": {
          "base_uri": "https://localhost:8080/"
        },
        "id": "A05nbUS1OJYL",
        "outputId": "e21ec543-1a1c-4df7-9860-0e8bd2b476ec"
      },
      "execution_count": 62,
      "outputs": [
        {
          "output_type": "stream",
          "name": "stdout",
          "text": [
            "Fitting 10 folds for each of 7 candidates, totalling 70 fits\n",
            "KNeighborsClassifier(n_neighbors=13)\n"
          ]
        }
      ]
    },
    {
      "cell_type": "code",
      "source": [
        "KNN=KNeighborsClassifier(n_neighbors=13).fit(X_train,Y_train)"
      ],
      "metadata": {
        "id": "Ue9DhzJrawYe"
      },
      "execution_count": 63,
      "outputs": []
    },
    {
      "cell_type": "code",
      "source": [
        "KNN_pred=KNN.predict(X_test)"
      ],
      "metadata": {
        "id": "DQFSzI99cbA3"
      },
      "execution_count": 64,
      "outputs": []
    },
    {
      "cell_type": "code",
      "source": [
        "# Creating  a confusion matrix,which compares the y_test and y_pred\n",
        "cm_knn = confusion_matrix(Y_test, KNN_pred)"
      ],
      "metadata": {
        "id": "v6OJVmRVRPZR"
      },
      "execution_count": 65,
      "outputs": []
    },
    {
      "cell_type": "code",
      "source": [
        "# Creating a dataframe for a array-formatted Confusion matrix,so it will be easy for plotting.\n",
        "cm_KNN = pd.DataFrame(cm_knn,\n",
        "                     index = ['A','B','C','D','E'],\n",
        "                     columns = ['A','B','C','D','E'])\n",
        "print(cm_KNN)\n",
        "E=print(classification_report(Y_test,KNN_pred,target_names=[\"A\",\"B\",'C','D','E']))"
      ],
      "metadata": {
        "colab": {
          "base_uri": "https://localhost:8080/"
        },
        "id": "HAjLpanARPcp",
        "outputId": "b4d77ea5-ca81-45e1-ebb2-bc8081cb6dd1"
      },
      "execution_count": 111,
      "outputs": [
        {
          "output_type": "stream",
          "name": "stdout",
          "text": [
            "    A   B    C    D  E\n",
            "A  63   5    0    0  0\n",
            "B  13  96   10    0  0\n",
            "C   0   6  125   11  0\n",
            "D   0   0    7  250  0\n",
            "E   0   0    0    8  6\n",
            "              precision    recall  f1-score   support\n",
            "\n",
            "           A       0.83      0.93      0.88        68\n",
            "           B       0.90      0.81      0.85       119\n",
            "           C       0.88      0.88      0.88       142\n",
            "           D       0.93      0.97      0.95       257\n",
            "           E       1.00      0.43      0.60        14\n",
            "\n",
            "    accuracy                           0.90       600\n",
            "   macro avg       0.91      0.80      0.83       600\n",
            "weighted avg       0.90      0.90      0.90       600\n",
            "\n"
          ]
        }
      ]
    },
    {
      "cell_type": "code",
      "source": [
        "#Plotting the confusion matrix\n",
        "plt.figure(figsize=(10,4))\n",
        "sns.heatmap(cm_KNN, annot=True,fmt='g')\n",
        "plt.title('Confusion Matrix')\n",
        "plt.ylabel('Actal Values')\n",
        "plt.xlabel('Predicted Values')\n",
        "plt.show()"
      ],
      "metadata": {
        "colab": {
          "base_uri": "https://localhost:8080/",
          "height": 301
        },
        "id": "6D5MiEwQRPfl",
        "outputId": "8e4a1a8b-f5c1-46c4-975b-256fa8010b11"
      },
      "execution_count": 67,
      "outputs": [
        {
          "output_type": "display_data",
          "data": {
            "text/plain": [
              "<Figure size 720x288 with 2 Axes>"
            ],
            "image/png": "[encoded data removed]"
          },
          "metadata": {}
        }
      ]
    },
    {
      "cell_type": "code",
      "source": [
        "E=print(classification_report(Y_test,KNN_pred,target_names=[\"A\",\"B\",'C','D','E']))"
      ],
      "metadata": {
        "colab": {
          "base_uri": "https://localhost:8080/"
        },
        "id": "g2CokthEY8zk",
        "outputId": "319f58fa-e4bc-4fa7-af53-74c0058530b7"
      },
      "execution_count": 108,
      "outputs": [
        {
          "output_type": "stream",
          "name": "stdout",
          "text": [
            "              precision    recall  f1-score   support\n",
            "\n",
            "           A       0.83      0.93      0.88        68\n",
            "           B       0.90      0.81      0.85       119\n",
            "           C       0.88      0.88      0.88       142\n",
            "           D       0.93      0.97      0.95       257\n",
            "           E       1.00      0.43      0.60        14\n",
            "\n",
            "    accuracy                           0.90       600\n",
            "   macro avg       0.91      0.80      0.83       600\n",
            "weighted avg       0.90      0.90      0.90       600\n",
            "\n"
          ]
        }
      ]
    },
    {
      "cell_type": "code",
      "source": [
        "\n",
        "acc_KNN = RF.score(X_train,Y_train)\n",
        "acc_KNN = RF.score(X_test,Y_test)\n",
        "Accuracy_KNN=accuracy_score(Y_test,KNN_pred)\n",
        "KNN_pres = precision_score(Y_test,KNN_pred,average='weighted')\n",
        "KNN_recall = recall_score(Y_test,KNN_pred,average='weighted')\n",
        "KNN_f1 = f1_score(Y_test,KNN_pred,average='weighted')\n",
        "print(\"Accuarcy of Train:\",acc_KNN,\"\\n\",\"Accuarcy of Test:\",acc_KNN,\"\\n\",\"Precision score:\",KNN_pres,\"\\n\",\"Recall score\",KNN_recall,\"\\n\",\"F1 SCORE\",KNN_f1,\"\\n\",\"ACCURACY SCORE\",Accuracy_KNN )"
      ],
      "metadata": {
        "colab": {
          "base_uri": "https://localhost:8080/"
        },
        "id": "P5HQs8eUchun",
        "outputId": "77f70cff-0b96-44e4-cb19-a4a6a7a304d8"
      },
      "execution_count": 68,
      "outputs": [
        {
          "output_type": "stream",
          "name": "stdout",
          "text": [
            "Accuarcy of Train: 0.885 \n",
            " Accuarcy of Test: 0.885 \n",
            " Precision score: 0.9016372663932354 \n",
            " Recall score 0.9 \n",
            " F1 SCORE 0.8971565384658523 \n",
            " ACCURACY SCORE 0.9\n"
          ]
        }
      ]
    },
    {
      "cell_type": "markdown",
      "source": [
        "##ADABOOST CLASSIFIER"
      ],
      "metadata": {
        "id": "U6zf3cFCnbvJ"
      }
    },
    {
      "cell_type": "code",
      "source": [
        " # define the model\n",
        "ADAC = AdaBoostClassifier().fit(X_train,Y_train)"
      ],
      "metadata": {
        "id": "j6Sh7K1cdATR"
      },
      "execution_count": 69,
      "outputs": []
    },
    {
      "cell_type": "code",
      "source": [
        "ADAC_pred=ADAC.predict(X_test)"
      ],
      "metadata": {
        "id": "OtbMw6H2h7Mu"
      },
      "execution_count": 70,
      "outputs": []
    },
    {
      "cell_type": "code",
      "source": [
        "# Creating  a confusion matrix,which compares the y_test and y_pred\n",
        "cm_adac = confusion_matrix(Y_test, ADAC_pred)"
      ],
      "metadata": {
        "id": "P9jVJX5XSreH"
      },
      "execution_count": 71,
      "outputs": []
    },
    {
      "cell_type": "code",
      "source": [
        "# Creating a dataframe for a array-formatted Confusion matrix,so it will be easy for plotting.\n",
        "cm_ADAC = pd.DataFrame(cm_adac,\n",
        "                     index = ['A','B','C','D','E'],\n",
        "                     columns = ['A','B','C','D','E'])\n",
        "cm_ADAC"
      ],
      "metadata": {
        "colab": {
          "base_uri": "https://localhost:8080/",
          "height": 206
        },
        "id": "-RsuCnn_SrhY",
        "outputId": "5264c197-4dc9-461e-c8f0-603f5d597039"
      },
      "execution_count": 72,
      "outputs": [
        {
          "output_type": "execute_result",
          "data": {
            "text/plain": [
              "    A   B    C    D  E\n",
              "A  61   7    0    0  0\n",
              "B  24  61   34    0  0\n",
              "C   0   3  111   28  0\n",
              "D   0   0   47  210  0\n",
              "E   0   0    0   14  0"
            ],
            "text/html": [
              "\n",
              "  <div id=\"df-731894e4-8949-4498-b1f6-c987f509d863\">\n",
              "    <div class=\"colab-df-container\">\n",
              "      <div>\n",
              "<style scoped>\n",
              "    .dataframe tbody tr th:only-of-type {\n",
              "        vertical-align: middle;\n",
              "    }\n",
              "\n",
              "    .dataframe tbody tr th {\n",
              "        vertical-align: top;\n",
              "    }\n",
              "\n",
              "    .dataframe thead th {\n",
              "        text-align: right;\n",
              "    }\n",
              "</style>\n",
              "<table border=\"1\" class=\"dataframe\">\n",
              "  <thead>\n",
              "    <tr style=\"text-align: right;\">\n",
              "      <th></th>\n",
              "      <th>A</th>\n",
              "      <th>B</th>\n",
              "      <th>C</th>\n",
              "      <th>D</th>\n",
              "      <th>E</th>\n",
              "    </tr>\n",
              "  </thead>\n",
              "  <tbody>\n",
              "    <tr>\n",
              "      <th>A</th>\n",
              "      <td>61</td>\n",
              "      <td>7</td>\n",
              "      <td>0</td>\n",
              "      <td>0</td>\n",
              "      <td>0</td>\n",
              "    </tr>\n",
              "    <tr>\n",
              "      <th>B</th>\n",
              "      <td>24</td>\n",
              "      <td>61</td>\n",
              "      <td>34</td>\n",
              "      <td>0</td>\n",
              "      <td>0</td>\n",
              "    </tr>\n",
              "    <tr>\n",
              "      <th>C</th>\n",
              "      <td>0</td>\n",
              "      <td>3</td>\n",
              "      <td>111</td>\n",
              "      <td>28</td>\n",
              "      <td>0</td>\n",
              "    </tr>\n",
              "    <tr>\n",
              "      <th>D</th>\n",
              "      <td>0</td>\n",
              "      <td>0</td>\n",
              "      <td>47</td>\n",
              "      <td>210</td>\n",
              "      <td>0</td>\n",
              "    </tr>\n",
              "    <tr>\n",
              "      <th>E</th>\n",
              "      <td>0</td>\n",
              "      <td>0</td>\n",
              "      <td>0</td>\n",
              "      <td>14</td>\n",
              "      <td>0</td>\n",
              "    </tr>\n",
              "  </tbody>\n",
              "</table>\n",
              "</div>\n",
              "      <button class=\"colab-df-convert\" onclick=\"convertToInteractive('df-731894e4-8949-4498-b1f6-c987f509d863')\"\n",
              "              title=\"Convert this dataframe to an interactive table.\"\n",
              "              style=\"display:none;\">\n",
              "        \n",
              "  <svg xmlns=\"http://www.w3.org/2000/svg\" height=\"24px\"viewBox=\"0 0 24 24\"\n",
              "       width=\"24px\">\n",
              "    <path d=\"M0 0h24v24H0V0z\" fill=\"none\"/>\n",
              "    <path d=\"M18.56 5.44l.94 2.06.94-2.06 2.06-.94-2.06-.94-.94-2.06-.94 2.06-2.06.94zm-11 1L8.5 8.5l.94-2.06 2.06-.94-2.06-.94L8.5 2.5l-.94 2.06-2.06.94zm10 10l.94 2.06.94-2.06 2.06-.94-2.06-.94-.94-2.06-.94 2.06-2.06.94z\"/><path d=\"M17.41 7.96l-1.37-1.37c-.4-.4-.92-.59-1.43-.59-.52 0-1.04.2-1.43.59L10.3 9.45l-7.72 7.72c-.78.78-.78 2.05 0 2.83L4 21.41c.39.39.9.59 1.41.59.51 0 1.02-.2 1.41-.59l7.78-7.78 2.81-2.81c.8-.78.8-2.07 0-2.86zM5.41 20L4 18.59l7.72-7.72 1.47 1.35L5.41 20z\"/>\n",
              "  </svg>\n",
              "      </button>\n",
              "      \n",
              "  <style>\n",
              "    .colab-df-container {\n",
              "      display:flex;\n",
              "      flex-wrap:wrap;\n",
              "      gap: 12px;\n",
              "    }\n",
              "\n",
              "    .colab-df-convert {\n",
              "      background-color: #E8F0FE;\n",
              "      border: none;\n",
              "      border-radius: 50%;\n",
              "      cursor: pointer;\n",
              "      display: none;\n",
              "      fill: #1967D2;\n",
              "      height: 32px;\n",
              "      padding: 0 0 0 0;\n",
              "      width: 32px;\n",
              "    }\n",
              "\n",
              "    .colab-df-convert:hover {\n",
              "      background-color: #E2EBFA;\n",
              "      box-shadow: 0px 1px 2px rgba(60, 64, 67, 0.3), 0px 1px 3px 1px rgba(60, 64, 67, 0.15);\n",
              "      fill: #174EA6;\n",
              "    }\n",
              "\n",
              "    [theme=dark] .colab-df-convert {\n",
              "      background-color: #3B4455;\n",
              "      fill: #D2E3FC;\n",
              "    }\n",
              "\n",
              "    [theme=dark] .colab-df-convert:hover {\n",
              "      background-color: #434B5C;\n",
              "      box-shadow: 0px 1px 3px 1px rgba(0, 0, 0, 0.15);\n",
              "      filter: drop-shadow(0px 1px 2px rgba(0, 0, 0, 0.3));\n",
              "      fill: #FFFFFF;\n",
              "    }\n",
              "  </style>\n",
              "\n",
              "      <script>\n",
              "        const buttonEl =\n",
              "          document.querySelector('#df-731894e4-8949-4498-b1f6-c987f509d863 button.colab-df-convert');\n",
              "        buttonEl.style.display =\n",
              "          google.colab.kernel.accessAllowed ? 'block' : 'none';\n",
              "\n",
              "        async function convertToInteractive(key) {\n",
              "          const element = document.querySelector('#df-731894e4-8949-4498-b1f6-c987f509d863');\n",
              "          const dataTable =\n",
              "            await google.colab.kernel.invokeFunction('convertToInteractive',\n",
              "                                                     [key], {});\n",
              "          if (!dataTable) return;\n",
              "\n",
              "          const docLinkHtml = 'Like what you see? Visit the ' +\n",
              "            '<a target=\"_blank\" href=https://colab.research.google.com/notebooks/data_table.ipynb>data table notebook</a>'\n",
              "            + ' to learn more about interactive tables.';\n",
              "          element.innerHTML = '';\n",
              "          dataTable['output_type'] = 'display_data';\n",
              "          await google.colab.output.renderOutput(dataTable, element);\n",
              "          const docLink = document.createElement('div');\n",
              "          docLink.innerHTML = docLinkHtml;\n",
              "          element.appendChild(docLink);\n",
              "        }\n",
              "      </script>\n",
              "    </div>\n",
              "  </div>\n",
              "  "
            ]
          },
          "metadata": {},
          "execution_count": 72
        }
      ]
    },
    {
      "cell_type": "code",
      "source": [
        "#Plotting the confusion matrix\n",
        "plt.figure(figsize=(10,4))\n",
        "sns.heatmap(cm_ADAC, annot=True,fmt='g')\n",
        "plt.title('Confusion Matrix')\n",
        "plt.ylabel('Actal Values')\n",
        "plt.xlabel('Predicted Values')\n",
        "plt.show()"
      ],
      "metadata": {
        "colab": {
          "base_uri": "https://localhost:8080/",
          "height": 301
        },
        "id": "6G5BBj3USsDs",
        "outputId": "7680ffd2-15aa-4280-db88-48cc6321edc6"
      },
      "execution_count": 73,
      "outputs": [
        {
          "output_type": "display_data",
          "data": {
            "text/plain": [
              "<Figure size 720x288 with 2 Axes>"
            ],
            "image/png": "[encoded data removed]"
          },
          "metadata": {}
        }
      ]
    },
    {
      "cell_type": "code",
      "source": [
        "F=print(classification_report(Y_test,ADAC_pred,target_names=[\"A\",\"B\",'C','D','E']))"
      ],
      "metadata": {
        "colab": {
          "base_uri": "https://localhost:8080/"
        },
        "id": "bxOZN_4EZDYO",
        "outputId": "f7e60be3-4f52-4476-98bc-e3e3af46d03d"
      },
      "execution_count": 109,
      "outputs": [
        {
          "output_type": "stream",
          "name": "stdout",
          "text": [
            "              precision    recall  f1-score   support\n",
            "\n",
            "           A       0.72      0.90      0.80        68\n",
            "           B       0.86      0.51      0.64       119\n",
            "           C       0.58      0.78      0.66       142\n",
            "           D       0.83      0.82      0.83       257\n",
            "           E       0.00      0.00      0.00        14\n",
            "\n",
            "    accuracy                           0.74       600\n",
            "   macro avg       0.60      0.60      0.59       600\n",
            "weighted avg       0.75      0.74      0.73       600\n",
            "\n"
          ]
        }
      ]
    },
    {
      "cell_type": "code",
      "source": [
        "acc_ADAC = ADAC.score(X_train,Y_train)\n",
        "acc_ADAC = ADAC.score(X_test,Y_test)\n",
        "Accuracy_ADAC=accuracy_score(Y_test,ADAC_pred)\n",
        "ADAC_pres = precision_score(Y_test,ADAC_pred,average='weighted')\n",
        "ADAC_recall = recall_score(Y_test,ADAC_pred,average='weighted')\n",
        "ADAC_f1 = f1_score(Y_test,ADAC_pred,average='weighted')\n",
        "print(\"Accuarcy of Train:\",acc_ADAC,\"\\n\",\"Accuarcy of Test:\",acc_ADAC,\"\\n\",\"Precision score:\",ADAC_pres,\"\\n\",\"Recall score\",ADAC_recall,\"\\n\",\"F1 SCORE\",ADAC_f1,\"\\n\",\"ACCURACY SCORE\",Accuracy_ADAC )"
      ],
      "metadata": {
        "colab": {
          "base_uri": "https://localhost:8080/"
        },
        "id": "Xfhp_LmKh7aM",
        "outputId": "eeb8bb14-580b-4f38-d621-151bb409b5ad"
      },
      "execution_count": 74,
      "outputs": [
        {
          "output_type": "stream",
          "name": "stdout",
          "text": [
            "Accuarcy of Train: 0.7383333333333333 \n",
            " Accuarcy of Test: 0.7383333333333333 \n",
            " Precision score: 0.7454997554773083 \n",
            " Recall score 0.7383333333333333 \n",
            " F1 SCORE 0.7284647507338292 \n",
            " ACCURACY SCORE 0.7383333333333333\n"
          ]
        }
      ]
    },
    {
      "cell_type": "markdown",
      "source": [
        "##CROSSVALIDATION"
      ],
      "metadata": {
        "id": "y9Zs8B6Dh-OX"
      }
    },
    {
      "cell_type": "markdown",
      "source": [
        "Cross-validation is a technique in which we train our model using the subset of the data-set and then evaluate using the complementary subset of the data-set.\n",
        "\n"
      ],
      "metadata": {
        "id": "WfHAMG_jNyqq"
      }
    },
    {
      "cell_type": "code",
      "source": [
        "# evaluate the model\n",
        "cv =RepeatedStratifiedKFold(n_splits=10,n_repeats=3,random_state=1)\n",
        "n_scores1 = cross_val_score(logreg,X,Y, scoring='f1_weighted', cv=cv, n_jobs=-1, error_score='raise')\n",
        "\n",
        "\n",
        "# report performance\n",
        "print('F1-Score: %.3f (%.3f)' % (mean(n_scores1), std(n_scores1)))"
      ],
      "metadata": {
        "colab": {
          "base_uri": "https://localhost:8080/"
        },
        "id": "eQOFJiAEiCal",
        "outputId": "f90b528e-76b1-4788-fd49-f5c9c9ac62c0"
      },
      "execution_count": 95,
      "outputs": [
        {
          "output_type": "stream",
          "name": "stdout",
          "text": [
            "F1-Score: 0.914 (0.017)\n"
          ]
        }
      ]
    },
    {
      "cell_type": "code",
      "source": [
        "# evaluate the model\n",
        "cv =RepeatedStratifiedKFold(n_splits=10,n_repeats=3,random_state=1)\n",
        "n_scores2 = cross_val_score(dt,X,Y, scoring='f1_weighted', cv=cv, n_jobs=-1, error_score='raise')\n",
        "\n",
        "\n",
        "# report performance\n",
        "print('F1-Score: %.3f (%.3f)' % (mean(n_scores2), std(n_scores2)))"
      ],
      "metadata": {
        "colab": {
          "base_uri": "https://localhost:8080/"
        },
        "id": "EldaZxwbi71Q",
        "outputId": "29f57283-6cff-4505-dbd1-e56e6a57eb7d"
      },
      "execution_count": 96,
      "outputs": [
        {
          "output_type": "stream",
          "name": "stdout",
          "text": [
            "F1-Score: 0.857 (0.024)\n"
          ]
        }
      ]
    },
    {
      "cell_type": "code",
      "source": [
        "cv =RepeatedStratifiedKFold(n_splits=10,n_repeats=3,random_state=1)\n",
        "n_scores3 = cross_val_score(RF,X,Y, scoring='f1_weighted', cv=cv, n_jobs=-1, error_score='raise')\n",
        "\n",
        "\n",
        "# report performance\n",
        "print('F1-Score: %.3f (%.3f)' % (mean(n_scores3), std(n_scores3)))"
      ],
      "metadata": {
        "colab": {
          "base_uri": "https://localhost:8080/"
        },
        "id": "flp6ZCHDjifj",
        "outputId": "2b533f00-e682-4ac3-d4f5-37b48ac9a02d"
      },
      "execution_count": 97,
      "outputs": [
        {
          "output_type": "stream",
          "name": "stdout",
          "text": [
            "F1-Score: 0.879 (0.021)\n"
          ]
        }
      ]
    },
    {
      "cell_type": "code",
      "source": [
        "cv =RepeatedStratifiedKFold(n_splits=10,n_repeats=3,random_state=1)\n",
        "n_scores4 = cross_val_score(GB,X,Y, scoring='f1_weighted', cv=cv, n_jobs=-1, error_score='raise')\n",
        "\n",
        "\n",
        "\n",
        "# report performance\n",
        "print('F1-Score: %.3f (%.3f)' % (mean(n_scores4), std(n_scores4)))"
      ],
      "metadata": {
        "colab": {
          "base_uri": "https://localhost:8080/"
        },
        "id": "_OE2uFNhj-1O",
        "outputId": "2dc65f6a-6ede-49af-8763-ed25df2d39d5"
      },
      "execution_count": 79,
      "outputs": [
        {
          "output_type": "stream",
          "name": "stdout",
          "text": [
            "F1-Score: 0.840 (0.024)\n"
          ]
        }
      ]
    },
    {
      "cell_type": "code",
      "source": [
        "cv =RepeatedStratifiedKFold(n_splits=10,n_repeats=3,random_state=1)\n",
        "n_scores5 = cross_val_score(KNN,X,Y, scoring='f1_weighted', cv=cv, n_jobs=-1, error_score='raise')\n",
        "\n",
        "\n",
        "# report performance\n",
        "print('F1-Score: %.3f (%.3f)' % (mean(n_scores5), std(n_scores5)))"
      ],
      "metadata": {
        "colab": {
          "base_uri": "https://localhost:8080/"
        },
        "id": "kJ6geIgbko-O",
        "outputId": "a510f737-300d-40e5-ead9-42f1e5bdc39b"
      },
      "execution_count": 80,
      "outputs": [
        {
          "output_type": "stream",
          "name": "stdout",
          "text": [
            "F1-Score: 0.891 (0.013)\n"
          ]
        }
      ]
    },
    {
      "cell_type": "code",
      "source": [
        "cv =RepeatedStratifiedKFold(n_splits=10,n_repeats=3,random_state=1)\n",
        "n_scores6 = cross_val_score(ADAC,X,Y, scoring='f1_weighted', cv=cv, n_jobs=-1, error_score='raise')\n",
        "\n",
        "\n",
        "# report performance\n",
        "print('F1-Score: %.3f (%.3f)' % (mean(n_scores6), std(n_scores6)))\n"
      ],
      "metadata": {
        "colab": {
          "base_uri": "https://localhost:8080/"
        },
        "id": "q9ttmOUDk7pq",
        "outputId": "28fd406d-8fac-4449-db76-2254ca1fef42"
      },
      "execution_count": 81,
      "outputs": [
        {
          "output_type": "stream",
          "name": "stdout",
          "text": [
            "F1-Score: 0.574 (0.055)\n"
          ]
        }
      ]
    },
    {
      "cell_type": "code",
      "source": [
        "# get a stacking ensemble of models\n",
        "def get_stacking():\n",
        "  # define the base model\n",
        "  level0 = list()\n",
        "  level0.append(('lr', LogisticRegression()))\n",
        "  level0.append(('cart', DecisionTreeClassifier()))\n",
        "  level0.append(('ADA', AdaBoostClassifier()))\n",
        "  level0.append(('bayes', GaussianNB()))\n",
        "  level0.append((\"RFC\",RandomForestClassifier()))\n",
        "\t# define meta learner model\n",
        "  level1 =  LogisticRegression()\n",
        "  # define the stacking ensemble\n",
        "  model = StackingClassifier(estimators=level0, final_estimator=level1, cv=5)\n",
        "  return model"
      ],
      "metadata": {
        "id": "6cxBmGb87_o0"
      },
      "execution_count": 82,
      "outputs": []
    },
    {
      "cell_type": "code",
      "source": [
        "# define the model\n",
        "model = get_stacking()\n",
        "\n",
        "# evaluate the model\n",
        "cv = RepeatedStratifiedKFold(n_splits=10, n_repeats=3, random_state=1)\n",
        "n_scores7 = cross_val_score(model, X,Y, scoring='f1_weighted', cv=cv, n_jobs=-1, error_score='raise')\n",
        "\n",
        "\n",
        "# report performance\n",
        "print('F1-Score: %.3f (%.3f)' % (mean(n_scores7), std(n_scores7)))"
      ],
      "metadata": {
        "colab": {
          "base_uri": "https://localhost:8080/"
        },
        "id": "tmrOoi-8AczL",
        "outputId": "a0df9abc-e16f-4c58-a40b-cfcfb8ce461d"
      },
      "execution_count": 83,
      "outputs": [
        {
          "output_type": "stream",
          "name": "stdout",
          "text": [
            "F1-Score: 0.936 (0.014)\n"
          ]
        }
      ]
    },
    {
      "cell_type": "code",
      "source": [
        "model = get_stacking().fit(X_train,Y_train)\n"
      ],
      "metadata": {
        "id": "yyGEq7T8dbrs"
      },
      "execution_count": 84,
      "outputs": []
    },
    {
      "cell_type": "code",
      "source": [
        "stack_pred=model.predict(X_test)"
      ],
      "metadata": {
        "id": "xhjxeSEjdpMM"
      },
      "execution_count": 85,
      "outputs": []
    },
    {
      "cell_type": "code",
      "source": [
        "acc_stack = model.score(X_train,Y_train)\n",
        "acc_stack = model.score(X_test,Y_test)\n",
        "Accuracy_stack=accuracy_score(Y_test,stack_pred)\n",
        "stack_pres = precision_score(Y_test,stack_pred,average='weighted')\n",
        "stack_recall = recall_score(Y_test,stack_pred,average='weighted')\n",
        "satck_f1 = f1_score(Y_test,stack_pred,average='weighted')\n",
        "print(\"Accuarcy of Train:\",acc_stack,\"\\n\",\"Accuarcy of Test:\",acc_stack,\"\\n\",\"Precision score:\",stack_pres,\"\\n\",\"Recall score\",stack_recall,\"\\n\",\"F1 SCORE\",satck_f1,\"\\n\",\"ACCURACY SCORE\",Accuracy_stack)"
      ],
      "metadata": {
        "colab": {
          "base_uri": "https://localhost:8080/"
        },
        "id": "T2l0zHHLeJsJ",
        "outputId": "3bbf67e7-6d25-427b-a2b9-7d2791b3455d"
      },
      "execution_count": 86,
      "outputs": [
        {
          "output_type": "stream",
          "name": "stdout",
          "text": [
            "Accuarcy of Train: 0.935 \n",
            " Accuarcy of Test: 0.935 \n",
            " Precision score: 0.9353639242530869 \n",
            " Recall score 0.935 \n",
            " F1 SCORE 0.9342240105364491 \n",
            " ACCURACY SCORE 0.935\n"
          ]
        }
      ]
    },
    {
      "cell_type": "code",
      "source": [
        "#comparision of metrices\n",
        "com=[\n",
        "    [\"ACCUARCY SCORE\",Accuracy_LR,Accuracy_DT,Accuracy_RF,Accuracy_GB,Accuracy_ADAC,Accuracy_KNN,Accuracy_stack],\n",
        "    [\"PRECISION\",Pression_LR,dt_pres,RF_pres,GB_pres,ADAC_pres,KNN_pres,stack_pres],\n",
        "    [\"RECALL SCORE\",Recall_LR,dt_recall,RF_recall,GB_recall,KNN_recall,ADAC_recall,stack_pres],\n",
        "    [\"F1_SCORE\",F1_LR,dt_f1,RF_f1,GB_f1,KNN_f1,ADAC_f1,stack_pres]\n",
        "    ]\n",
        "df=pd.DataFrame(com,columns=[[\"METRICES\",\"LOGISTIC REGRESSION\",\"DECISION TREE\",\"RANDOM FOREST\",\"GAUSSIAN BAYES\",\"K-NEAREST-NEIGHBOUR\",\"ADABOOST\",\"STACKING\"]])\n",
        "df"
      ],
      "metadata": {
        "colab": {
          "base_uri": "https://localhost:8080/",
          "height": 175
        },
        "id": "pXgAcZsMRwi4",
        "outputId": "e289a9c9-a165-47cc-efb9-1834b9c56a2d"
      },
      "execution_count": 88,
      "outputs": [
        {
          "output_type": "execute_result",
          "data": {
            "text/plain": [
              "         METRICES LOGISTIC REGRESSION DECISION TREE RANDOM FOREST  \\\n",
              "0  ACCUARCY SCORE            0.926667      0.926667      0.885000   \n",
              "1       PRECISION            0.928730      0.855894      0.889273   \n",
              "2    RECALL SCORE            0.926667      0.853333      0.885000   \n",
              "3        F1_SCORE            0.919712      0.851861      0.879277   \n",
              "\n",
              "  GAUSSIAN BAYES K-NEAREST-NEIGHBOUR  ADABOOST  STACKING  \n",
              "0       0.840000            0.738333  0.900000  0.935000  \n",
              "1       0.839107            0.745500  0.901637  0.935364  \n",
              "2       0.840000            0.900000  0.738333  0.935364  \n",
              "3       0.838339            0.897157  0.728465  0.935364  "
            ],
            "text/html": [
              "\n",
              "  <div id=\"df-429a25f3-7782-4609-aeb1-5627216e38c7\">\n",
              "    <div class=\"colab-df-container\">\n",
              "      <div>\n",
              "<style scoped>\n",
              "    .dataframe tbody tr th:only-of-type {\n",
              "        vertical-align: middle;\n",
              "    }\n",
              "\n",
              "    .dataframe tbody tr th {\n",
              "        vertical-align: top;\n",
              "    }\n",
              "\n",
              "    .dataframe thead tr th {\n",
              "        text-align: left;\n",
              "    }\n",
              "</style>\n",
              "<table border=\"1\" class=\"dataframe\">\n",
              "  <thead>\n",
              "    <tr>\n",
              "      <th></th>\n",
              "      <th>METRICES</th>\n",
              "      <th>LOGISTIC REGRESSION</th>\n",
              "      <th>DECISION TREE</th>\n",
              "      <th>RANDOM FOREST</th>\n",
              "      <th>GAUSSIAN BAYES</th>\n",
              "      <th>K-NEAREST-NEIGHBOUR</th>\n",
              "      <th>ADABOOST</th>\n",
              "      <th>STACKING</th>\n",
              "    </tr>\n",
              "  </thead>\n",
              "  <tbody>\n",
              "    <tr>\n",
              "      <th>0</th>\n",
              "      <td>ACCUARCY SCORE</td>\n",
              "      <td>0.926667</td>\n",
              "      <td>0.926667</td>\n",
              "      <td>0.885000</td>\n",
              "      <td>0.840000</td>\n",
              "      <td>0.738333</td>\n",
              "      <td>0.900000</td>\n",
              "      <td>0.935000</td>\n",
              "    </tr>\n",
              "    <tr>\n",
              "      <th>1</th>\n",
              "      <td>PRECISION</td>\n",
              "      <td>0.928730</td>\n",
              "      <td>0.855894</td>\n",
              "      <td>0.889273</td>\n",
              "      <td>0.839107</td>\n",
              "      <td>0.745500</td>\n",
              "      <td>0.901637</td>\n",
              "      <td>0.935364</td>\n",
              "    </tr>\n",
              "    <tr>\n",
              "      <th>2</th>\n",
              "      <td>RECALL SCORE</td>\n",
              "      <td>0.926667</td>\n",
              "      <td>0.853333</td>\n",
              "      <td>0.885000</td>\n",
              "      <td>0.840000</td>\n",
              "      <td>0.900000</td>\n",
              "      <td>0.738333</td>\n",
              "      <td>0.935364</td>\n",
              "    </tr>\n",
              "    <tr>\n",
              "      <th>3</th>\n",
              "      <td>F1_SCORE</td>\n",
              "      <td>0.919712</td>\n",
              "      <td>0.851861</td>\n",
              "      <td>0.879277</td>\n",
              "      <td>0.838339</td>\n",
              "      <td>0.897157</td>\n",
              "      <td>0.728465</td>\n",
              "      <td>0.935364</td>\n",
              "    </tr>\n",
              "  </tbody>\n",
              "</table>\n",
              "</div>\n",
              "      <button class=\"colab-df-convert\" onclick=\"convertToInteractive('df-429a25f3-7782-4609-aeb1-5627216e38c7')\"\n",
              "              title=\"Convert this dataframe to an interactive table.\"\n",
              "              style=\"display:none;\">\n",
              "        \n",
              "  <svg xmlns=\"http://www.w3.org/2000/svg\" height=\"24px\"viewBox=\"0 0 24 24\"\n",
              "       width=\"24px\">\n",
              "    <path d=\"M0 0h24v24H0V0z\" fill=\"none\"/>\n",
              "    <path d=\"M18.56 5.44l.94 2.06.94-2.06 2.06-.94-2.06-.94-.94-2.06-.94 2.06-2.06.94zm-11 1L8.5 8.5l.94-2.06 2.06-.94-2.06-.94L8.5 2.5l-.94 2.06-2.06.94zm10 10l.94 2.06.94-2.06 2.06-.94-2.06-.94-.94-2.06-.94 2.06-2.06.94z\"/><path d=\"M17.41 7.96l-1.37-1.37c-.4-.4-.92-.59-1.43-.59-.52 0-1.04.2-1.43.59L10.3 9.45l-7.72 7.72c-.78.78-.78 2.05 0 2.83L4 21.41c.39.39.9.59 1.41.59.51 0 1.02-.2 1.41-.59l7.78-7.78 2.81-2.81c.8-.78.8-2.07 0-2.86zM5.41 20L4 18.59l7.72-7.72 1.47 1.35L5.41 20z\"/>\n",
              "  </svg>\n",
              "      </button>\n",
              "      \n",
              "  <style>\n",
              "    .colab-df-container {\n",
              "      display:flex;\n",
              "      flex-wrap:wrap;\n",
              "      gap: 12px;\n",
              "    }\n",
              "\n",
              "    .colab-df-convert {\n",
              "      background-color: #E8F0FE;\n",
              "      border: none;\n",
              "      border-radius: 50%;\n",
              "      cursor: pointer;\n",
              "      display: none;\n",
              "      fill: #1967D2;\n",
              "      height: 32px;\n",
              "      padding: 0 0 0 0;\n",
              "      width: 32px;\n",
              "    }\n",
              "\n",
              "    .colab-df-convert:hover {\n",
              "      background-color: #E2EBFA;\n",
              "      box-shadow: 0px 1px 2px rgba(60, 64, 67, 0.3), 0px 1px 3px 1px rgba(60, 64, 67, 0.15);\n",
              "      fill: #174EA6;\n",
              "    }\n",
              "\n",
              "    [theme=dark] .colab-df-convert {\n",
              "      background-color: #3B4455;\n",
              "      fill: #D2E3FC;\n",
              "    }\n",
              "\n",
              "    [theme=dark] .colab-df-convert:hover {\n",
              "      background-color: #434B5C;\n",
              "      box-shadow: 0px 1px 3px 1px rgba(0, 0, 0, 0.15);\n",
              "      filter: drop-shadow(0px 1px 2px rgba(0, 0, 0, 0.3));\n",
              "      fill: #FFFFFF;\n",
              "    }\n",
              "  </style>\n",
              "\n",
              "      <script>\n",
              "        const buttonEl =\n",
              "          document.querySelector('#df-429a25f3-7782-4609-aeb1-5627216e38c7 button.colab-df-convert');\n",
              "        buttonEl.style.display =\n",
              "          google.colab.kernel.accessAllowed ? 'block' : 'none';\n",
              "\n",
              "        async function convertToInteractive(key) {\n",
              "          const element = document.querySelector('#df-429a25f3-7782-4609-aeb1-5627216e38c7');\n",
              "          const dataTable =\n",
              "            await google.colab.kernel.invokeFunction('convertToInteractive',\n",
              "                                                     [key], {});\n",
              "          if (!dataTable) return;\n",
              "\n",
              "          const docLinkHtml = 'Like what you see? Visit the ' +\n",
              "            '<a target=\"_blank\" href=https://colab.research.google.com/notebooks/data_table.ipynb>data table notebook</a>'\n",
              "            + ' to learn more about interactive tables.';\n",
              "          element.innerHTML = '';\n",
              "          dataTable['output_type'] = 'display_data';\n",
              "          await google.colab.output.renderOutput(dataTable, element);\n",
              "          const docLink = document.createElement('div');\n",
              "          docLink.innerHTML = docLinkHtml;\n",
              "          element.appendChild(docLink);\n",
              "        }\n",
              "      </script>\n",
              "    </div>\n",
              "  </div>\n",
              "  "
            ]
          },
          "metadata": {},
          "execution_count": 88
        }
      ]
    },
    {
      "cell_type": "markdown",
      "source": [
        "**CONCLUSION**"
      ],
      "metadata": {
        "id": "2OquuthGixYM"
      }
    },
    {
      "cell_type": "markdown",
      "source": [
        "\n",
        "*   Compare to the All models STACKING and LOGISTIC REGRESSION are predicting good accuracy. IN Stacking model having 93% of the ACCURACY SCORE and LOGISTIC REGRESSION having the 92% of the ACCUARCY SCORE \n",
        "\n",
        "*   IN STACKING model having 93% of the F1-SCORE and LOGISTIC REGRESSION having the 91% of the F1-SCORE \n",
        "*   From the analysis STACKING is the best model for the house sale data \n",
        "\n"
      ],
      "metadata": {
        "id": "x6wuQAS5Ru9c"
      }
    }
  ]
}